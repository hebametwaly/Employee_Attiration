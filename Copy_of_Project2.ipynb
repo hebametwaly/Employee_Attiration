{
  "cells": [
    {
      "cell_type": "code",
      "execution_count": null,
      "metadata": {
        "colab": {
          "base_uri": "https://localhost:8080/"
        },
        "id": "e5WfuVoZ5DAg",
        "outputId": "63afa53b-6f7b-4383-e7dd-c7f1d4263590"
      },
      "outputs": [
        {
          "output_type": "stream",
          "name": "stdout",
          "text": [
            "Requirement already satisfied: plotly in /usr/local/lib/python3.11/dist-packages (5.24.1)\n",
            "Requirement already satisfied: tenacity>=6.2.0 in /usr/local/lib/python3.11/dist-packages (from plotly) (9.1.2)\n",
            "Requirement already satisfied: packaging in /usr/local/lib/python3.11/dist-packages (from plotly) (24.2)\n"
          ]
        }
      ],
      "source": [
        "!pip install plotly\n",
        "import pandas as pd\n",
        "import numpy as np\n",
        "import seaborn as sns\n",
        "import matplotlib.pyplot as plt\n",
        "from scipy.stats import ttest_ind, chi2_contingency, f_oneway\n",
        "from sklearn.feature_selection import RFE, mutual_info_classif\n",
        "from sklearn.linear_model import LogisticRegression\n",
        "from sklearn.preprocessing import StandardScaler\n",
        "from sklearn.preprocessing import LabelEncoder, MinMaxScaler\n",
        "from sklearn.model_selection import train_test_split\n",
        "import plotly.express as px"
      ]
    },
    {
      "cell_type": "code",
      "execution_count": null,
      "metadata": {
        "colab": {
          "base_uri": "https://localhost:8080/",
          "height": 73
        },
        "id": "x0ANUWbz5IMu",
        "outputId": "07ec792b-971f-440f-ed06-54971c7a08b7"
      },
      "outputs": [
        {
          "output_type": "display_data",
          "data": {
            "text/plain": [
              "<IPython.core.display.HTML object>"
            ],
            "text/html": [
              "\n",
              "     <input type=\"file\" id=\"files-efc2902a-c84c-498d-9cd8-26b1d4308c40\" name=\"files[]\" multiple disabled\n",
              "        style=\"border:none\" />\n",
              "     <output id=\"result-efc2902a-c84c-498d-9cd8-26b1d4308c40\">\n",
              "      Upload widget is only available when the cell has been executed in the\n",
              "      current browser session. Please rerun this cell to enable.\n",
              "      </output>\n",
              "      <script>// Copyright 2017 Google LLC\n",
              "//\n",
              "// Licensed under the Apache License, Version 2.0 (the \"License\");\n",
              "// you may not use this file except in compliance with the License.\n",
              "// You may obtain a copy of the License at\n",
              "//\n",
              "//      http://www.apache.org/licenses/LICENSE-2.0\n",
              "//\n",
              "// Unless required by applicable law or agreed to in writing, software\n",
              "// distributed under the License is distributed on an \"AS IS\" BASIS,\n",
              "// WITHOUT WARRANTIES OR CONDITIONS OF ANY KIND, either express or implied.\n",
              "// See the License for the specific language governing permissions and\n",
              "// limitations under the License.\n",
              "\n",
              "/**\n",
              " * @fileoverview Helpers for google.colab Python module.\n",
              " */\n",
              "(function(scope) {\n",
              "function span(text, styleAttributes = {}) {\n",
              "  const element = document.createElement('span');\n",
              "  element.textContent = text;\n",
              "  for (const key of Object.keys(styleAttributes)) {\n",
              "    element.style[key] = styleAttributes[key];\n",
              "  }\n",
              "  return element;\n",
              "}\n",
              "\n",
              "// Max number of bytes which will be uploaded at a time.\n",
              "const MAX_PAYLOAD_SIZE = 100 * 1024;\n",
              "\n",
              "function _uploadFiles(inputId, outputId) {\n",
              "  const steps = uploadFilesStep(inputId, outputId);\n",
              "  const outputElement = document.getElementById(outputId);\n",
              "  // Cache steps on the outputElement to make it available for the next call\n",
              "  // to uploadFilesContinue from Python.\n",
              "  outputElement.steps = steps;\n",
              "\n",
              "  return _uploadFilesContinue(outputId);\n",
              "}\n",
              "\n",
              "// This is roughly an async generator (not supported in the browser yet),\n",
              "// where there are multiple asynchronous steps and the Python side is going\n",
              "// to poll for completion of each step.\n",
              "// This uses a Promise to block the python side on completion of each step,\n",
              "// then passes the result of the previous step as the input to the next step.\n",
              "function _uploadFilesContinue(outputId) {\n",
              "  const outputElement = document.getElementById(outputId);\n",
              "  const steps = outputElement.steps;\n",
              "\n",
              "  const next = steps.next(outputElement.lastPromiseValue);\n",
              "  return Promise.resolve(next.value.promise).then((value) => {\n",
              "    // Cache the last promise value to make it available to the next\n",
              "    // step of the generator.\n",
              "    outputElement.lastPromiseValue = value;\n",
              "    return next.value.response;\n",
              "  });\n",
              "}\n",
              "\n",
              "/**\n",
              " * Generator function which is called between each async step of the upload\n",
              " * process.\n",
              " * @param {string} inputId Element ID of the input file picker element.\n",
              " * @param {string} outputId Element ID of the output display.\n",
              " * @return {!Iterable<!Object>} Iterable of next steps.\n",
              " */\n",
              "function* uploadFilesStep(inputId, outputId) {\n",
              "  const inputElement = document.getElementById(inputId);\n",
              "  inputElement.disabled = false;\n",
              "\n",
              "  const outputElement = document.getElementById(outputId);\n",
              "  outputElement.innerHTML = '';\n",
              "\n",
              "  const pickedPromise = new Promise((resolve) => {\n",
              "    inputElement.addEventListener('change', (e) => {\n",
              "      resolve(e.target.files);\n",
              "    });\n",
              "  });\n",
              "\n",
              "  const cancel = document.createElement('button');\n",
              "  inputElement.parentElement.appendChild(cancel);\n",
              "  cancel.textContent = 'Cancel upload';\n",
              "  const cancelPromise = new Promise((resolve) => {\n",
              "    cancel.onclick = () => {\n",
              "      resolve(null);\n",
              "    };\n",
              "  });\n",
              "\n",
              "  // Wait for the user to pick the files.\n",
              "  const files = yield {\n",
              "    promise: Promise.race([pickedPromise, cancelPromise]),\n",
              "    response: {\n",
              "      action: 'starting',\n",
              "    }\n",
              "  };\n",
              "\n",
              "  cancel.remove();\n",
              "\n",
              "  // Disable the input element since further picks are not allowed.\n",
              "  inputElement.disabled = true;\n",
              "\n",
              "  if (!files) {\n",
              "    return {\n",
              "      response: {\n",
              "        action: 'complete',\n",
              "      }\n",
              "    };\n",
              "  }\n",
              "\n",
              "  for (const file of files) {\n",
              "    const li = document.createElement('li');\n",
              "    li.append(span(file.name, {fontWeight: 'bold'}));\n",
              "    li.append(span(\n",
              "        `(${file.type || 'n/a'}) - ${file.size} bytes, ` +\n",
              "        `last modified: ${\n",
              "            file.lastModifiedDate ? file.lastModifiedDate.toLocaleDateString() :\n",
              "                                    'n/a'} - `));\n",
              "    const percent = span('0% done');\n",
              "    li.appendChild(percent);\n",
              "\n",
              "    outputElement.appendChild(li);\n",
              "\n",
              "    const fileDataPromise = new Promise((resolve) => {\n",
              "      const reader = new FileReader();\n",
              "      reader.onload = (e) => {\n",
              "        resolve(e.target.result);\n",
              "      };\n",
              "      reader.readAsArrayBuffer(file);\n",
              "    });\n",
              "    // Wait for the data to be ready.\n",
              "    let fileData = yield {\n",
              "      promise: fileDataPromise,\n",
              "      response: {\n",
              "        action: 'continue',\n",
              "      }\n",
              "    };\n",
              "\n",
              "    // Use a chunked sending to avoid message size limits. See b/62115660.\n",
              "    let position = 0;\n",
              "    do {\n",
              "      const length = Math.min(fileData.byteLength - position, MAX_PAYLOAD_SIZE);\n",
              "      const chunk = new Uint8Array(fileData, position, length);\n",
              "      position += length;\n",
              "\n",
              "      const base64 = btoa(String.fromCharCode.apply(null, chunk));\n",
              "      yield {\n",
              "        response: {\n",
              "          action: 'append',\n",
              "          file: file.name,\n",
              "          data: base64,\n",
              "        },\n",
              "      };\n",
              "\n",
              "      let percentDone = fileData.byteLength === 0 ?\n",
              "          100 :\n",
              "          Math.round((position / fileData.byteLength) * 100);\n",
              "      percent.textContent = `${percentDone}% done`;\n",
              "\n",
              "    } while (position < fileData.byteLength);\n",
              "  }\n",
              "\n",
              "  // All done.\n",
              "  yield {\n",
              "    response: {\n",
              "      action: 'complete',\n",
              "    }\n",
              "  };\n",
              "}\n",
              "\n",
              "scope.google = scope.google || {};\n",
              "scope.google.colab = scope.google.colab || {};\n",
              "scope.google.colab._files = {\n",
              "  _uploadFiles,\n",
              "  _uploadFilesContinue,\n",
              "};\n",
              "})(self);\n",
              "</script> "
            ]
          },
          "metadata": {}
        },
        {
          "output_type": "stream",
          "name": "stdout",
          "text": [
            "Saving employee_attrition_dataset.csv to employee_attrition_dataset.csv\n"
          ]
        }
      ],
      "source": [
        "from google.colab import files\n",
        "uploaded = files.upload()\n"
      ]
    },
    {
      "cell_type": "code",
      "execution_count": null,
      "metadata": {
        "id": "S4kcjekv5HxD",
        "colab": {
          "base_uri": "https://localhost:8080/",
          "height": 255
        },
        "outputId": "9058213e-97e1-4fcb-8a24-c195f539eec4"
      },
      "outputs": [
        {
          "output_type": "execute_result",
          "data": {
            "text/plain": [
              "   Employee_ID  Age  Gender Marital_Status Department   Job_Role  Job_Level  \\\n",
              "0            1   58  Female        Married         IT    Manager          1   \n",
              "1            2   48  Female        Married      Sales  Assistant          5   \n",
              "2            3   34    Male        Married  Marketing  Assistant          1   \n",
              "3            4   27  Female       Divorced  Marketing    Manager          1   \n",
              "4            5   40    Male       Divorced  Marketing  Executive          1   \n",
              "\n",
              "   Monthly_Income  Hourly_Rate  Years_at_Company  ...  Overtime  \\\n",
              "0           15488           28                15  ...        No   \n",
              "1           13079           28                 6  ...       Yes   \n",
              "2           13744           24                24  ...       Yes   \n",
              "3            6809           26                10  ...        No   \n",
              "4           10206           52                29  ...        No   \n",
              "\n",
              "   Project_Count  Average_Hours_Worked_Per_Week  Absenteeism  \\\n",
              "0              6                             54           17   \n",
              "1              2                             45            1   \n",
              "2              6                             34            2   \n",
              "3              9                             48           18   \n",
              "4              3                             33            0   \n",
              "\n",
              "   Work_Environment_Satisfaction  Relationship_with_Manager Job_Involvement  \\\n",
              "0                              4                          4               4   \n",
              "1                              4                          1               2   \n",
              "2                              3                          4               4   \n",
              "3                              2                          3               1   \n",
              "4                              4                          1               3   \n",
              "\n",
              "   Distance_From_Home  Number_of_Companies_Worked  Attrition  \n",
              "0                  20                           3         No  \n",
              "1                  25                           2         No  \n",
              "2                  45                           3         No  \n",
              "3                  35                           3         No  \n",
              "4                  44                           3         No  \n",
              "\n",
              "[5 rows x 26 columns]"
            ],
            "text/html": [
              "\n",
              "  <div id=\"df-38e743e5-ba4b-401a-9939-5307c76ee6de\" class=\"colab-df-container\">\n",
              "    <div>\n",
              "<style scoped>\n",
              "    .dataframe tbody tr th:only-of-type {\n",
              "        vertical-align: middle;\n",
              "    }\n",
              "\n",
              "    .dataframe tbody tr th {\n",
              "        vertical-align: top;\n",
              "    }\n",
              "\n",
              "    .dataframe thead th {\n",
              "        text-align: right;\n",
              "    }\n",
              "</style>\n",
              "<table border=\"1\" class=\"dataframe\">\n",
              "  <thead>\n",
              "    <tr style=\"text-align: right;\">\n",
              "      <th></th>\n",
              "      <th>Employee_ID</th>\n",
              "      <th>Age</th>\n",
              "      <th>Gender</th>\n",
              "      <th>Marital_Status</th>\n",
              "      <th>Department</th>\n",
              "      <th>Job_Role</th>\n",
              "      <th>Job_Level</th>\n",
              "      <th>Monthly_Income</th>\n",
              "      <th>Hourly_Rate</th>\n",
              "      <th>Years_at_Company</th>\n",
              "      <th>...</th>\n",
              "      <th>Overtime</th>\n",
              "      <th>Project_Count</th>\n",
              "      <th>Average_Hours_Worked_Per_Week</th>\n",
              "      <th>Absenteeism</th>\n",
              "      <th>Work_Environment_Satisfaction</th>\n",
              "      <th>Relationship_with_Manager</th>\n",
              "      <th>Job_Involvement</th>\n",
              "      <th>Distance_From_Home</th>\n",
              "      <th>Number_of_Companies_Worked</th>\n",
              "      <th>Attrition</th>\n",
              "    </tr>\n",
              "  </thead>\n",
              "  <tbody>\n",
              "    <tr>\n",
              "      <th>0</th>\n",
              "      <td>1</td>\n",
              "      <td>58</td>\n",
              "      <td>Female</td>\n",
              "      <td>Married</td>\n",
              "      <td>IT</td>\n",
              "      <td>Manager</td>\n",
              "      <td>1</td>\n",
              "      <td>15488</td>\n",
              "      <td>28</td>\n",
              "      <td>15</td>\n",
              "      <td>...</td>\n",
              "      <td>No</td>\n",
              "      <td>6</td>\n",
              "      <td>54</td>\n",
              "      <td>17</td>\n",
              "      <td>4</td>\n",
              "      <td>4</td>\n",
              "      <td>4</td>\n",
              "      <td>20</td>\n",
              "      <td>3</td>\n",
              "      <td>No</td>\n",
              "    </tr>\n",
              "    <tr>\n",
              "      <th>1</th>\n",
              "      <td>2</td>\n",
              "      <td>48</td>\n",
              "      <td>Female</td>\n",
              "      <td>Married</td>\n",
              "      <td>Sales</td>\n",
              "      <td>Assistant</td>\n",
              "      <td>5</td>\n",
              "      <td>13079</td>\n",
              "      <td>28</td>\n",
              "      <td>6</td>\n",
              "      <td>...</td>\n",
              "      <td>Yes</td>\n",
              "      <td>2</td>\n",
              "      <td>45</td>\n",
              "      <td>1</td>\n",
              "      <td>4</td>\n",
              "      <td>1</td>\n",
              "      <td>2</td>\n",
              "      <td>25</td>\n",
              "      <td>2</td>\n",
              "      <td>No</td>\n",
              "    </tr>\n",
              "    <tr>\n",
              "      <th>2</th>\n",
              "      <td>3</td>\n",
              "      <td>34</td>\n",
              "      <td>Male</td>\n",
              "      <td>Married</td>\n",
              "      <td>Marketing</td>\n",
              "      <td>Assistant</td>\n",
              "      <td>1</td>\n",
              "      <td>13744</td>\n",
              "      <td>24</td>\n",
              "      <td>24</td>\n",
              "      <td>...</td>\n",
              "      <td>Yes</td>\n",
              "      <td>6</td>\n",
              "      <td>34</td>\n",
              "      <td>2</td>\n",
              "      <td>3</td>\n",
              "      <td>4</td>\n",
              "      <td>4</td>\n",
              "      <td>45</td>\n",
              "      <td>3</td>\n",
              "      <td>No</td>\n",
              "    </tr>\n",
              "    <tr>\n",
              "      <th>3</th>\n",
              "      <td>4</td>\n",
              "      <td>27</td>\n",
              "      <td>Female</td>\n",
              "      <td>Divorced</td>\n",
              "      <td>Marketing</td>\n",
              "      <td>Manager</td>\n",
              "      <td>1</td>\n",
              "      <td>6809</td>\n",
              "      <td>26</td>\n",
              "      <td>10</td>\n",
              "      <td>...</td>\n",
              "      <td>No</td>\n",
              "      <td>9</td>\n",
              "      <td>48</td>\n",
              "      <td>18</td>\n",
              "      <td>2</td>\n",
              "      <td>3</td>\n",
              "      <td>1</td>\n",
              "      <td>35</td>\n",
              "      <td>3</td>\n",
              "      <td>No</td>\n",
              "    </tr>\n",
              "    <tr>\n",
              "      <th>4</th>\n",
              "      <td>5</td>\n",
              "      <td>40</td>\n",
              "      <td>Male</td>\n",
              "      <td>Divorced</td>\n",
              "      <td>Marketing</td>\n",
              "      <td>Executive</td>\n",
              "      <td>1</td>\n",
              "      <td>10206</td>\n",
              "      <td>52</td>\n",
              "      <td>29</td>\n",
              "      <td>...</td>\n",
              "      <td>No</td>\n",
              "      <td>3</td>\n",
              "      <td>33</td>\n",
              "      <td>0</td>\n",
              "      <td>4</td>\n",
              "      <td>1</td>\n",
              "      <td>3</td>\n",
              "      <td>44</td>\n",
              "      <td>3</td>\n",
              "      <td>No</td>\n",
              "    </tr>\n",
              "  </tbody>\n",
              "</table>\n",
              "<p>5 rows × 26 columns</p>\n",
              "</div>\n",
              "    <div class=\"colab-df-buttons\">\n",
              "\n",
              "  <div class=\"colab-df-container\">\n",
              "    <button class=\"colab-df-convert\" onclick=\"convertToInteractive('df-38e743e5-ba4b-401a-9939-5307c76ee6de')\"\n",
              "            title=\"Convert this dataframe to an interactive table.\"\n",
              "            style=\"display:none;\">\n",
              "\n",
              "  <svg xmlns=\"http://www.w3.org/2000/svg\" height=\"24px\" viewBox=\"0 -960 960 960\">\n",
              "    <path d=\"M120-120v-720h720v720H120Zm60-500h600v-160H180v160Zm220 220h160v-160H400v160Zm0 220h160v-160H400v160ZM180-400h160v-160H180v160Zm440 0h160v-160H620v160ZM180-180h160v-160H180v160Zm440 0h160v-160H620v160Z\"/>\n",
              "  </svg>\n",
              "    </button>\n",
              "\n",
              "  <style>\n",
              "    .colab-df-container {\n",
              "      display:flex;\n",
              "      gap: 12px;\n",
              "    }\n",
              "\n",
              "    .colab-df-convert {\n",
              "      background-color: #E8F0FE;\n",
              "      border: none;\n",
              "      border-radius: 50%;\n",
              "      cursor: pointer;\n",
              "      display: none;\n",
              "      fill: #1967D2;\n",
              "      height: 32px;\n",
              "      padding: 0 0 0 0;\n",
              "      width: 32px;\n",
              "    }\n",
              "\n",
              "    .colab-df-convert:hover {\n",
              "      background-color: #E2EBFA;\n",
              "      box-shadow: 0px 1px 2px rgba(60, 64, 67, 0.3), 0px 1px 3px 1px rgba(60, 64, 67, 0.15);\n",
              "      fill: #174EA6;\n",
              "    }\n",
              "\n",
              "    .colab-df-buttons div {\n",
              "      margin-bottom: 4px;\n",
              "    }\n",
              "\n",
              "    [theme=dark] .colab-df-convert {\n",
              "      background-color: #3B4455;\n",
              "      fill: #D2E3FC;\n",
              "    }\n",
              "\n",
              "    [theme=dark] .colab-df-convert:hover {\n",
              "      background-color: #434B5C;\n",
              "      box-shadow: 0px 1px 3px 1px rgba(0, 0, 0, 0.15);\n",
              "      filter: drop-shadow(0px 1px 2px rgba(0, 0, 0, 0.3));\n",
              "      fill: #FFFFFF;\n",
              "    }\n",
              "  </style>\n",
              "\n",
              "    <script>\n",
              "      const buttonEl =\n",
              "        document.querySelector('#df-38e743e5-ba4b-401a-9939-5307c76ee6de button.colab-df-convert');\n",
              "      buttonEl.style.display =\n",
              "        google.colab.kernel.accessAllowed ? 'block' : 'none';\n",
              "\n",
              "      async function convertToInteractive(key) {\n",
              "        const element = document.querySelector('#df-38e743e5-ba4b-401a-9939-5307c76ee6de');\n",
              "        const dataTable =\n",
              "          await google.colab.kernel.invokeFunction('convertToInteractive',\n",
              "                                                    [key], {});\n",
              "        if (!dataTable) return;\n",
              "\n",
              "        const docLinkHtml = 'Like what you see? Visit the ' +\n",
              "          '<a target=\"_blank\" href=https://colab.research.google.com/notebooks/data_table.ipynb>data table notebook</a>'\n",
              "          + ' to learn more about interactive tables.';\n",
              "        element.innerHTML = '';\n",
              "        dataTable['output_type'] = 'display_data';\n",
              "        await google.colab.output.renderOutput(dataTable, element);\n",
              "        const docLink = document.createElement('div');\n",
              "        docLink.innerHTML = docLinkHtml;\n",
              "        element.appendChild(docLink);\n",
              "      }\n",
              "    </script>\n",
              "  </div>\n",
              "\n",
              "\n",
              "    <div id=\"df-67bdf390-8969-4f7b-82fc-a46c1887cf50\">\n",
              "      <button class=\"colab-df-quickchart\" onclick=\"quickchart('df-67bdf390-8969-4f7b-82fc-a46c1887cf50')\"\n",
              "                title=\"Suggest charts\"\n",
              "                style=\"display:none;\">\n",
              "\n",
              "<svg xmlns=\"http://www.w3.org/2000/svg\" height=\"24px\"viewBox=\"0 0 24 24\"\n",
              "     width=\"24px\">\n",
              "    <g>\n",
              "        <path d=\"M19 3H5c-1.1 0-2 .9-2 2v14c0 1.1.9 2 2 2h14c1.1 0 2-.9 2-2V5c0-1.1-.9-2-2-2zM9 17H7v-7h2v7zm4 0h-2V7h2v10zm4 0h-2v-4h2v4z\"/>\n",
              "    </g>\n",
              "</svg>\n",
              "      </button>\n",
              "\n",
              "<style>\n",
              "  .colab-df-quickchart {\n",
              "      --bg-color: #E8F0FE;\n",
              "      --fill-color: #1967D2;\n",
              "      --hover-bg-color: #E2EBFA;\n",
              "      --hover-fill-color: #174EA6;\n",
              "      --disabled-fill-color: #AAA;\n",
              "      --disabled-bg-color: #DDD;\n",
              "  }\n",
              "\n",
              "  [theme=dark] .colab-df-quickchart {\n",
              "      --bg-color: #3B4455;\n",
              "      --fill-color: #D2E3FC;\n",
              "      --hover-bg-color: #434B5C;\n",
              "      --hover-fill-color: #FFFFFF;\n",
              "      --disabled-bg-color: #3B4455;\n",
              "      --disabled-fill-color: #666;\n",
              "  }\n",
              "\n",
              "  .colab-df-quickchart {\n",
              "    background-color: var(--bg-color);\n",
              "    border: none;\n",
              "    border-radius: 50%;\n",
              "    cursor: pointer;\n",
              "    display: none;\n",
              "    fill: var(--fill-color);\n",
              "    height: 32px;\n",
              "    padding: 0;\n",
              "    width: 32px;\n",
              "  }\n",
              "\n",
              "  .colab-df-quickchart:hover {\n",
              "    background-color: var(--hover-bg-color);\n",
              "    box-shadow: 0 1px 2px rgba(60, 64, 67, 0.3), 0 1px 3px 1px rgba(60, 64, 67, 0.15);\n",
              "    fill: var(--button-hover-fill-color);\n",
              "  }\n",
              "\n",
              "  .colab-df-quickchart-complete:disabled,\n",
              "  .colab-df-quickchart-complete:disabled:hover {\n",
              "    background-color: var(--disabled-bg-color);\n",
              "    fill: var(--disabled-fill-color);\n",
              "    box-shadow: none;\n",
              "  }\n",
              "\n",
              "  .colab-df-spinner {\n",
              "    border: 2px solid var(--fill-color);\n",
              "    border-color: transparent;\n",
              "    border-bottom-color: var(--fill-color);\n",
              "    animation:\n",
              "      spin 1s steps(1) infinite;\n",
              "  }\n",
              "\n",
              "  @keyframes spin {\n",
              "    0% {\n",
              "      border-color: transparent;\n",
              "      border-bottom-color: var(--fill-color);\n",
              "      border-left-color: var(--fill-color);\n",
              "    }\n",
              "    20% {\n",
              "      border-color: transparent;\n",
              "      border-left-color: var(--fill-color);\n",
              "      border-top-color: var(--fill-color);\n",
              "    }\n",
              "    30% {\n",
              "      border-color: transparent;\n",
              "      border-left-color: var(--fill-color);\n",
              "      border-top-color: var(--fill-color);\n",
              "      border-right-color: var(--fill-color);\n",
              "    }\n",
              "    40% {\n",
              "      border-color: transparent;\n",
              "      border-right-color: var(--fill-color);\n",
              "      border-top-color: var(--fill-color);\n",
              "    }\n",
              "    60% {\n",
              "      border-color: transparent;\n",
              "      border-right-color: var(--fill-color);\n",
              "    }\n",
              "    80% {\n",
              "      border-color: transparent;\n",
              "      border-right-color: var(--fill-color);\n",
              "      border-bottom-color: var(--fill-color);\n",
              "    }\n",
              "    90% {\n",
              "      border-color: transparent;\n",
              "      border-bottom-color: var(--fill-color);\n",
              "    }\n",
              "  }\n",
              "</style>\n",
              "\n",
              "      <script>\n",
              "        async function quickchart(key) {\n",
              "          const quickchartButtonEl =\n",
              "            document.querySelector('#' + key + ' button');\n",
              "          quickchartButtonEl.disabled = true;  // To prevent multiple clicks.\n",
              "          quickchartButtonEl.classList.add('colab-df-spinner');\n",
              "          try {\n",
              "            const charts = await google.colab.kernel.invokeFunction(\n",
              "                'suggestCharts', [key], {});\n",
              "          } catch (error) {\n",
              "            console.error('Error during call to suggestCharts:', error);\n",
              "          }\n",
              "          quickchartButtonEl.classList.remove('colab-df-spinner');\n",
              "          quickchartButtonEl.classList.add('colab-df-quickchart-complete');\n",
              "        }\n",
              "        (() => {\n",
              "          let quickchartButtonEl =\n",
              "            document.querySelector('#df-67bdf390-8969-4f7b-82fc-a46c1887cf50 button');\n",
              "          quickchartButtonEl.style.display =\n",
              "            google.colab.kernel.accessAllowed ? 'block' : 'none';\n",
              "        })();\n",
              "      </script>\n",
              "    </div>\n",
              "\n",
              "    </div>\n",
              "  </div>\n"
            ],
            "application/vnd.google.colaboratory.intrinsic+json": {
              "type": "dataframe",
              "variable_name": "data"
            }
          },
          "metadata": {},
          "execution_count": 3
        }
      ],
      "source": [
        "import pandas as pd\n",
        "\n",
        "# Load the uploaded CSV\n",
        "data = pd.read_csv('/content/employee_attrition_dataset.csv')\n",
        "\n",
        "# View the first few rows\n",
        "data.head()\n"
      ]
    },
    {
      "cell_type": "code",
      "execution_count": null,
      "metadata": {
        "id": "pJsAhIys6xEK",
        "colab": {
          "base_uri": "https://localhost:8080/"
        },
        "outputId": "ce7e452c-567f-4c03-ecce-2f2a868d90e1"
      },
      "outputs": [
        {
          "output_type": "execute_result",
          "data": {
            "text/plain": [
              "(1000, 26)"
            ]
          },
          "metadata": {},
          "execution_count": 8
        }
      ],
      "source": [
        "data.shape"
      ]
    },
    {
      "cell_type": "code",
      "execution_count": null,
      "metadata": {
        "id": "bnBbJeir25Dz",
        "colab": {
          "base_uri": "https://localhost:8080/"
        },
        "outputId": "ed4b0ef5-845d-4670-b901-26b5b583900b"
      },
      "outputs": [
        {
          "output_type": "stream",
          "name": "stdout",
          "text": [
            "<class 'pandas.core.frame.DataFrame'>\n",
            "RangeIndex: 1000 entries, 0 to 999\n",
            "Data columns (total 26 columns):\n",
            " #   Column                         Non-Null Count  Dtype \n",
            "---  ------                         --------------  ----- \n",
            " 0   Employee_ID                    1000 non-null   int64 \n",
            " 1   Age                            1000 non-null   int64 \n",
            " 2   Gender                         1000 non-null   object\n",
            " 3   Marital_Status                 1000 non-null   object\n",
            " 4   Department                     1000 non-null   object\n",
            " 5   Job_Role                       1000 non-null   object\n",
            " 6   Job_Level                      1000 non-null   int64 \n",
            " 7   Monthly_Income                 1000 non-null   int64 \n",
            " 8   Hourly_Rate                    1000 non-null   int64 \n",
            " 9   Years_at_Company               1000 non-null   int64 \n",
            " 10  Years_in_Current_Role          1000 non-null   int64 \n",
            " 11  Years_Since_Last_Promotion     1000 non-null   int64 \n",
            " 12  Work_Life_Balance              1000 non-null   int64 \n",
            " 13  Job_Satisfaction               1000 non-null   int64 \n",
            " 14  Performance_Rating             1000 non-null   int64 \n",
            " 15  Training_Hours_Last_Year       1000 non-null   int64 \n",
            " 16  Overtime                       1000 non-null   object\n",
            " 17  Project_Count                  1000 non-null   int64 \n",
            " 18  Average_Hours_Worked_Per_Week  1000 non-null   int64 \n",
            " 19  Absenteeism                    1000 non-null   int64 \n",
            " 20  Work_Environment_Satisfaction  1000 non-null   int64 \n",
            " 21  Relationship_with_Manager      1000 non-null   int64 \n",
            " 22  Job_Involvement                1000 non-null   int64 \n",
            " 23  Distance_From_Home             1000 non-null   int64 \n",
            " 24  Number_of_Companies_Worked     1000 non-null   int64 \n",
            " 25  Attrition                      1000 non-null   object\n",
            "dtypes: int64(20), object(6)\n",
            "memory usage: 203.3+ KB\n"
          ]
        }
      ],
      "source": [
        "data.info()"
      ]
    },
    {
      "cell_type": "code",
      "execution_count": null,
      "metadata": {
        "id": "n89pUHE23DIG",
        "colab": {
          "base_uri": "https://localhost:8080/",
          "height": 115
        },
        "outputId": "18c5a5c8-aba1-499e-95c4-95359f918d95"
      },
      "outputs": [
        {
          "output_type": "execute_result",
          "data": {
            "text/plain": [
              "False    1000\n",
              "Name: count, dtype: int64"
            ],
            "text/html": [
              "<div>\n",
              "<style scoped>\n",
              "    .dataframe tbody tr th:only-of-type {\n",
              "        vertical-align: middle;\n",
              "    }\n",
              "\n",
              "    .dataframe tbody tr th {\n",
              "        vertical-align: top;\n",
              "    }\n",
              "\n",
              "    .dataframe thead th {\n",
              "        text-align: right;\n",
              "    }\n",
              "</style>\n",
              "<table border=\"1\" class=\"dataframe\">\n",
              "  <thead>\n",
              "    <tr style=\"text-align: right;\">\n",
              "      <th></th>\n",
              "      <th>count</th>\n",
              "    </tr>\n",
              "  </thead>\n",
              "  <tbody>\n",
              "    <tr>\n",
              "      <th>False</th>\n",
              "      <td>1000</td>\n",
              "    </tr>\n",
              "  </tbody>\n",
              "</table>\n",
              "</div><br><label><b>dtype:</b> int64</label>"
            ]
          },
          "metadata": {},
          "execution_count": 6
        }
      ],
      "source": [
        "data.duplicated().value_counts()"
      ]
    },
    {
      "cell_type": "code",
      "execution_count": null,
      "metadata": {
        "id": "Dg61h9lk3ahw",
        "colab": {
          "base_uri": "https://localhost:8080/"
        },
        "outputId": "85180e9f-2c4d-450d-94e5-e9fe581a415a"
      },
      "outputs": [
        {
          "output_type": "execute_result",
          "data": {
            "text/plain": [
              "0"
            ]
          },
          "metadata": {},
          "execution_count": 9
        }
      ],
      "source": [
        "duplicate_ids = data[data['Employee_ID'].duplicated()] # 0 False , 1 False\n",
        "duplicate_ids.shape[0]#display duplicated rows , shape[0] returns number of duplicate rows"
      ]
    },
    {
      "cell_type": "code",
      "execution_count": null,
      "metadata": {
        "id": "HYlsLeH36PfZ",
        "colab": {
          "base_uri": "https://localhost:8080/",
          "height": 899
        },
        "outputId": "572ce708-75a7-46fb-ae15-f25d4d09251e"
      },
      "outputs": [
        {
          "output_type": "execute_result",
          "data": {
            "text/plain": [
              "Employee_ID                      0\n",
              "Age                              0\n",
              "Gender                           0\n",
              "Marital_Status                   0\n",
              "Department                       0\n",
              "Job_Role                         0\n",
              "Job_Level                        0\n",
              "Monthly_Income                   0\n",
              "Hourly_Rate                      0\n",
              "Years_at_Company                 0\n",
              "Years_in_Current_Role            0\n",
              "Years_Since_Last_Promotion       0\n",
              "Work_Life_Balance                0\n",
              "Job_Satisfaction                 0\n",
              "Performance_Rating               0\n",
              "Training_Hours_Last_Year         0\n",
              "Overtime                         0\n",
              "Project_Count                    0\n",
              "Average_Hours_Worked_Per_Week    0\n",
              "Absenteeism                      0\n",
              "Work_Environment_Satisfaction    0\n",
              "Relationship_with_Manager        0\n",
              "Job_Involvement                  0\n",
              "Distance_From_Home               0\n",
              "Number_of_Companies_Worked       0\n",
              "Attrition                        0\n",
              "dtype: int64"
            ],
            "text/html": [
              "<div>\n",
              "<style scoped>\n",
              "    .dataframe tbody tr th:only-of-type {\n",
              "        vertical-align: middle;\n",
              "    }\n",
              "\n",
              "    .dataframe tbody tr th {\n",
              "        vertical-align: top;\n",
              "    }\n",
              "\n",
              "    .dataframe thead th {\n",
              "        text-align: right;\n",
              "    }\n",
              "</style>\n",
              "<table border=\"1\" class=\"dataframe\">\n",
              "  <thead>\n",
              "    <tr style=\"text-align: right;\">\n",
              "      <th></th>\n",
              "      <th>0</th>\n",
              "    </tr>\n",
              "  </thead>\n",
              "  <tbody>\n",
              "    <tr>\n",
              "      <th>Employee_ID</th>\n",
              "      <td>0</td>\n",
              "    </tr>\n",
              "    <tr>\n",
              "      <th>Age</th>\n",
              "      <td>0</td>\n",
              "    </tr>\n",
              "    <tr>\n",
              "      <th>Gender</th>\n",
              "      <td>0</td>\n",
              "    </tr>\n",
              "    <tr>\n",
              "      <th>Marital_Status</th>\n",
              "      <td>0</td>\n",
              "    </tr>\n",
              "    <tr>\n",
              "      <th>Department</th>\n",
              "      <td>0</td>\n",
              "    </tr>\n",
              "    <tr>\n",
              "      <th>Job_Role</th>\n",
              "      <td>0</td>\n",
              "    </tr>\n",
              "    <tr>\n",
              "      <th>Job_Level</th>\n",
              "      <td>0</td>\n",
              "    </tr>\n",
              "    <tr>\n",
              "      <th>Monthly_Income</th>\n",
              "      <td>0</td>\n",
              "    </tr>\n",
              "    <tr>\n",
              "      <th>Hourly_Rate</th>\n",
              "      <td>0</td>\n",
              "    </tr>\n",
              "    <tr>\n",
              "      <th>Years_at_Company</th>\n",
              "      <td>0</td>\n",
              "    </tr>\n",
              "    <tr>\n",
              "      <th>Years_in_Current_Role</th>\n",
              "      <td>0</td>\n",
              "    </tr>\n",
              "    <tr>\n",
              "      <th>Years_Since_Last_Promotion</th>\n",
              "      <td>0</td>\n",
              "    </tr>\n",
              "    <tr>\n",
              "      <th>Work_Life_Balance</th>\n",
              "      <td>0</td>\n",
              "    </tr>\n",
              "    <tr>\n",
              "      <th>Job_Satisfaction</th>\n",
              "      <td>0</td>\n",
              "    </tr>\n",
              "    <tr>\n",
              "      <th>Performance_Rating</th>\n",
              "      <td>0</td>\n",
              "    </tr>\n",
              "    <tr>\n",
              "      <th>Training_Hours_Last_Year</th>\n",
              "      <td>0</td>\n",
              "    </tr>\n",
              "    <tr>\n",
              "      <th>Overtime</th>\n",
              "      <td>0</td>\n",
              "    </tr>\n",
              "    <tr>\n",
              "      <th>Project_Count</th>\n",
              "      <td>0</td>\n",
              "    </tr>\n",
              "    <tr>\n",
              "      <th>Average_Hours_Worked_Per_Week</th>\n",
              "      <td>0</td>\n",
              "    </tr>\n",
              "    <tr>\n",
              "      <th>Absenteeism</th>\n",
              "      <td>0</td>\n",
              "    </tr>\n",
              "    <tr>\n",
              "      <th>Work_Environment_Satisfaction</th>\n",
              "      <td>0</td>\n",
              "    </tr>\n",
              "    <tr>\n",
              "      <th>Relationship_with_Manager</th>\n",
              "      <td>0</td>\n",
              "    </tr>\n",
              "    <tr>\n",
              "      <th>Job_Involvement</th>\n",
              "      <td>0</td>\n",
              "    </tr>\n",
              "    <tr>\n",
              "      <th>Distance_From_Home</th>\n",
              "      <td>0</td>\n",
              "    </tr>\n",
              "    <tr>\n",
              "      <th>Number_of_Companies_Worked</th>\n",
              "      <td>0</td>\n",
              "    </tr>\n",
              "    <tr>\n",
              "      <th>Attrition</th>\n",
              "      <td>0</td>\n",
              "    </tr>\n",
              "  </tbody>\n",
              "</table>\n",
              "</div><br><label><b>dtype:</b> int64</label>"
            ]
          },
          "metadata": {},
          "execution_count": 13
        }
      ],
      "source": [
        "data.isnull().sum() #sum of null columns"
      ]
    },
    {
      "cell_type": "code",
      "execution_count": null,
      "metadata": {
        "id": "lq5lUDbN8Vr2",
        "colab": {
          "base_uri": "https://localhost:8080/",
          "height": 320
        },
        "outputId": "041ea4f5-a33a-443a-b2d0-43227ac027b1"
      },
      "outputs": [
        {
          "output_type": "execute_result",
          "data": {
            "text/plain": [
              "       Employee_ID          Age    Job_Level  Monthly_Income  Hourly_Rate  \\\n",
              "count  1000.000000  1000.000000  1000.000000     1000.000000  1000.000000   \n",
              "mean    500.500000    39.991000     3.055000    11499.899000    57.837000   \n",
              "std     288.819436    11.780055     1.399977     4920.529231    24.702037   \n",
              "min       1.000000    20.000000     1.000000     3001.000000    15.000000   \n",
              "25%     250.750000    30.000000     2.000000     7395.750000    36.000000   \n",
              "50%     500.500000    41.000000     3.000000    11256.000000    58.000000   \n",
              "75%     750.250000    50.250000     4.000000    15855.000000    80.000000   \n",
              "max    1000.000000    59.000000     5.000000    19999.000000    99.000000   \n",
              "\n",
              "       Years_at_Company  Years_in_Current_Role  Years_Since_Last_Promotion  \\\n",
              "count       1000.000000            1000.000000                  1000.00000   \n",
              "mean          14.922000               7.539000                     4.40800   \n",
              "std            8.350548               4.001061                     2.99508   \n",
              "min            1.000000               1.000000                     0.00000   \n",
              "25%            8.000000               4.000000                     2.00000   \n",
              "50%           15.000000               8.000000                     4.00000   \n",
              "75%           22.000000              11.000000                     7.00000   \n",
              "max           29.000000              14.000000                     9.00000   \n",
              "\n",
              "       Work_Life_Balance  Job_Satisfaction  Performance_Rating  \\\n",
              "count        1000.000000       1000.000000          1000.00000   \n",
              "mean            2.495000          3.151000             2.52700   \n",
              "std             1.105077          1.426967             1.13073   \n",
              "min             1.000000          1.000000             1.00000   \n",
              "25%             2.000000          2.000000             2.00000   \n",
              "50%             3.000000          3.000000             3.00000   \n",
              "75%             3.000000          4.000000             4.00000   \n",
              "max             4.000000          5.000000             4.00000   \n",
              "\n",
              "       Training_Hours_Last_Year  Project_Count  Average_Hours_Worked_Per_Week  \\\n",
              "count               1000.000000    1000.000000                    1000.000000   \n",
              "mean                  50.043000       4.877000                      44.553000   \n",
              "std                   28.204657       2.546833                       8.704192   \n",
              "min                    0.000000       1.000000                      30.000000   \n",
              "25%                   26.000000       3.000000                      37.000000   \n",
              "50%                   50.000000       5.000000                      45.000000   \n",
              "75%                   75.250000       7.000000                      52.000000   \n",
              "max                   99.000000       9.000000                      59.000000   \n",
              "\n",
              "       Absenteeism  Work_Environment_Satisfaction  Relationship_with_Manager  \\\n",
              "count  1000.000000                    1000.000000                1000.000000   \n",
              "mean      9.524000                       2.494000                   2.519000   \n",
              "std       5.973534                       1.110494                   1.106736   \n",
              "min       0.000000                       1.000000                   1.000000   \n",
              "25%       4.000000                       2.000000                   2.000000   \n",
              "50%       9.000000                       2.000000                   3.000000   \n",
              "75%      15.000000                       4.000000                   4.000000   \n",
              "max      19.000000                       4.000000                   4.000000   \n",
              "\n",
              "       Job_Involvement  Distance_From_Home  Number_of_Companies_Worked  \n",
              "count      1000.000000         1000.000000                 1000.000000  \n",
              "mean          2.503000           24.507000                    2.484000  \n",
              "std           1.099636           14.138099                    1.111296  \n",
              "min           1.000000            1.000000                    1.000000  \n",
              "25%           2.000000           12.000000                    1.000000  \n",
              "50%           3.000000           24.000000                    2.000000  \n",
              "75%           3.000000           37.000000                    3.000000  \n",
              "max           4.000000           49.000000                    4.000000  "
            ],
            "text/html": [
              "\n",
              "  <div id=\"df-3695cb7d-5c81-4351-9cd3-0d62f5af57ef\" class=\"colab-df-container\">\n",
              "    <div>\n",
              "<style scoped>\n",
              "    .dataframe tbody tr th:only-of-type {\n",
              "        vertical-align: middle;\n",
              "    }\n",
              "\n",
              "    .dataframe tbody tr th {\n",
              "        vertical-align: top;\n",
              "    }\n",
              "\n",
              "    .dataframe thead th {\n",
              "        text-align: right;\n",
              "    }\n",
              "</style>\n",
              "<table border=\"1\" class=\"dataframe\">\n",
              "  <thead>\n",
              "    <tr style=\"text-align: right;\">\n",
              "      <th></th>\n",
              "      <th>Employee_ID</th>\n",
              "      <th>Age</th>\n",
              "      <th>Job_Level</th>\n",
              "      <th>Monthly_Income</th>\n",
              "      <th>Hourly_Rate</th>\n",
              "      <th>Years_at_Company</th>\n",
              "      <th>Years_in_Current_Role</th>\n",
              "      <th>Years_Since_Last_Promotion</th>\n",
              "      <th>Work_Life_Balance</th>\n",
              "      <th>Job_Satisfaction</th>\n",
              "      <th>Performance_Rating</th>\n",
              "      <th>Training_Hours_Last_Year</th>\n",
              "      <th>Project_Count</th>\n",
              "      <th>Average_Hours_Worked_Per_Week</th>\n",
              "      <th>Absenteeism</th>\n",
              "      <th>Work_Environment_Satisfaction</th>\n",
              "      <th>Relationship_with_Manager</th>\n",
              "      <th>Job_Involvement</th>\n",
              "      <th>Distance_From_Home</th>\n",
              "      <th>Number_of_Companies_Worked</th>\n",
              "    </tr>\n",
              "  </thead>\n",
              "  <tbody>\n",
              "    <tr>\n",
              "      <th>count</th>\n",
              "      <td>1000.000000</td>\n",
              "      <td>1000.000000</td>\n",
              "      <td>1000.000000</td>\n",
              "      <td>1000.000000</td>\n",
              "      <td>1000.000000</td>\n",
              "      <td>1000.000000</td>\n",
              "      <td>1000.000000</td>\n",
              "      <td>1000.00000</td>\n",
              "      <td>1000.000000</td>\n",
              "      <td>1000.000000</td>\n",
              "      <td>1000.00000</td>\n",
              "      <td>1000.000000</td>\n",
              "      <td>1000.000000</td>\n",
              "      <td>1000.000000</td>\n",
              "      <td>1000.000000</td>\n",
              "      <td>1000.000000</td>\n",
              "      <td>1000.000000</td>\n",
              "      <td>1000.000000</td>\n",
              "      <td>1000.000000</td>\n",
              "      <td>1000.000000</td>\n",
              "    </tr>\n",
              "    <tr>\n",
              "      <th>mean</th>\n",
              "      <td>500.500000</td>\n",
              "      <td>39.991000</td>\n",
              "      <td>3.055000</td>\n",
              "      <td>11499.899000</td>\n",
              "      <td>57.837000</td>\n",
              "      <td>14.922000</td>\n",
              "      <td>7.539000</td>\n",
              "      <td>4.40800</td>\n",
              "      <td>2.495000</td>\n",
              "      <td>3.151000</td>\n",
              "      <td>2.52700</td>\n",
              "      <td>50.043000</td>\n",
              "      <td>4.877000</td>\n",
              "      <td>44.553000</td>\n",
              "      <td>9.524000</td>\n",
              "      <td>2.494000</td>\n",
              "      <td>2.519000</td>\n",
              "      <td>2.503000</td>\n",
              "      <td>24.507000</td>\n",
              "      <td>2.484000</td>\n",
              "    </tr>\n",
              "    <tr>\n",
              "      <th>std</th>\n",
              "      <td>288.819436</td>\n",
              "      <td>11.780055</td>\n",
              "      <td>1.399977</td>\n",
              "      <td>4920.529231</td>\n",
              "      <td>24.702037</td>\n",
              "      <td>8.350548</td>\n",
              "      <td>4.001061</td>\n",
              "      <td>2.99508</td>\n",
              "      <td>1.105077</td>\n",
              "      <td>1.426967</td>\n",
              "      <td>1.13073</td>\n",
              "      <td>28.204657</td>\n",
              "      <td>2.546833</td>\n",
              "      <td>8.704192</td>\n",
              "      <td>5.973534</td>\n",
              "      <td>1.110494</td>\n",
              "      <td>1.106736</td>\n",
              "      <td>1.099636</td>\n",
              "      <td>14.138099</td>\n",
              "      <td>1.111296</td>\n",
              "    </tr>\n",
              "    <tr>\n",
              "      <th>min</th>\n",
              "      <td>1.000000</td>\n",
              "      <td>20.000000</td>\n",
              "      <td>1.000000</td>\n",
              "      <td>3001.000000</td>\n",
              "      <td>15.000000</td>\n",
              "      <td>1.000000</td>\n",
              "      <td>1.000000</td>\n",
              "      <td>0.00000</td>\n",
              "      <td>1.000000</td>\n",
              "      <td>1.000000</td>\n",
              "      <td>1.00000</td>\n",
              "      <td>0.000000</td>\n",
              "      <td>1.000000</td>\n",
              "      <td>30.000000</td>\n",
              "      <td>0.000000</td>\n",
              "      <td>1.000000</td>\n",
              "      <td>1.000000</td>\n",
              "      <td>1.000000</td>\n",
              "      <td>1.000000</td>\n",
              "      <td>1.000000</td>\n",
              "    </tr>\n",
              "    <tr>\n",
              "      <th>25%</th>\n",
              "      <td>250.750000</td>\n",
              "      <td>30.000000</td>\n",
              "      <td>2.000000</td>\n",
              "      <td>7395.750000</td>\n",
              "      <td>36.000000</td>\n",
              "      <td>8.000000</td>\n",
              "      <td>4.000000</td>\n",
              "      <td>2.00000</td>\n",
              "      <td>2.000000</td>\n",
              "      <td>2.000000</td>\n",
              "      <td>2.00000</td>\n",
              "      <td>26.000000</td>\n",
              "      <td>3.000000</td>\n",
              "      <td>37.000000</td>\n",
              "      <td>4.000000</td>\n",
              "      <td>2.000000</td>\n",
              "      <td>2.000000</td>\n",
              "      <td>2.000000</td>\n",
              "      <td>12.000000</td>\n",
              "      <td>1.000000</td>\n",
              "    </tr>\n",
              "    <tr>\n",
              "      <th>50%</th>\n",
              "      <td>500.500000</td>\n",
              "      <td>41.000000</td>\n",
              "      <td>3.000000</td>\n",
              "      <td>11256.000000</td>\n",
              "      <td>58.000000</td>\n",
              "      <td>15.000000</td>\n",
              "      <td>8.000000</td>\n",
              "      <td>4.00000</td>\n",
              "      <td>3.000000</td>\n",
              "      <td>3.000000</td>\n",
              "      <td>3.00000</td>\n",
              "      <td>50.000000</td>\n",
              "      <td>5.000000</td>\n",
              "      <td>45.000000</td>\n",
              "      <td>9.000000</td>\n",
              "      <td>2.000000</td>\n",
              "      <td>3.000000</td>\n",
              "      <td>3.000000</td>\n",
              "      <td>24.000000</td>\n",
              "      <td>2.000000</td>\n",
              "    </tr>\n",
              "    <tr>\n",
              "      <th>75%</th>\n",
              "      <td>750.250000</td>\n",
              "      <td>50.250000</td>\n",
              "      <td>4.000000</td>\n",
              "      <td>15855.000000</td>\n",
              "      <td>80.000000</td>\n",
              "      <td>22.000000</td>\n",
              "      <td>11.000000</td>\n",
              "      <td>7.00000</td>\n",
              "      <td>3.000000</td>\n",
              "      <td>4.000000</td>\n",
              "      <td>4.00000</td>\n",
              "      <td>75.250000</td>\n",
              "      <td>7.000000</td>\n",
              "      <td>52.000000</td>\n",
              "      <td>15.000000</td>\n",
              "      <td>4.000000</td>\n",
              "      <td>4.000000</td>\n",
              "      <td>3.000000</td>\n",
              "      <td>37.000000</td>\n",
              "      <td>3.000000</td>\n",
              "    </tr>\n",
              "    <tr>\n",
              "      <th>max</th>\n",
              "      <td>1000.000000</td>\n",
              "      <td>59.000000</td>\n",
              "      <td>5.000000</td>\n",
              "      <td>19999.000000</td>\n",
              "      <td>99.000000</td>\n",
              "      <td>29.000000</td>\n",
              "      <td>14.000000</td>\n",
              "      <td>9.00000</td>\n",
              "      <td>4.000000</td>\n",
              "      <td>5.000000</td>\n",
              "      <td>4.00000</td>\n",
              "      <td>99.000000</td>\n",
              "      <td>9.000000</td>\n",
              "      <td>59.000000</td>\n",
              "      <td>19.000000</td>\n",
              "      <td>4.000000</td>\n",
              "      <td>4.000000</td>\n",
              "      <td>4.000000</td>\n",
              "      <td>49.000000</td>\n",
              "      <td>4.000000</td>\n",
              "    </tr>\n",
              "  </tbody>\n",
              "</table>\n",
              "</div>\n",
              "    <div class=\"colab-df-buttons\">\n",
              "\n",
              "  <div class=\"colab-df-container\">\n",
              "    <button class=\"colab-df-convert\" onclick=\"convertToInteractive('df-3695cb7d-5c81-4351-9cd3-0d62f5af57ef')\"\n",
              "            title=\"Convert this dataframe to an interactive table.\"\n",
              "            style=\"display:none;\">\n",
              "\n",
              "  <svg xmlns=\"http://www.w3.org/2000/svg\" height=\"24px\" viewBox=\"0 -960 960 960\">\n",
              "    <path d=\"M120-120v-720h720v720H120Zm60-500h600v-160H180v160Zm220 220h160v-160H400v160Zm0 220h160v-160H400v160ZM180-400h160v-160H180v160Zm440 0h160v-160H620v160ZM180-180h160v-160H180v160Zm440 0h160v-160H620v160Z\"/>\n",
              "  </svg>\n",
              "    </button>\n",
              "\n",
              "  <style>\n",
              "    .colab-df-container {\n",
              "      display:flex;\n",
              "      gap: 12px;\n",
              "    }\n",
              "\n",
              "    .colab-df-convert {\n",
              "      background-color: #E8F0FE;\n",
              "      border: none;\n",
              "      border-radius: 50%;\n",
              "      cursor: pointer;\n",
              "      display: none;\n",
              "      fill: #1967D2;\n",
              "      height: 32px;\n",
              "      padding: 0 0 0 0;\n",
              "      width: 32px;\n",
              "    }\n",
              "\n",
              "    .colab-df-convert:hover {\n",
              "      background-color: #E2EBFA;\n",
              "      box-shadow: 0px 1px 2px rgba(60, 64, 67, 0.3), 0px 1px 3px 1px rgba(60, 64, 67, 0.15);\n",
              "      fill: #174EA6;\n",
              "    }\n",
              "\n",
              "    .colab-df-buttons div {\n",
              "      margin-bottom: 4px;\n",
              "    }\n",
              "\n",
              "    [theme=dark] .colab-df-convert {\n",
              "      background-color: #3B4455;\n",
              "      fill: #D2E3FC;\n",
              "    }\n",
              "\n",
              "    [theme=dark] .colab-df-convert:hover {\n",
              "      background-color: #434B5C;\n",
              "      box-shadow: 0px 1px 3px 1px rgba(0, 0, 0, 0.15);\n",
              "      filter: drop-shadow(0px 1px 2px rgba(0, 0, 0, 0.3));\n",
              "      fill: #FFFFFF;\n",
              "    }\n",
              "  </style>\n",
              "\n",
              "    <script>\n",
              "      const buttonEl =\n",
              "        document.querySelector('#df-3695cb7d-5c81-4351-9cd3-0d62f5af57ef button.colab-df-convert');\n",
              "      buttonEl.style.display =\n",
              "        google.colab.kernel.accessAllowed ? 'block' : 'none';\n",
              "\n",
              "      async function convertToInteractive(key) {\n",
              "        const element = document.querySelector('#df-3695cb7d-5c81-4351-9cd3-0d62f5af57ef');\n",
              "        const dataTable =\n",
              "          await google.colab.kernel.invokeFunction('convertToInteractive',\n",
              "                                                    [key], {});\n",
              "        if (!dataTable) return;\n",
              "\n",
              "        const docLinkHtml = 'Like what you see? Visit the ' +\n",
              "          '<a target=\"_blank\" href=https://colab.research.google.com/notebooks/data_table.ipynb>data table notebook</a>'\n",
              "          + ' to learn more about interactive tables.';\n",
              "        element.innerHTML = '';\n",
              "        dataTable['output_type'] = 'display_data';\n",
              "        await google.colab.output.renderOutput(dataTable, element);\n",
              "        const docLink = document.createElement('div');\n",
              "        docLink.innerHTML = docLinkHtml;\n",
              "        element.appendChild(docLink);\n",
              "      }\n",
              "    </script>\n",
              "  </div>\n",
              "\n",
              "\n",
              "    <div id=\"df-3a096e16-9d3d-4bbc-8f07-98fa9f0eaa3a\">\n",
              "      <button class=\"colab-df-quickchart\" onclick=\"quickchart('df-3a096e16-9d3d-4bbc-8f07-98fa9f0eaa3a')\"\n",
              "                title=\"Suggest charts\"\n",
              "                style=\"display:none;\">\n",
              "\n",
              "<svg xmlns=\"http://www.w3.org/2000/svg\" height=\"24px\"viewBox=\"0 0 24 24\"\n",
              "     width=\"24px\">\n",
              "    <g>\n",
              "        <path d=\"M19 3H5c-1.1 0-2 .9-2 2v14c0 1.1.9 2 2 2h14c1.1 0 2-.9 2-2V5c0-1.1-.9-2-2-2zM9 17H7v-7h2v7zm4 0h-2V7h2v10zm4 0h-2v-4h2v4z\"/>\n",
              "    </g>\n",
              "</svg>\n",
              "      </button>\n",
              "\n",
              "<style>\n",
              "  .colab-df-quickchart {\n",
              "      --bg-color: #E8F0FE;\n",
              "      --fill-color: #1967D2;\n",
              "      --hover-bg-color: #E2EBFA;\n",
              "      --hover-fill-color: #174EA6;\n",
              "      --disabled-fill-color: #AAA;\n",
              "      --disabled-bg-color: #DDD;\n",
              "  }\n",
              "\n",
              "  [theme=dark] .colab-df-quickchart {\n",
              "      --bg-color: #3B4455;\n",
              "      --fill-color: #D2E3FC;\n",
              "      --hover-bg-color: #434B5C;\n",
              "      --hover-fill-color: #FFFFFF;\n",
              "      --disabled-bg-color: #3B4455;\n",
              "      --disabled-fill-color: #666;\n",
              "  }\n",
              "\n",
              "  .colab-df-quickchart {\n",
              "    background-color: var(--bg-color);\n",
              "    border: none;\n",
              "    border-radius: 50%;\n",
              "    cursor: pointer;\n",
              "    display: none;\n",
              "    fill: var(--fill-color);\n",
              "    height: 32px;\n",
              "    padding: 0;\n",
              "    width: 32px;\n",
              "  }\n",
              "\n",
              "  .colab-df-quickchart:hover {\n",
              "    background-color: var(--hover-bg-color);\n",
              "    box-shadow: 0 1px 2px rgba(60, 64, 67, 0.3), 0 1px 3px 1px rgba(60, 64, 67, 0.15);\n",
              "    fill: var(--button-hover-fill-color);\n",
              "  }\n",
              "\n",
              "  .colab-df-quickchart-complete:disabled,\n",
              "  .colab-df-quickchart-complete:disabled:hover {\n",
              "    background-color: var(--disabled-bg-color);\n",
              "    fill: var(--disabled-fill-color);\n",
              "    box-shadow: none;\n",
              "  }\n",
              "\n",
              "  .colab-df-spinner {\n",
              "    border: 2px solid var(--fill-color);\n",
              "    border-color: transparent;\n",
              "    border-bottom-color: var(--fill-color);\n",
              "    animation:\n",
              "      spin 1s steps(1) infinite;\n",
              "  }\n",
              "\n",
              "  @keyframes spin {\n",
              "    0% {\n",
              "      border-color: transparent;\n",
              "      border-bottom-color: var(--fill-color);\n",
              "      border-left-color: var(--fill-color);\n",
              "    }\n",
              "    20% {\n",
              "      border-color: transparent;\n",
              "      border-left-color: var(--fill-color);\n",
              "      border-top-color: var(--fill-color);\n",
              "    }\n",
              "    30% {\n",
              "      border-color: transparent;\n",
              "      border-left-color: var(--fill-color);\n",
              "      border-top-color: var(--fill-color);\n",
              "      border-right-color: var(--fill-color);\n",
              "    }\n",
              "    40% {\n",
              "      border-color: transparent;\n",
              "      border-right-color: var(--fill-color);\n",
              "      border-top-color: var(--fill-color);\n",
              "    }\n",
              "    60% {\n",
              "      border-color: transparent;\n",
              "      border-right-color: var(--fill-color);\n",
              "    }\n",
              "    80% {\n",
              "      border-color: transparent;\n",
              "      border-right-color: var(--fill-color);\n",
              "      border-bottom-color: var(--fill-color);\n",
              "    }\n",
              "    90% {\n",
              "      border-color: transparent;\n",
              "      border-bottom-color: var(--fill-color);\n",
              "    }\n",
              "  }\n",
              "</style>\n",
              "\n",
              "      <script>\n",
              "        async function quickchart(key) {\n",
              "          const quickchartButtonEl =\n",
              "            document.querySelector('#' + key + ' button');\n",
              "          quickchartButtonEl.disabled = true;  // To prevent multiple clicks.\n",
              "          quickchartButtonEl.classList.add('colab-df-spinner');\n",
              "          try {\n",
              "            const charts = await google.colab.kernel.invokeFunction(\n",
              "                'suggestCharts', [key], {});\n",
              "          } catch (error) {\n",
              "            console.error('Error during call to suggestCharts:', error);\n",
              "          }\n",
              "          quickchartButtonEl.classList.remove('colab-df-spinner');\n",
              "          quickchartButtonEl.classList.add('colab-df-quickchart-complete');\n",
              "        }\n",
              "        (() => {\n",
              "          let quickchartButtonEl =\n",
              "            document.querySelector('#df-3a096e16-9d3d-4bbc-8f07-98fa9f0eaa3a button');\n",
              "          quickchartButtonEl.style.display =\n",
              "            google.colab.kernel.accessAllowed ? 'block' : 'none';\n",
              "        })();\n",
              "      </script>\n",
              "    </div>\n",
              "\n",
              "    </div>\n",
              "  </div>\n"
            ],
            "application/vnd.google.colaboratory.intrinsic+json": {
              "type": "dataframe",
              "summary": "{\n  \"name\": \"data\",\n  \"rows\": 8,\n  \"fields\": [\n    {\n      \"column\": \"Employee_ID\",\n      \"properties\": {\n        \"dtype\": \"number\",\n        \"std\": 360.1000917722167,\n        \"min\": 1.0,\n        \"max\": 1000.0,\n        \"num_unique_values\": 6,\n        \"samples\": [\n          1000.0,\n          500.5,\n          750.25\n        ],\n        \"semantic_type\": \"\",\n        \"description\": \"\"\n      }\n    },\n    {\n      \"column\": \"Age\",\n      \"properties\": {\n        \"dtype\": \"number\",\n        \"std\": 341.1703642492563,\n        \"min\": 11.78005469803468,\n        \"max\": 1000.0,\n        \"num_unique_values\": 8,\n        \"samples\": [\n          39.991,\n          41.0,\n          1000.0\n        ],\n        \"semantic_type\": \"\",\n        \"description\": \"\"\n      }\n    },\n    {\n      \"column\": \"Job_Level\",\n      \"properties\": {\n        \"dtype\": \"number\",\n        \"std\": 352.57324198653316,\n        \"min\": 1.0,\n        \"max\": 1000.0,\n        \"num_unique_values\": 8,\n        \"samples\": [\n          3.055,\n          3.0,\n          1000.0\n        ],\n        \"semantic_type\": \"\",\n        \"description\": \"\"\n      }\n    },\n    {\n      \"column\": \"Monthly_Income\",\n      \"properties\": {\n        \"dtype\": \"number\",\n        \"std\": 6518.552767499143,\n        \"min\": 1000.0,\n        \"max\": 19999.0,\n        \"num_unique_values\": 8,\n        \"samples\": [\n          11499.899,\n          11256.0,\n          1000.0\n        ],\n        \"semantic_type\": \"\",\n        \"description\": \"\"\n      }\n    },\n    {\n      \"column\": \"Hourly_Rate\",\n      \"properties\": {\n        \"dtype\": \"number\",\n        \"std\": 335.99408004343456,\n        \"min\": 15.0,\n        \"max\": 1000.0,\n        \"num_unique_values\": 8,\n        \"samples\": [\n          57.837,\n          58.0,\n          1000.0\n        ],\n        \"semantic_type\": \"\",\n        \"description\": \"\"\n      }\n    },\n    {\n      \"column\": \"Years_at_Company\",\n      \"properties\": {\n        \"dtype\": \"number\",\n        \"std\": 348.69800156956535,\n        \"min\": 1.0,\n        \"max\": 1000.0,\n        \"num_unique_values\": 8,\n        \"samples\": [\n          14.922,\n          15.0,\n          1000.0\n        ],\n        \"semantic_type\": \"\",\n        \"description\": \"\"\n      }\n    },\n    {\n      \"column\": \"Years_in_Current_Role\",\n      \"properties\": {\n        \"dtype\": \"number\",\n        \"std\": 351.0757046170931,\n        \"min\": 1.0,\n        \"max\": 1000.0,\n        \"num_unique_values\": 8,\n        \"samples\": [\n          7.539,\n          8.0,\n          1000.0\n        ],\n        \"semantic_type\": \"\",\n        \"description\": \"\"\n      }\n    },\n    {\n      \"column\": \"Years_Since_Last_Promotion\",\n      \"properties\": {\n        \"dtype\": \"number\",\n        \"std\": 352.07944785892187,\n        \"min\": 0.0,\n        \"max\": 1000.0,\n        \"num_unique_values\": 8,\n        \"samples\": [\n          4.408,\n          4.0,\n          1000.0\n        ],\n        \"semantic_type\": \"\",\n        \"description\": \"\"\n      }\n    },\n    {\n      \"column\": \"Work_Life_Balance\",\n      \"properties\": {\n        \"dtype\": \"number\",\n        \"std\": 352.7163938703492,\n        \"min\": 1.0,\n        \"max\": 1000.0,\n        \"num_unique_values\": 7,\n        \"samples\": [\n          1000.0,\n          2.495,\n          3.0\n        ],\n        \"semantic_type\": \"\",\n        \"description\": \"\"\n      }\n    },\n    {\n      \"column\": \"Job_Satisfaction\",\n      \"properties\": {\n        \"dtype\": \"number\",\n        \"std\": 352.56702729513233,\n        \"min\": 1.0,\n        \"max\": 1000.0,\n        \"num_unique_values\": 8,\n        \"samples\": [\n          3.151,\n          3.0,\n          1000.0\n        ],\n        \"semantic_type\": \"\",\n        \"description\": \"\"\n      }\n    },\n    {\n      \"column\": \"Performance_Rating\",\n      \"properties\": {\n        \"dtype\": \"number\",\n        \"std\": 352.66338815972586,\n        \"min\": 1.0,\n        \"max\": 1000.0,\n        \"num_unique_values\": 7,\n        \"samples\": [\n          1000.0,\n          2.527,\n          3.0\n        ],\n        \"semantic_type\": \"\",\n        \"description\": \"\"\n      }\n    },\n    {\n      \"column\": \"Training_Hours_Last_Year\",\n      \"properties\": {\n        \"dtype\": \"number\",\n        \"std\": 338.3417786067142,\n        \"min\": 0.0,\n        \"max\": 1000.0,\n        \"num_unique_values\": 8,\n        \"samples\": [\n          50.043,\n          50.0,\n          1000.0\n        ],\n        \"semantic_type\": \"\",\n        \"description\": \"\"\n      }\n    },\n    {\n      \"column\": \"Project_Count\",\n      \"properties\": {\n        \"dtype\": \"number\",\n        \"std\": 351.92489055952507,\n        \"min\": 1.0,\n        \"max\": 1000.0,\n        \"num_unique_values\": 8,\n        \"samples\": [\n          4.877,\n          5.0,\n          1000.0\n        ],\n        \"semantic_type\": \"\",\n        \"description\": \"\"\n      }\n    },\n    {\n      \"column\": \"Average_Hours_Worked_Per_Week\",\n      \"properties\": {\n        \"dtype\": \"number\",\n        \"std\": 339.9444661217222,\n        \"min\": 8.704191746161937,\n        \"max\": 1000.0,\n        \"num_unique_values\": 8,\n        \"samples\": [\n          44.553,\n          45.0,\n          1000.0\n        ],\n        \"semantic_type\": \"\",\n        \"description\": \"\"\n      }\n    },\n    {\n      \"column\": \"Absenteeism\",\n      \"properties\": {\n        \"dtype\": \"number\",\n        \"std\": 350.44803231892325,\n        \"min\": 0.0,\n        \"max\": 1000.0,\n        \"num_unique_values\": 8,\n        \"samples\": [\n          9.524,\n          9.0,\n          1000.0\n        ],\n        \"semantic_type\": \"\",\n        \"description\": \"\"\n      }\n    },\n    {\n      \"column\": \"Work_Environment_Satisfaction\",\n      \"properties\": {\n        \"dtype\": \"number\",\n        \"std\": 352.7165729933707,\n        \"min\": 1.0,\n        \"max\": 1000.0,\n        \"num_unique_values\": 6,\n        \"samples\": [\n          1000.0,\n          2.494,\n          4.0\n        ],\n        \"semantic_type\": \"\",\n        \"description\": \"\"\n      }\n    },\n    {\n      \"column\": \"Relationship_with_Manager\",\n      \"properties\": {\n        \"dtype\": \"number\",\n        \"std\": 352.6650177040238,\n        \"min\": 1.0,\n        \"max\": 1000.0,\n        \"num_unique_values\": 7,\n        \"samples\": [\n          1000.0,\n          2.519,\n          3.0\n        ],\n        \"semantic_type\": \"\",\n        \"description\": \"\"\n      }\n    },\n    {\n      \"column\": \"Job_Involvement\",\n      \"properties\": {\n        \"dtype\": \"number\",\n        \"std\": 352.71626783510095,\n        \"min\": 1.0,\n        \"max\": 1000.0,\n        \"num_unique_values\": 7,\n        \"samples\": [\n          1000.0,\n          2.503,\n          3.0\n        ],\n        \"semantic_type\": \"\",\n        \"description\": \"\"\n      }\n    },\n    {\n      \"column\": \"Distance_From_Home\",\n      \"properties\": {\n        \"dtype\": \"number\",\n        \"std\": 345.7112878748732,\n        \"min\": 1.0,\n        \"max\": 1000.0,\n        \"num_unique_values\": 8,\n        \"samples\": [\n          24.507,\n          24.0,\n          1000.0\n        ],\n        \"semantic_type\": \"\",\n        \"description\": \"\"\n      }\n    },\n    {\n      \"column\": \"Number_of_Companies_Worked\",\n      \"properties\": {\n        \"dtype\": \"number\",\n        \"std\": 352.81783105679415,\n        \"min\": 1.0,\n        \"max\": 1000.0,\n        \"num_unique_values\": 7,\n        \"samples\": [\n          1000.0,\n          2.484,\n          3.0\n        ],\n        \"semantic_type\": \"\",\n        \"description\": \"\"\n      }\n    }\n  ]\n}"
            }
          },
          "metadata": {},
          "execution_count": 14
        }
      ],
      "source": [
        "data.describe()"
      ]
    },
    {
      "cell_type": "code",
      "execution_count": null,
      "metadata": {
        "id": "GGWN4gpcuMvE"
      },
      "outputs": [],
      "source": [
        "data.drop(columns=[\"Employee_ID\"], inplace=True)#??"
      ]
    },
    {
      "cell_type": "code",
      "execution_count": null,
      "metadata": {
        "id": "YJLLMsfXtmxo"
      },
      "outputs": [],
      "source": [
        "from sklearn.preprocessing import LabelEncoder, MinMaxScaler"
      ]
    },
    {
      "cell_type": "code",
      "execution_count": null,
      "metadata": {
        "id": "H_lgGZtguRbp"
      },
      "outputs": [],
      "source": [
        "categorical_cols = data.select_dtypes(include=['object', 'category']).columns\n",
        "\n",
        "label_encoders = {}\n",
        "for col in categorical_cols:\n",
        "    le = LabelEncoder()\n",
        "    data[col] = le.fit_transform(data[col].astype(str))\n",
        "    label_encoders[col] = le"
      ]
    },
    {
      "cell_type": "markdown",
      "metadata": {
        "id": "xxTO7W6mvAW6"
      },
      "source": [
        "# Normalize numerical features"
      ]
    },
    {
      "cell_type": "code",
      "execution_count": null,
      "metadata": {
        "id": "a7IEUdZiuwRT"
      },
      "outputs": [],
      "source": [
        "numerical_cols = data.select_dtypes(include=['int64', 'float64']).columns.tolist()\n",
        "\n",
        "if 'Attrition' in numerical_cols:\n",
        "    numerical_cols.remove('Attrition')  # only remove if it's actually in the list\n",
        "\n",
        "from sklearn.preprocessing import MinMaxScaler\n",
        "scaler = MinMaxScaler()\n",
        "data[numerical_cols] = scaler.fit_transform(data[numerical_cols])\n"
      ]
    },
    {
      "cell_type": "markdown",
      "metadata": {
        "id": "O_OPdEQ_wo4v"
      },
      "source": [
        "# create new interaction features"
      ]
    },
    {
      "cell_type": "code",
      "execution_count": null,
      "metadata": {
        "id": "_2G_RE7GwDwL"
      },
      "outputs": [],
      "source": [
        "data['Salary_Performance_Ratio'] = data['Monthly_Income'] / (data['Performance_Rating'] + 1)\n",
        "\n",
        "data['Salary_Performance_Ratio'] = scaler.fit_transform(data[['Salary_Performance_Ratio']])\n",
        "\n"
      ]
    },
    {
      "cell_type": "code",
      "execution_count": null,
      "metadata": {
        "id": "gB3U3dl-o20C"
      },
      "outputs": [],
      "source": [
        "# Convert categorical Tenure_Group to numeric\n",
        "data['Tenure_Group'] = pd.cut(data['Years_at_Company'] * 29, bins=[0, 5, 10, 20, 30], labels=[0, 1, 2, 3])  # 29 is max\n",
        "data['Tenure_Group'] = data['Tenure_Group'].cat.add_categories([-1]).fillna(-1).astype(int)"
      ]
    },
    {
      "cell_type": "code",
      "execution_count": null,
      "metadata": {
        "id": "N9Vz6ZJnpQcm",
        "colab": {
          "base_uri": "https://localhost:8080/",
          "height": 255
        },
        "outputId": "cba5d248-edb6-4aca-8e55-5615515f9bc5"
      },
      "outputs": [
        {
          "output_type": "execute_result",
          "data": {
            "text/plain": [
              "   Employee_ID       Age  Gender Marital_Status Department   Job_Role  \\\n",
              "0     0.000000  0.974359  Female        Married         IT    Manager   \n",
              "1     0.001001  0.717949  Female        Married      Sales  Assistant   \n",
              "2     0.002002  0.358974    Male        Married  Marketing  Assistant   \n",
              "3     0.003003  0.179487  Female       Divorced  Marketing    Manager   \n",
              "4     0.004004  0.512821    Male       Divorced  Marketing  Executive   \n",
              "\n",
              "   Job_Level  Monthly_Income  Hourly_Rate  Years_at_Company  ...  \\\n",
              "0        0.0        0.734616     0.154762          0.500000  ...   \n",
              "1        1.0        0.592893     0.154762          0.178571  ...   \n",
              "2        0.0        0.632016     0.107143          0.821429  ...   \n",
              "3        0.0        0.224026     0.130952          0.321429  ...   \n",
              "4        0.0        0.423873     0.440476          1.000000  ...   \n",
              "\n",
              "   Average_Hours_Worked_Per_Week  Absenteeism  Work_Environment_Satisfaction  \\\n",
              "0                       0.827586     0.894737                       1.000000   \n",
              "1                       0.517241     0.052632                       1.000000   \n",
              "2                       0.137931     0.105263                       0.666667   \n",
              "3                       0.620690     0.947368                       0.333333   \n",
              "4                       0.103448     0.000000                       1.000000   \n",
              "\n",
              "   Relationship_with_Manager  Job_Involvement  Distance_From_Home  \\\n",
              "0                   1.000000         1.000000            0.395833   \n",
              "1                   0.000000         0.333333            0.500000   \n",
              "2                   1.000000         1.000000            0.916667   \n",
              "3                   0.666667         0.000000            0.708333   \n",
              "4                   0.000000         0.666667            0.895833   \n",
              "\n",
              "  Number_of_Companies_Worked  Attrition  Salary_Performance_Ratio  \\\n",
              "0                   0.666667         No                  0.367308   \n",
              "1                   0.333333         No                  0.592893   \n",
              "2                   0.666667         No                  0.632016   \n",
              "3                   0.666667         No                  0.112013   \n",
              "4                   0.666667         No                  0.423873   \n",
              "\n",
              "   Tenure_Group  \n",
              "0             2  \n",
              "1             1  \n",
              "2             3  \n",
              "3             1  \n",
              "4             3  \n",
              "\n",
              "[5 rows x 28 columns]"
            ],
            "text/html": [
              "\n",
              "  <div id=\"df-52992de6-c3a0-4821-907f-22849e02b8a4\" class=\"colab-df-container\">\n",
              "    <div>\n",
              "<style scoped>\n",
              "    .dataframe tbody tr th:only-of-type {\n",
              "        vertical-align: middle;\n",
              "    }\n",
              "\n",
              "    .dataframe tbody tr th {\n",
              "        vertical-align: top;\n",
              "    }\n",
              "\n",
              "    .dataframe thead th {\n",
              "        text-align: right;\n",
              "    }\n",
              "</style>\n",
              "<table border=\"1\" class=\"dataframe\">\n",
              "  <thead>\n",
              "    <tr style=\"text-align: right;\">\n",
              "      <th></th>\n",
              "      <th>Employee_ID</th>\n",
              "      <th>Age</th>\n",
              "      <th>Gender</th>\n",
              "      <th>Marital_Status</th>\n",
              "      <th>Department</th>\n",
              "      <th>Job_Role</th>\n",
              "      <th>Job_Level</th>\n",
              "      <th>Monthly_Income</th>\n",
              "      <th>Hourly_Rate</th>\n",
              "      <th>Years_at_Company</th>\n",
              "      <th>...</th>\n",
              "      <th>Average_Hours_Worked_Per_Week</th>\n",
              "      <th>Absenteeism</th>\n",
              "      <th>Work_Environment_Satisfaction</th>\n",
              "      <th>Relationship_with_Manager</th>\n",
              "      <th>Job_Involvement</th>\n",
              "      <th>Distance_From_Home</th>\n",
              "      <th>Number_of_Companies_Worked</th>\n",
              "      <th>Attrition</th>\n",
              "      <th>Salary_Performance_Ratio</th>\n",
              "      <th>Tenure_Group</th>\n",
              "    </tr>\n",
              "  </thead>\n",
              "  <tbody>\n",
              "    <tr>\n",
              "      <th>0</th>\n",
              "      <td>0.000000</td>\n",
              "      <td>0.974359</td>\n",
              "      <td>Female</td>\n",
              "      <td>Married</td>\n",
              "      <td>IT</td>\n",
              "      <td>Manager</td>\n",
              "      <td>0.0</td>\n",
              "      <td>0.734616</td>\n",
              "      <td>0.154762</td>\n",
              "      <td>0.500000</td>\n",
              "      <td>...</td>\n",
              "      <td>0.827586</td>\n",
              "      <td>0.894737</td>\n",
              "      <td>1.000000</td>\n",
              "      <td>1.000000</td>\n",
              "      <td>1.000000</td>\n",
              "      <td>0.395833</td>\n",
              "      <td>0.666667</td>\n",
              "      <td>No</td>\n",
              "      <td>0.367308</td>\n",
              "      <td>2</td>\n",
              "    </tr>\n",
              "    <tr>\n",
              "      <th>1</th>\n",
              "      <td>0.001001</td>\n",
              "      <td>0.717949</td>\n",
              "      <td>Female</td>\n",
              "      <td>Married</td>\n",
              "      <td>Sales</td>\n",
              "      <td>Assistant</td>\n",
              "      <td>1.0</td>\n",
              "      <td>0.592893</td>\n",
              "      <td>0.154762</td>\n",
              "      <td>0.178571</td>\n",
              "      <td>...</td>\n",
              "      <td>0.517241</td>\n",
              "      <td>0.052632</td>\n",
              "      <td>1.000000</td>\n",
              "      <td>0.000000</td>\n",
              "      <td>0.333333</td>\n",
              "      <td>0.500000</td>\n",
              "      <td>0.333333</td>\n",
              "      <td>No</td>\n",
              "      <td>0.592893</td>\n",
              "      <td>1</td>\n",
              "    </tr>\n",
              "    <tr>\n",
              "      <th>2</th>\n",
              "      <td>0.002002</td>\n",
              "      <td>0.358974</td>\n",
              "      <td>Male</td>\n",
              "      <td>Married</td>\n",
              "      <td>Marketing</td>\n",
              "      <td>Assistant</td>\n",
              "      <td>0.0</td>\n",
              "      <td>0.632016</td>\n",
              "      <td>0.107143</td>\n",
              "      <td>0.821429</td>\n",
              "      <td>...</td>\n",
              "      <td>0.137931</td>\n",
              "      <td>0.105263</td>\n",
              "      <td>0.666667</td>\n",
              "      <td>1.000000</td>\n",
              "      <td>1.000000</td>\n",
              "      <td>0.916667</td>\n",
              "      <td>0.666667</td>\n",
              "      <td>No</td>\n",
              "      <td>0.632016</td>\n",
              "      <td>3</td>\n",
              "    </tr>\n",
              "    <tr>\n",
              "      <th>3</th>\n",
              "      <td>0.003003</td>\n",
              "      <td>0.179487</td>\n",
              "      <td>Female</td>\n",
              "      <td>Divorced</td>\n",
              "      <td>Marketing</td>\n",
              "      <td>Manager</td>\n",
              "      <td>0.0</td>\n",
              "      <td>0.224026</td>\n",
              "      <td>0.130952</td>\n",
              "      <td>0.321429</td>\n",
              "      <td>...</td>\n",
              "      <td>0.620690</td>\n",
              "      <td>0.947368</td>\n",
              "      <td>0.333333</td>\n",
              "      <td>0.666667</td>\n",
              "      <td>0.000000</td>\n",
              "      <td>0.708333</td>\n",
              "      <td>0.666667</td>\n",
              "      <td>No</td>\n",
              "      <td>0.112013</td>\n",
              "      <td>1</td>\n",
              "    </tr>\n",
              "    <tr>\n",
              "      <th>4</th>\n",
              "      <td>0.004004</td>\n",
              "      <td>0.512821</td>\n",
              "      <td>Male</td>\n",
              "      <td>Divorced</td>\n",
              "      <td>Marketing</td>\n",
              "      <td>Executive</td>\n",
              "      <td>0.0</td>\n",
              "      <td>0.423873</td>\n",
              "      <td>0.440476</td>\n",
              "      <td>1.000000</td>\n",
              "      <td>...</td>\n",
              "      <td>0.103448</td>\n",
              "      <td>0.000000</td>\n",
              "      <td>1.000000</td>\n",
              "      <td>0.000000</td>\n",
              "      <td>0.666667</td>\n",
              "      <td>0.895833</td>\n",
              "      <td>0.666667</td>\n",
              "      <td>No</td>\n",
              "      <td>0.423873</td>\n",
              "      <td>3</td>\n",
              "    </tr>\n",
              "  </tbody>\n",
              "</table>\n",
              "<p>5 rows × 28 columns</p>\n",
              "</div>\n",
              "    <div class=\"colab-df-buttons\">\n",
              "\n",
              "  <div class=\"colab-df-container\">\n",
              "    <button class=\"colab-df-convert\" onclick=\"convertToInteractive('df-52992de6-c3a0-4821-907f-22849e02b8a4')\"\n",
              "            title=\"Convert this dataframe to an interactive table.\"\n",
              "            style=\"display:none;\">\n",
              "\n",
              "  <svg xmlns=\"http://www.w3.org/2000/svg\" height=\"24px\" viewBox=\"0 -960 960 960\">\n",
              "    <path d=\"M120-120v-720h720v720H120Zm60-500h600v-160H180v160Zm220 220h160v-160H400v160Zm0 220h160v-160H400v160ZM180-400h160v-160H180v160Zm440 0h160v-160H620v160ZM180-180h160v-160H180v160Zm440 0h160v-160H620v160Z\"/>\n",
              "  </svg>\n",
              "    </button>\n",
              "\n",
              "  <style>\n",
              "    .colab-df-container {\n",
              "      display:flex;\n",
              "      gap: 12px;\n",
              "    }\n",
              "\n",
              "    .colab-df-convert {\n",
              "      background-color: #E8F0FE;\n",
              "      border: none;\n",
              "      border-radius: 50%;\n",
              "      cursor: pointer;\n",
              "      display: none;\n",
              "      fill: #1967D2;\n",
              "      height: 32px;\n",
              "      padding: 0 0 0 0;\n",
              "      width: 32px;\n",
              "    }\n",
              "\n",
              "    .colab-df-convert:hover {\n",
              "      background-color: #E2EBFA;\n",
              "      box-shadow: 0px 1px 2px rgba(60, 64, 67, 0.3), 0px 1px 3px 1px rgba(60, 64, 67, 0.15);\n",
              "      fill: #174EA6;\n",
              "    }\n",
              "\n",
              "    .colab-df-buttons div {\n",
              "      margin-bottom: 4px;\n",
              "    }\n",
              "\n",
              "    [theme=dark] .colab-df-convert {\n",
              "      background-color: #3B4455;\n",
              "      fill: #D2E3FC;\n",
              "    }\n",
              "\n",
              "    [theme=dark] .colab-df-convert:hover {\n",
              "      background-color: #434B5C;\n",
              "      box-shadow: 0px 1px 3px 1px rgba(0, 0, 0, 0.15);\n",
              "      filter: drop-shadow(0px 1px 2px rgba(0, 0, 0, 0.3));\n",
              "      fill: #FFFFFF;\n",
              "    }\n",
              "  </style>\n",
              "\n",
              "    <script>\n",
              "      const buttonEl =\n",
              "        document.querySelector('#df-52992de6-c3a0-4821-907f-22849e02b8a4 button.colab-df-convert');\n",
              "      buttonEl.style.display =\n",
              "        google.colab.kernel.accessAllowed ? 'block' : 'none';\n",
              "\n",
              "      async function convertToInteractive(key) {\n",
              "        const element = document.querySelector('#df-52992de6-c3a0-4821-907f-22849e02b8a4');\n",
              "        const dataTable =\n",
              "          await google.colab.kernel.invokeFunction('convertToInteractive',\n",
              "                                                    [key], {});\n",
              "        if (!dataTable) return;\n",
              "\n",
              "        const docLinkHtml = 'Like what you see? Visit the ' +\n",
              "          '<a target=\"_blank\" href=https://colab.research.google.com/notebooks/data_table.ipynb>data table notebook</a>'\n",
              "          + ' to learn more about interactive tables.';\n",
              "        element.innerHTML = '';\n",
              "        dataTable['output_type'] = 'display_data';\n",
              "        await google.colab.output.renderOutput(dataTable, element);\n",
              "        const docLink = document.createElement('div');\n",
              "        docLink.innerHTML = docLinkHtml;\n",
              "        element.appendChild(docLink);\n",
              "      }\n",
              "    </script>\n",
              "  </div>\n",
              "\n",
              "\n",
              "    <div id=\"df-abd3639d-3ffa-4baa-a8a2-5032c16efb3f\">\n",
              "      <button class=\"colab-df-quickchart\" onclick=\"quickchart('df-abd3639d-3ffa-4baa-a8a2-5032c16efb3f')\"\n",
              "                title=\"Suggest charts\"\n",
              "                style=\"display:none;\">\n",
              "\n",
              "<svg xmlns=\"http://www.w3.org/2000/svg\" height=\"24px\"viewBox=\"0 0 24 24\"\n",
              "     width=\"24px\">\n",
              "    <g>\n",
              "        <path d=\"M19 3H5c-1.1 0-2 .9-2 2v14c0 1.1.9 2 2 2h14c1.1 0 2-.9 2-2V5c0-1.1-.9-2-2-2zM9 17H7v-7h2v7zm4 0h-2V7h2v10zm4 0h-2v-4h2v4z\"/>\n",
              "    </g>\n",
              "</svg>\n",
              "      </button>\n",
              "\n",
              "<style>\n",
              "  .colab-df-quickchart {\n",
              "      --bg-color: #E8F0FE;\n",
              "      --fill-color: #1967D2;\n",
              "      --hover-bg-color: #E2EBFA;\n",
              "      --hover-fill-color: #174EA6;\n",
              "      --disabled-fill-color: #AAA;\n",
              "      --disabled-bg-color: #DDD;\n",
              "  }\n",
              "\n",
              "  [theme=dark] .colab-df-quickchart {\n",
              "      --bg-color: #3B4455;\n",
              "      --fill-color: #D2E3FC;\n",
              "      --hover-bg-color: #434B5C;\n",
              "      --hover-fill-color: #FFFFFF;\n",
              "      --disabled-bg-color: #3B4455;\n",
              "      --disabled-fill-color: #666;\n",
              "  }\n",
              "\n",
              "  .colab-df-quickchart {\n",
              "    background-color: var(--bg-color);\n",
              "    border: none;\n",
              "    border-radius: 50%;\n",
              "    cursor: pointer;\n",
              "    display: none;\n",
              "    fill: var(--fill-color);\n",
              "    height: 32px;\n",
              "    padding: 0;\n",
              "    width: 32px;\n",
              "  }\n",
              "\n",
              "  .colab-df-quickchart:hover {\n",
              "    background-color: var(--hover-bg-color);\n",
              "    box-shadow: 0 1px 2px rgba(60, 64, 67, 0.3), 0 1px 3px 1px rgba(60, 64, 67, 0.15);\n",
              "    fill: var(--button-hover-fill-color);\n",
              "  }\n",
              "\n",
              "  .colab-df-quickchart-complete:disabled,\n",
              "  .colab-df-quickchart-complete:disabled:hover {\n",
              "    background-color: var(--disabled-bg-color);\n",
              "    fill: var(--disabled-fill-color);\n",
              "    box-shadow: none;\n",
              "  }\n",
              "\n",
              "  .colab-df-spinner {\n",
              "    border: 2px solid var(--fill-color);\n",
              "    border-color: transparent;\n",
              "    border-bottom-color: var(--fill-color);\n",
              "    animation:\n",
              "      spin 1s steps(1) infinite;\n",
              "  }\n",
              "\n",
              "  @keyframes spin {\n",
              "    0% {\n",
              "      border-color: transparent;\n",
              "      border-bottom-color: var(--fill-color);\n",
              "      border-left-color: var(--fill-color);\n",
              "    }\n",
              "    20% {\n",
              "      border-color: transparent;\n",
              "      border-left-color: var(--fill-color);\n",
              "      border-top-color: var(--fill-color);\n",
              "    }\n",
              "    30% {\n",
              "      border-color: transparent;\n",
              "      border-left-color: var(--fill-color);\n",
              "      border-top-color: var(--fill-color);\n",
              "      border-right-color: var(--fill-color);\n",
              "    }\n",
              "    40% {\n",
              "      border-color: transparent;\n",
              "      border-right-color: var(--fill-color);\n",
              "      border-top-color: var(--fill-color);\n",
              "    }\n",
              "    60% {\n",
              "      border-color: transparent;\n",
              "      border-right-color: var(--fill-color);\n",
              "    }\n",
              "    80% {\n",
              "      border-color: transparent;\n",
              "      border-right-color: var(--fill-color);\n",
              "      border-bottom-color: var(--fill-color);\n",
              "    }\n",
              "    90% {\n",
              "      border-color: transparent;\n",
              "      border-bottom-color: var(--fill-color);\n",
              "    }\n",
              "  }\n",
              "</style>\n",
              "\n",
              "      <script>\n",
              "        async function quickchart(key) {\n",
              "          const quickchartButtonEl =\n",
              "            document.querySelector('#' + key + ' button');\n",
              "          quickchartButtonEl.disabled = true;  // To prevent multiple clicks.\n",
              "          quickchartButtonEl.classList.add('colab-df-spinner');\n",
              "          try {\n",
              "            const charts = await google.colab.kernel.invokeFunction(\n",
              "                'suggestCharts', [key], {});\n",
              "          } catch (error) {\n",
              "            console.error('Error during call to suggestCharts:', error);\n",
              "          }\n",
              "          quickchartButtonEl.classList.remove('colab-df-spinner');\n",
              "          quickchartButtonEl.classList.add('colab-df-quickchart-complete');\n",
              "        }\n",
              "        (() => {\n",
              "          let quickchartButtonEl =\n",
              "            document.querySelector('#df-abd3639d-3ffa-4baa-a8a2-5032c16efb3f button');\n",
              "          quickchartButtonEl.style.display =\n",
              "            google.colab.kernel.accessAllowed ? 'block' : 'none';\n",
              "        })();\n",
              "      </script>\n",
              "    </div>\n",
              "\n",
              "    </div>\n",
              "  </div>\n"
            ],
            "application/vnd.google.colaboratory.intrinsic+json": {
              "type": "dataframe",
              "variable_name": "data"
            }
          },
          "metadata": {},
          "execution_count": 7
        }
      ],
      "source": [
        "data.head()"
      ]
    },
    {
      "cell_type": "code",
      "execution_count": null,
      "metadata": {
        "id": "LS8vwtm_E7Mn"
      },
      "outputs": [],
      "source": [
        "sns.set(style=\"whitegrid\")\n",
        "plt.rcParams[\"figure.figsize\"] = (12, 6)"
      ]
    },
    {
      "cell_type": "markdown",
      "metadata": {
        "id": "bNCjgp_AFZRg"
      },
      "source": [
        "Attrition distribution"
      ]
    },
    {
      "cell_type": "code",
      "execution_count": null,
      "metadata": {
        "id": "x-Qg2scAFATy",
        "colab": {
          "base_uri": "https://localhost:8080/",
          "height": 573
        },
        "outputId": "d2eb2feb-319a-41dd-c537-e941c75cc879"
      },
      "outputs": [
        {
          "output_type": "display_data",
          "data": {
            "text/plain": [
              "<Figure size 1200x600 with 1 Axes>"
            ],
            "image/png": "[encoded data removed]"
          },
          "metadata": {}
        }
      ],
      "source": [
        "plt.figure()\n",
        "sns.countplot(data=data, x='Attrition')\n",
        "plt.title(\"Employee Attrition Count\")\n",
        "plt.xticks([0, 1], ['No', 'Yes'])\n",
        "plt.xlabel(\"Attrition\")\n",
        "plt.ylabel(\"Count\")\n",
        "plt.show()"
      ]
    },
    {
      "cell_type": "markdown",
      "metadata": {
        "id": "-_WC1K05FnHm"
      },
      "source": [
        "Attrition by Job Role"
      ]
    },
    {
      "cell_type": "code",
      "execution_count": null,
      "metadata": {
        "id": "Umj98Ys5FH42",
        "colab": {
          "base_uri": "https://localhost:8080/",
          "height": 621
        },
        "outputId": "1e2a0de7-6c1f-4dbf-f48b-e593efe37c2f"
      },
      "outputs": [
        {
          "output_type": "display_data",
          "data": {
            "text/plain": [
              "<Figure size 1200x600 with 1 Axes>"
            ],
            "image/png": "[encoded data removed]"
          },
          "metadata": {}
        }
      ],
      "source": [
        "plt.figure()\n",
        "sns.countplot(data=data, x='Job_Role', hue='Attrition')\n",
        "plt.title(\"Attrition by Job Role\")\n",
        "plt.xlabel(\"Job Role\")\n",
        "plt.ylabel(\"Count\")\n",
        "plt.legend(title=\"Attrition\", labels=[\"No\", \"Yes\"])\n",
        "plt.xticks(rotation=45)\n",
        "plt.show()"
      ]
    },
    {
      "cell_type": "markdown",
      "metadata": {
        "id": "_mU9qD-tFrsP"
      },
      "source": [
        "Monthly Income distribution by Attrition"
      ]
    },
    {
      "cell_type": "code",
      "execution_count": null,
      "metadata": {
        "id": "XvIEQzSdFzrZ",
        "colab": {
          "base_uri": "https://localhost:8080/",
          "height": 573
        },
        "outputId": "d29e8ca4-1a38-44c6-9bf5-cffb9e3c95b7"
      },
      "outputs": [
        {
          "output_type": "display_data",
          "data": {
            "text/plain": [
              "<Figure size 1200x600 with 1 Axes>"
            ],
            "image/png": "[encoded data removed]"
          },
          "metadata": {}
        }
      ],
      "source": [
        "plt.figure()\n",
        "sns.boxplot(data=data, x='Attrition', y='Monthly_Income')\n",
        "plt.title(\"Monthly Income Distribution by Attrition\")\n",
        "plt.xticks([0, 1], ['No', 'Yes'])\n",
        "plt.show()"
      ]
    },
    {
      "cell_type": "markdown",
      "metadata": {
        "id": "cEq3vJMbF51Z"
      },
      "source": [
        "Correlation heatmap"
      ]
    },
    {
      "cell_type": "code",
      "execution_count": null,
      "metadata": {
        "id": "_kg0zVgEF5bp",
        "colab": {
          "base_uri": "https://localhost:8080/",
          "height": 1000
        },
        "outputId": "c6f2b762-8997-472f-905b-1273d6e36e09"
      },
      "outputs": [
        {
          "output_type": "display_data",
          "data": {
            "text/plain": [
              "<Figure size 1400x1000 with 2 Axes>"
            ],
            "image/png": "[encoded data removed]"
          },
          "metadata": {}
        }
      ],
      "source": [
        "import seaborn as sns\n",
        "import matplotlib.pyplot as plt\n",
        "\n",
        "# Keep only numeric columns\n",
        "numeric_data = data.select_dtypes(include=['number'])\n",
        "\n",
        "# Compute correlation matrix\n",
        "corr = numeric_data.corr()\n",
        "\n",
        "# Plot heatmap\n",
        "plt.figure(figsize=(14, 10))\n",
        "sns.heatmap(corr, cmap='coolwarm', annot=False)\n",
        "plt.title(\"Correlation Heatmap\")\n",
        "plt.show()\n"
      ]
    },
    {
      "cell_type": "markdown",
      "metadata": {
        "id": "sZ2mpgUOGCpf"
      },
      "source": [
        "Attrition by Tenure Group"
      ]
    },
    {
      "cell_type": "code",
      "execution_count": null,
      "metadata": {
        "id": "jrJ--6r5GPrN",
        "colab": {
          "base_uri": "https://localhost:8080/",
          "height": 573
        },
        "outputId": "09bf36cd-0b6a-461a-9fd6-c35b2f1988ce"
      },
      "outputs": [
        {
          "output_type": "display_data",
          "data": {
            "text/plain": [
              "<Figure size 1200x600 with 1 Axes>"
            ],
            "image/png": "[encoded data removed]"
          },
          "metadata": {}
        }
      ],
      "source": [
        "import pandas as pd\n",
        "import seaborn as sns\n",
        "import matplotlib.pyplot as plt\n",
        "\n",
        "# Create Tenure_Group based on 'Years_at_Company'\n",
        "bins = [0, 2, 5, 10, 20, 40]\n",
        "labels = ['0-2', '2-5', '5-10', '10-20', '20+']\n",
        "data['Tenure_Group'] = pd.cut(data['Years_at_Company'], bins=bins, labels=labels, right=False)\n",
        "\n",
        "# Plotting\n",
        "plt.figure()\n",
        "sns.countplot(data=data, x='Tenure_Group', hue='Attrition')\n",
        "plt.title(\"Attrition by Tenure Group\")\n",
        "plt.xlabel(\"Tenure Group (Years)\")\n",
        "plt.ylabel(\"Count\")\n",
        "plt.show()\n"
      ]
    },
    {
      "cell_type": "code",
      "execution_count": null,
      "metadata": {
        "id": "APHFqohG31T2"
      },
      "outputs": [],
      "source": [
        "\n"
      ]
    },
    {
      "cell_type": "code",
      "execution_count": null,
      "metadata": {
        "id": "2yBeDCK15mp9",
        "colab": {
          "base_uri": "https://localhost:8080/",
          "height": 542
        },
        "outputId": "fc6a74fc-ab39-4f86-a10c-a957aba7a42c"
      },
      "outputs": [
        {
          "output_type": "display_data",
          "data": {
            "text/html": [
              "<html>\n",
              "<head><meta charset=\"utf-8\" /></head>\n",
              "<body>\n",
              "    <div>            <script src=\"https://cdnjs.cloudflare.com/ajax/libs/mathjax/2.7.5/MathJax.js?config=TeX-AMS-MML_SVG\"></script><script type=\"text/javascript\">if (window.MathJax && window.MathJax.Hub && window.MathJax.Hub.Config) {window.MathJax.Hub.Config({SVG: {font: \"STIX-Web\"}});}</script>                <script type=\"text/javascript\">window.PlotlyConfig = {MathJaxConfig: 'local'};</script>\n",
              "        <script charset=\"utf-8\" src=\"https://cdn.plot.ly/plotly-2.35.2.min.js\"></script>                <div id=\"2ef60de0-d4f9-4d4f-8767-afc733aefc0f\" class=\"plotly-graph-div\" style=\"height:525px; width:100%;\"></div>            <script type=\"text/javascript\">                                    window.PLOTLYENV=window.PLOTLYENV || {};                                    if (document.getElementById(\"2ef60de0-d4f9-4d4f-8767-afc733aefc0f\")) {                    Plotly.newPlot(                        \"2ef60de0-d4f9-4d4f-8767-afc733aefc0f\",                        [{\"alignmentgroup\":\"True\",\"hovertemplate\":\"Attrition=%{x}\\u003cbr\\u003eMonthly_Income=%{y}\\u003cextra\\u003e\\u003c\\u002fextra\\u003e\",\"legendgroup\":\"No\",\"marker\":{\"color\":\"#636efa\"},\"name\":\"No\",\"notched\":false,\"offsetgroup\":\"No\",\"orientation\":\"v\",\"showlegend\":true,\"x\":[\"No\",\"No\",\"No\",\"No\",\"No\",\"No\",\"No\",\"No\",\"No\",\"No\",\"No\",\"No\",\"No\",\"No\",\"No\",\"No\",\"No\",\"No\",\"No\",\"No\",\"No\",\"No\",\"No\",\"No\",\"No\",\"No\",\"No\",\"No\",\"No\",\"No\",\"No\",\"No\",\"No\",\"No\",\"No\",\"No\",\"No\",\"No\",\"No\",\"No\",\"No\",\"No\",\"No\",\"No\",\"No\",\"No\",\"No\",\"No\",\"No\",\"No\",\"No\",\"No\",\"No\",\"No\",\"No\",\"No\",\"No\",\"No\",\"No\",\"No\",\"No\",\"No\",\"No\",\"No\",\"No\",\"No\",\"No\",\"No\",\"No\",\"No\",\"No\",\"No\",\"No\",\"No\",\"No\",\"No\",\"No\",\"No\",\"No\",\"No\",\"No\",\"No\",\"No\",\"No\",\"No\",\"No\",\"No\",\"No\",\"No\",\"No\",\"No\",\"No\",\"No\",\"No\",\"No\",\"No\",\"No\",\"No\",\"No\",\"No\",\"No\",\"No\",\"No\",\"No\",\"No\",\"No\",\"No\",\"No\",\"No\",\"No\",\"No\",\"No\",\"No\",\"No\",\"No\",\"No\",\"No\",\"No\",\"No\",\"No\",\"No\",\"No\",\"No\",\"No\",\"No\",\"No\",\"No\",\"No\",\"No\",\"No\",\"No\",\"No\",\"No\",\"No\",\"No\",\"No\",\"No\",\"No\",\"No\",\"No\",\"No\",\"No\",\"No\",\"No\",\"No\",\"No\",\"No\",\"No\",\"No\",\"No\",\"No\",\"No\",\"No\",\"No\",\"No\",\"No\",\"No\",\"No\",\"No\",\"No\",\"No\",\"No\",\"No\",\"No\",\"No\",\"No\",\"No\",\"No\",\"No\",\"No\",\"No\",\"No\",\"No\",\"No\",\"No\",\"No\",\"No\",\"No\",\"No\",\"No\",\"No\",\"No\",\"No\",\"No\",\"No\",\"No\",\"No\",\"No\",\"No\",\"No\",\"No\",\"No\",\"No\",\"No\",\"No\",\"No\",\"No\",\"No\",\"No\",\"No\",\"No\",\"No\",\"No\",\"No\",\"No\",\"No\",\"No\",\"No\",\"No\",\"No\",\"No\",\"No\",\"No\",\"No\",\"No\",\"No\",\"No\",\"No\",\"No\",\"No\",\"No\",\"No\",\"No\",\"No\",\"No\",\"No\",\"No\",\"No\",\"No\",\"No\",\"No\",\"No\",\"No\",\"No\",\"No\",\"No\",\"No\",\"No\",\"No\",\"No\",\"No\",\"No\",\"No\",\"No\",\"No\",\"No\",\"No\",\"No\",\"No\",\"No\",\"No\",\"No\",\"No\",\"No\",\"No\",\"No\",\"No\",\"No\",\"No\",\"No\",\"No\",\"No\",\"No\",\"No\",\"No\",\"No\",\"No\",\"No\",\"No\",\"No\",\"No\",\"No\",\"No\",\"No\",\"No\",\"No\",\"No\",\"No\",\"No\",\"No\",\"No\",\"No\",\"No\",\"No\",\"No\",\"No\",\"No\",\"No\",\"No\",\"No\",\"No\",\"No\",\"No\",\"No\",\"No\",\"No\",\"No\",\"No\",\"No\",\"No\",\"No\",\"No\",\"No\",\"No\",\"No\",\"No\",\"No\",\"No\",\"No\",\"No\",\"No\",\"No\",\"No\",\"No\",\"No\",\"No\",\"No\",\"No\",\"No\",\"No\",\"No\",\"No\",\"No\",\"No\",\"No\",\"No\",\"No\",\"No\",\"No\",\"No\",\"No\",\"No\",\"No\",\"No\",\"No\",\"No\",\"No\",\"No\",\"No\",\"No\",\"No\",\"No\",\"No\",\"No\",\"No\",\"No\",\"No\",\"No\",\"No\",\"No\",\"No\",\"No\",\"No\",\"No\",\"No\",\"No\",\"No\",\"No\",\"No\",\"No\",\"No\",\"No\",\"No\",\"No\",\"No\",\"No\",\"No\",\"No\",\"No\",\"No\",\"No\",\"No\",\"No\",\"No\",\"No\",\"No\",\"No\",\"No\",\"No\",\"No\",\"No\",\"No\",\"No\",\"No\",\"No\",\"No\",\"No\",\"No\",\"No\",\"No\",\"No\",\"No\",\"No\",\"No\",\"No\",\"No\",\"No\",\"No\",\"No\",\"No\",\"No\",\"No\",\"No\",\"No\",\"No\",\"No\",\"No\",\"No\",\"No\",\"No\",\"No\",\"No\",\"No\",\"No\",\"No\",\"No\",\"No\",\"No\",\"No\",\"No\",\"No\",\"No\",\"No\",\"No\",\"No\",\"No\",\"No\",\"No\",\"No\",\"No\",\"No\",\"No\",\"No\",\"No\",\"No\",\"No\",\"No\",\"No\",\"No\",\"No\",\"No\",\"No\",\"No\",\"No\",\"No\",\"No\",\"No\",\"No\",\"No\",\"No\",\"No\",\"No\",\"No\",\"No\",\"No\",\"No\",\"No\",\"No\",\"No\",\"No\",\"No\",\"No\",\"No\",\"No\",\"No\",\"No\",\"No\",\"No\",\"No\",\"No\",\"No\",\"No\",\"No\",\"No\",\"No\",\"No\",\"No\",\"No\",\"No\",\"No\",\"No\",\"No\",\"No\",\"No\",\"No\",\"No\",\"No\",\"No\",\"No\",\"No\",\"No\",\"No\",\"No\",\"No\",\"No\",\"No\",\"No\",\"No\",\"No\",\"No\",\"No\",\"No\",\"No\",\"No\",\"No\",\"No\",\"No\",\"No\",\"No\",\"No\",\"No\",\"No\",\"No\",\"No\",\"No\",\"No\",\"No\",\"No\",\"No\",\"No\",\"No\",\"No\",\"No\",\"No\",\"No\",\"No\",\"No\",\"No\",\"No\",\"No\",\"No\",\"No\",\"No\",\"No\",\"No\",\"No\",\"No\",\"No\",\"No\",\"No\",\"No\",\"No\",\"No\",\"No\",\"No\",\"No\",\"No\",\"No\",\"No\",\"No\",\"No\",\"No\",\"No\",\"No\",\"No\",\"No\",\"No\",\"No\",\"No\",\"No\",\"No\",\"No\",\"No\",\"No\",\"No\",\"No\",\"No\",\"No\",\"No\",\"No\",\"No\",\"No\",\"No\",\"No\",\"No\",\"No\",\"No\",\"No\",\"No\",\"No\",\"No\",\"No\",\"No\",\"No\",\"No\",\"No\",\"No\",\"No\",\"No\",\"No\",\"No\",\"No\",\"No\",\"No\",\"No\",\"No\",\"No\",\"No\",\"No\",\"No\",\"No\",\"No\",\"No\",\"No\",\"No\",\"No\",\"No\",\"No\",\"No\",\"No\",\"No\",\"No\",\"No\",\"No\",\"No\",\"No\",\"No\",\"No\",\"No\",\"No\",\"No\",\"No\",\"No\",\"No\",\"No\",\"No\",\"No\",\"No\",\"No\",\"No\",\"No\",\"No\",\"No\",\"No\",\"No\",\"No\",\"No\",\"No\",\"No\",\"No\",\"No\",\"No\",\"No\",\"No\",\"No\",\"No\",\"No\",\"No\",\"No\",\"No\",\"No\",\"No\",\"No\",\"No\",\"No\",\"No\",\"No\",\"No\",\"No\",\"No\",\"No\",\"No\",\"No\",\"No\",\"No\",\"No\",\"No\",\"No\",\"No\",\"No\",\"No\",\"No\",\"No\",\"No\",\"No\",\"No\",\"No\",\"No\",\"No\",\"No\",\"No\",\"No\",\"No\",\"No\",\"No\",\"No\",\"No\",\"No\",\"No\",\"No\",\"No\",\"No\",\"No\",\"No\",\"No\",\"No\",\"No\",\"No\",\"No\",\"No\",\"No\",\"No\",\"No\",\"No\",\"No\",\"No\",\"No\",\"No\",\"No\",\"No\",\"No\",\"No\",\"No\",\"No\",\"No\",\"No\",\"No\",\"No\",\"No\",\"No\",\"No\",\"No\",\"No\",\"No\",\"No\",\"No\",\"No\",\"No\",\"No\",\"No\",\"No\",\"No\",\"No\",\"No\",\"No\",\"No\",\"No\",\"No\",\"No\",\"No\",\"No\",\"No\",\"No\",\"No\",\"No\",\"No\",\"No\",\"No\",\"No\",\"No\",\"No\",\"No\",\"No\",\"No\",\"No\",\"No\",\"No\",\"No\",\"No\",\"No\",\"No\",\"No\",\"No\",\"No\",\"No\",\"No\",\"No\",\"No\",\"No\",\"No\",\"No\",\"No\",\"No\",\"No\",\"No\",\"No\",\"No\",\"No\",\"No\",\"No\",\"No\",\"No\",\"No\",\"No\",\"No\",\"No\",\"No\",\"No\",\"No\",\"No\",\"No\",\"No\",\"No\",\"No\",\"No\",\"No\",\"No\",\"No\",\"No\",\"No\",\"No\",\"No\",\"No\",\"No\",\"No\",\"No\",\"No\",\"No\",\"No\",\"No\",\"No\"],\"x0\":\" \",\"xaxis\":\"x\",\"y\":[0.7346158371573126,0.5928932815625367,0.6320155312389693,0.22402635604188728,0.42387339687021997,0.8086245440640075,0.9409342275561831,0.9432874455818331,0.6865513589834098,0.7770914225202965,0.9149311683727498,0.438345687727968,0.5128250382397929,0.8741028356277208,0.1277209083421579,0.7740322390869514,0.9802329685845393,0.6520767149076362,0.23414519355218263,0.3086245440640075,0.6207789151664902,0.3608659842334392,0.8077420873043887,0.4228732792093187,0.6521943758089187,0.8039769384633486,0.16325450052947407,0.4527591481350747,0.860571831980233,0.49329332862689723,0.47317331450758915,0.88439816448994,0.6411930815390046,0.32827391457818567,0.11842569714084009,0.7645605365337098,0.6256030121190728,0.8028591599011649,0.42046123073302744,0.8248617484409931,0.34815860689492883,0.27356159548182135,0.46705494764089894,0.22737969172843867,0.9856453700435345,0.13248617484409933,0.2906812566184257,0.7253206259559948,0.050770678903400396,0.0745381809624662,0.307565595952465,0.9594069890575362,0.054947640898929284,0.716025414754677,0.6194258148017413,0.9153429815272386,0.9504059301094246,0.9829391693140369,0.5721261324861748,0.45728909283445107,0.11671961407224382,0.838392752088481,0.2707377338510413,0.9388751617837393,0.5565948935168843,0.8333333333333334,0.45611248382162606,0.8380397693846334,0.23985174726438405,0.7560889516413696,0.237733851041299,0.9579362277915048,0.8464525238263324,0.1514295799505824,0.39728203318037414,0.11677844452288502,0.35104129897635017,0.24132250853041534,0.1220731850805977,0.176079538769267,0.8509824685257089,0.8543358042122603,0.4429932933286269,0.4335804212260266,0.8557477350276502,0.18490410636545476,0.8229791740204729,0.8284504059301093,0.9780562419108131,0.4678785739498764,0.4275797152606189,0.40163548652782677,0.5202376750205906,0.37239675255912463,0.6053653370984822,0.5978938698670432,0.6147193787504412,0.11966113660430641,0.6743146252500294,0.4692316743146252,0.7166137192610895,0.01747264384045183,0.054241675491234265,0.784209907047888,0.28673961642546186,0.7208495117072596,0.6414872337922108,0.7855041769619955,0.9342863866337215,0.5684198140957759,0.055300623602776794,0.11213083892222617,0.28450405930109424,0.8047417343216848,0.3350394164019296,0.9545240616543121,0.7420873043887516,0.08618661018943405,0.015354747617366743,0.6811977879750558,0.5962466172490881,0.11130721261324864,0.4768208024473467,0.6956700788328039,0.09712907400870693,0.035180609483468656,0.5171784915872455,0.21390751853159193,0.6091304859395222,0.9405812448523355,0.32933286268972817,0.8203318037416166,0.6330744793505118,0.4342275561830803,0.5283562772090834,0.45334745264148724,0.5452406165431227,0.4122249676432521,0.9131662548535121,0.21278973996940817,0.7651488410401224,0.1497823273326274,0.18608071537827978,0.842805035886575,0.05559477585598305,0.864336980821273,0.9935874808801036,0.9141663725144135,0.3952229674079303,0.49617602070831857,0.6676667843275679,0.2111424873514531,0.592010824802918,0.022885045299446988,0.6805506530180021,0.7710318861042476,0.15054712319096367,0.34509942346158373,0.899105777150253,0.07118484527591482,0.09048123308624542,0.5113542769737616,0.524767619719967,0.7496764325214731,0.25797152606188967,0.7201435462995647,0.8386869043416872,0.8203906341922579,0.34880574185198254,0.3177432639134016,0.02976820802447347,0.08442169667019647,0.6834333450994234,0.514707612660313,0.43258030356512533,0.6643722790916579,0.8141546064242852,0.2587363219202259,0.2962701494293446,0.932286151311919,0.21849629368160958,0.8751617837392635,0.46099541122485,0.07647958583362749,0.4335215907753853,0.3771031886104247,0.3743969878809271,0.9088128015060596,0.08689257559712907,0.4969408165666549,0.6248382162607365,0.9897635015884222,0.15560654194611132,0.30638898693964,0.3842805035886575,0.42416754912342625,0.7016119543475703,0.5480056477232615,0.7163195670078832,0.638016237204377,0.46664313448641015,0.3220967172608542,0.8149194022826215,0.46634898223320387,0.12230850688316272,0.3581597835039416,0.45864219319919985,0.4909401106012472,0.05312389692905048,0.9875867749146959,0.5867160842452053,0.06959642310860101,0.1014236969055183,0.6694316978468055,0.768090363572185,0.32974467584421696,0.23267443228615134,0.9459936463113306,0.32586186610189427,0.9581715495940698,0.9342863866337215,0.2749735262972114,0.5342393222732086,0.7652665019414049,0.3969290504765266,0.3589834098129191,0.6675491234262855,0.575420637722085,0.34598188022120246,0.3410401223673373,0.5663019178726909,0.49499941169549355,0.7333215672432051,0.579185786563125,0.748264501706083,0.26609012825038236,0.38581009530533006,0.4482292034356983,0.18372749735262975,0.7100247087892693,0.47846805506530177,0.05430050594187552,0.3238616307800918,0.8029768208024474,0.1408400988351571,0.9006353688669254,0.4838804565242969,0.6930227085539475,0.19790563595717145,0.9984115778326862,0.671196611366043,0.5350041181315449,0.6094834686433698,0.5827156136016002,0.9965290034121662,0.663489822332039,0.32068478644546417,0.3809859983527474,0.3805741851982586,0.12124955877162022,0.6865513589834098,0.8416872573243911,0.13601600188257443,0.5709495234733498,0.5786563125073538,0.3429815272384986,0.23855747735027652,0.09930580068243325,0.2303800447111425,0.8533356865513589,0.8422755618308037,0.9000470643605131,0.9220496529003411,0.3270384751147194,0.9089304624073421,0.06341922579126957,0.8225673608659843,0.9016354865278268,0.7503235674785269,0.4255794799388163,0.11942581480174139,0.5008236263089775,0.5350041181315449,0.8404518178609247,0.3476879632897988,0.6879632897987998,0.9351100129426991,0.7314978232733262,0.06706671373102718,0.5459465819508177,0.11983762795623012,0.2511471937875044,0.5909518766913754,0.9928815154724085,0.41857865631250735,0.2226732556771385,0.5405930109424638,0.3192728556300741,0.39298741028356277,0.8760442404988823,0.5672432050829509,0.5848923402753264,0.6160136486645488,0.7642663842805035,0.40404753500411805,0.4511118955171196,0.6787269090481233,0.598305683021532,0.814801741381339,0.7635015884221673,0.8673961642546181,0.3370396517237322,0.8189198729262266,0.007353806330156504,0.32950935404165194,0.740087069066949,0.5418284504059301,0.3923991057771502,0.7218496293681609,0.5678903400400047,0.24032239086951404,0.24585245322979174,0.16707847982115545,0.3552770914225203,0.6061301329568184,0.2798564537004353,0.9549947052594422,0.08083303918108012,0.06941993175667727,0.3513942816801976,0.11066007765619487,0.2664431109542299,0.06306624308742206,0.8084480527120838,0.5624779385810095,0.12677962113189786,0.9520531827273796,0.4685845393575715,0.15172373220378868,0.12695611248382163,0.9513472173196847,0.8176844334627603,0.6729615248852806,0.8634545240616543,0.8492175550064712,0.7071420167078479,0.39834098129191664,0.09565831274267564,0.4834686433698082,0.5713613366278385,0.4992940345923049,0.12825038239792916,0.4214025179432874,0.05294740557712671,0.546476056006589,0.16943169784680553,0.7681491940228262,0.33068596305447695,0.08100953053300389,0.332333215672432,0.7313801623720437,0.5562419108130368,0.4138722202612072,0.38157430285915983,0.2707377338510413,0.7430874220496528,0.012883868690434175,0.2833862807389105,0.43228615131191905,0.3304506412519119,0.5797740910695376,0.26914931168372747,0.8945758324508765,0.08595128838686902,0.9356394869984704,0.9560536533709848,0.48446876103070946,0.33839275208848096,0.4256971408400988,0.8338628073891047,0.3641604894693493,0.8601600188257442,0.05883045064125192,0.8751617837392635,0.6018943405106483,0.2632662666196023,0.9919402282621484,0.03023885162960349,0.07000823626308977,0.7910930697729145,0.37039651723732203,0.49023414519355213,0.3533945170020002,0.46981997882103776,0.046240734204024,0.36598423343922815,0.5807742087304388,0.15125308859865869,0.40675373573361573,0.2960348276267796,0.45811271914342866,0.92293210965996,0.6736674902929756,0.27715025297093776,0.7340275326509,0.8884574655841863,0.7810330627132603,0.3370396517237322,0.6308389222261442,0.6924932344981762,0.9569949405812449,0.7612072008471584,0.9960583598070362,0.8613954582892104,0.9974114601717848,0.6746676079538769,0.010412989763501579,0.04688786916107779,0.4471114248735145,0.16437227909165783,0.7350864807624427,0.26985527709142254,0.42922696787857395,0.18137427932697966,0.6535474761736675,0.0429462289681139,0.06636074832333216,0.09436404282856806,0.7041416637251441,0.668372749735263,0.17249088128015058,0.8933992234380516,0.29844687610307097,0.8257442052006118,0.4175785386516061,0.052476761971996716,0.0817154959406989,0.139428168019767,0.08906930227085538,0.9356983174491117,0.8591599011648429,0.32856806683139195,0.1715495940698906,0.9354041651959054,0.22308506883162724,0.5851276620778915,0.9329332862689729,0.09271679021061299,0.5581244852335568,0.5390634192257913,0.06053653370984821,0.6344275797152606,0.3935757147899752,0.37398517472643833,0.912460289445817,0.9351688433933404,0.6850805977173785,0.9102835627720908,0.41393105071184844,0.5587716201906107,0.7874455818331568,0.3659254029885869,0.8445111189551712,0.4346393693375691,0.2895046476056007,0.8023296858453935,0.5884221673138016,0.3045652429697612,0.8965172373220379,0.23338039769384636,0.15972467349099892,0.7947993881633133,0.4812330862454406,0.7644428756324273,0.6646076008942228,0.9860571831980233,0.37527944464054597,0.03612189669372867,0.5387104365219437,0.1857277326744323,0.7902694434639369,0.2904459348158607,0.522414401694317,0.3295681844922932,0.9862925050005883,0.6879632897987998,0.5750088245675962,0.8564537004353453,0.361513119190493,0.517766796093658,0.4886457230262383,0.026179550535357116,0.08177432639134016,0.6994940581244852,0.8822802682668548,0.5450052947405577,0.3208024473467467,0.1852570890693023,0.9051064831156607,0.37727967996234846,0.2739145781856689,0.32233203906341923,0.47252617955053533,0.05777150252970939,0.5025297093775738,0.5833039181080126,0.5966584304035769,0.9165784209907047,0.11213083892222617,0.5421226026591364,0.5139428168019767,0.8092716790210612,0.24549947052594426,0.9240498882221438,0.5468878691610778,0.11701376632545005,0.9632309683492176,0.9239322273208613,0.8615131191904929,0.8040357689139899,0.9388751617837393,0.260854218143311,0.929697611483704,0.8603953406283092,0.3793387457347923,0.18813978115072363,0.3981056594893516,0.5370631839039887,0.5078244499352865,0.2484998235086481,0.35610071773149776,0.08848099776444288,0.5325332392046123,0.9264619366984351,0.9614660548299799,0.09118719849394044,0.8914578185668901,0.8117425579479939,0.4030474173432168,0.08518649252853275,0.1563713378044476,0.4416990234145193,0.1600188257442052,0.6170725967760913,0.5778915166490175,0.36704318155077065,0.9939404635839509,0.012589716437227921,0.42934462877985646,0.6096599599952935,0.185433580421226,0.1003059183433345,0.605777150252971,0.09212848570420049,0.6117778562183787,0.6085421814331098,0.06630191787269091,0.46276032474408757,0.3283915754794682,0.2880338863395694,0.3529827038475114,0.26861983762795627,0.5453582774444052,0.8440404753500411,0.6884339334039299,0.7840922461466054,0.36798446876103064,0.013354512295564197,0.9811154253441582,0.251970820096482,0.7876809036357219,0.05394752323802801,0.6732556771384869,0.02923873396870219,0.16519590540063536,0.29179903518060946,0.5304153429815273,0.2222614425226497,0.12454406400753029,0.3759265795975997,0.00847158489234029,0.8193905165313566,0.8775150017649135,0.26850217672667376,0.9751147193787505,0.3903988704553477,0.48488057418519825,0.14172255559477584,0.1070125897164372,0.34598188022120246,0.10977762089657608,0.4391104835863042,0.6741969643487469,0.3589834098129191,0.7174961760207083,0.9073420402400282,0.014060477703259217,0.27238498646899634,0.5646546652547358,0.6879044593481586,0.29862336745499474,0.22161430756559594,0.5377691493116837,0.4702906224261678,0.7809742322626191,0.7497940934227556,0.6750205906577245,0.38633956936110125,0.15295917166725495,0.8149782327332628,0.12695611248382163,0.48899870573008586,0.25691257795034705,0.07742087304388753,0.0723026238380986,0.07647958583362749,0.9369337569125779,0.11230733027414988,0.8767502059065772,0.47687963289798796,0.9742910930697729,0.5345923049770561,0.838863395693611,0.5731262501470761,0.5107659724673491,0.003470996587833869,0.5452406165431227,0.170255324155783,0.9014001647252617,0.7266148958701023,0.6985527709142252,0.34251088363336857,0.03135663019178728,0.23591010707142016,0.40922461466054827,0.5409459936463114,0.6288975173549829,0.7839745852453229,0.1591363689845864,0.0,0.5426520767149076,0.6406636074832333,0.10942463819272855,0.30991881397811505,0.9235204141663725,0.48941051888457465,0.9895281797858572,0.6317802094364042,0.18402164960583597,0.31750794211083655,0.32521473114484056,0.23043887516178377,0.9653488645723026,0.40804800564772326,0.41869631721378986,0.3139781150723615,0.7336745499470526,0.18466878456288974,0.47034945287680896,0.9111660195317096,0.8353923991057771,0.4574067537357336,0.29074008706906695,0.7580303565125308,0.4587010236498411,0.4759971761383692,0.6947287916225438,0.8773385104129897,0.14466407812683843,0.5139428168019767,0.8188610424755853,0.6326038357453818,0.903576891398988,0.5853629838804565,0.1508412754441699,0.18666901988469234,0.15466525473585127,0.25414754677020823,0.776738439816449,0.4175785386516061,0.6682550888339804,0.794269914107542,0.8312154371102481,0.8395105306506648,0.9456406636074831,0.24414637016119542,0.5241793152135545,0.7565595952464995,0.03912224967643252,0.3435110012942699,0.2096717260854218,0.9194611130721261,0.4342275561830803,0.9499941169549359,0.9336392516766677,0.7807977409106953,0.05830097658548064,0.12472055535945406,0.7287327920931874,0.24326391340157663,0.9839981174255795,0.7443228615131192,0.910577715025297,0.28368043299211676,0.3218025650076479,0.5607718555124132,0.41922579126956105,0.21879044593481586,0.9233439228144488,0.08018590422402636,0.15925402988586893,0.7636780797740911,0.008824567596187799,0.13648664548770442,0.8156253676903165,0.02906224261677845,0.7051417813860454,0.0326509001058948,0.7878573949876456,0.18143310977762092,0.009118719849394052,0.5250617719731733,0.4212848570420049,0.47382044946464286,0.2737380868337451,0.6746087775032357,0.00900105894811154,0.4676432521473114,0.9014001647252617,0.27209083421579006,0.8388045652429698,0.8749264619366984,0.5511236616072479,0.008942228497470284,0.46193669843511,0.32933286268972817,0.6499588186845511,0.04618190375338274,0.25691257795034705,0.877867984468761,0.2512648546887869,0.3525708906930227,0.8286268972820331,0.5447699729379927,0.4124014589951759,0.5496529003412166,0.39434051064831155,0.9351100129426991,0.008353923991057777,0.6283092128485704,0.43334509942346155,0.1898458642193199,0.269502294387575,0.7733851041298976,0.6704318155077068,0.354747617366749,0.8028003294505236,0.8909871749617603,0.24614660548299802,0.7344981762560301,0.4310507118484528,0.9814684080480057,0.17702082597952698,0.3267443228615131,0.003882809742322635,0.09036357218496296,0.9871749617602071,0.3340981291916696,0.5145311213083892,0.17296152488528063,0.6381927285563007,0.415695964231086,0.5971290740087069,0.8898105659489352,0.9184609954112247,0.3792210848335098,0.368984586421932,0.07636192493234498,0.3941640192963878,0.2937404400517708,0.9192846217202023,0.4864101659018708,0.1664901753147429,0.6824920578891635,0.6952582656783151,0.6834921755500647,0.9801153076832568,0.1816684315801859,0.030709495234733514,0.730027062007295,0.9254618190375338,0.4804094599364631,0.30527120837745614,0.2690904812330862,0.45452406165431225,0.12530885986586657,0.8765148841040121,0.6666078362160254,0.3921049535239439,0.9721731968466879,0.7340863631015413,0.08289210495352392,0.7450288269208142,0.03135663019178728,0.19655253559242267,0.7920931874338157,0.2646781974349923,0.06889045770090599,0.09648193905165312,0.9915284151076597,0.5140016472526179],\"y0\":\" \",\"yaxis\":\"y\",\"type\":\"box\"},{\"alignmentgroup\":\"True\",\"hovertemplate\":\"Attrition=%{x}\\u003cbr\\u003eMonthly_Income=%{y}\\u003cextra\\u003e\\u003c\\u002fextra\\u003e\",\"legendgroup\":\"Yes\",\"marker\":{\"color\":\"#EF553B\"},\"name\":\"Yes\",\"notched\":false,\"offsetgroup\":\"Yes\",\"orientation\":\"v\",\"showlegend\":true,\"x\":[\"Yes\",\"Yes\",\"Yes\",\"Yes\",\"Yes\",\"Yes\",\"Yes\",\"Yes\",\"Yes\",\"Yes\",\"Yes\",\"Yes\",\"Yes\",\"Yes\",\"Yes\",\"Yes\",\"Yes\",\"Yes\",\"Yes\",\"Yes\",\"Yes\",\"Yes\",\"Yes\",\"Yes\",\"Yes\",\"Yes\",\"Yes\",\"Yes\",\"Yes\",\"Yes\",\"Yes\",\"Yes\",\"Yes\",\"Yes\",\"Yes\",\"Yes\",\"Yes\",\"Yes\",\"Yes\",\"Yes\",\"Yes\",\"Yes\",\"Yes\",\"Yes\",\"Yes\",\"Yes\",\"Yes\",\"Yes\",\"Yes\",\"Yes\",\"Yes\",\"Yes\",\"Yes\",\"Yes\",\"Yes\",\"Yes\",\"Yes\",\"Yes\",\"Yes\",\"Yes\",\"Yes\",\"Yes\",\"Yes\",\"Yes\",\"Yes\",\"Yes\",\"Yes\",\"Yes\",\"Yes\",\"Yes\",\"Yes\",\"Yes\",\"Yes\",\"Yes\",\"Yes\",\"Yes\",\"Yes\",\"Yes\",\"Yes\",\"Yes\",\"Yes\",\"Yes\",\"Yes\",\"Yes\",\"Yes\",\"Yes\",\"Yes\",\"Yes\",\"Yes\",\"Yes\",\"Yes\",\"Yes\",\"Yes\",\"Yes\",\"Yes\",\"Yes\",\"Yes\",\"Yes\",\"Yes\",\"Yes\",\"Yes\",\"Yes\",\"Yes\",\"Yes\",\"Yes\",\"Yes\",\"Yes\",\"Yes\",\"Yes\",\"Yes\",\"Yes\",\"Yes\",\"Yes\",\"Yes\",\"Yes\",\"Yes\",\"Yes\",\"Yes\",\"Yes\",\"Yes\",\"Yes\",\"Yes\",\"Yes\",\"Yes\",\"Yes\",\"Yes\",\"Yes\",\"Yes\",\"Yes\",\"Yes\",\"Yes\",\"Yes\",\"Yes\",\"Yes\",\"Yes\",\"Yes\",\"Yes\",\"Yes\",\"Yes\",\"Yes\",\"Yes\",\"Yes\",\"Yes\",\"Yes\",\"Yes\",\"Yes\",\"Yes\",\"Yes\",\"Yes\",\"Yes\",\"Yes\",\"Yes\",\"Yes\",\"Yes\",\"Yes\",\"Yes\",\"Yes\",\"Yes\",\"Yes\",\"Yes\",\"Yes\",\"Yes\",\"Yes\",\"Yes\",\"Yes\",\"Yes\",\"Yes\",\"Yes\",\"Yes\",\"Yes\",\"Yes\",\"Yes\",\"Yes\",\"Yes\",\"Yes\",\"Yes\",\"Yes\",\"Yes\",\"Yes\",\"Yes\",\"Yes\",\"Yes\",\"Yes\",\"Yes\",\"Yes\",\"Yes\",\"Yes\",\"Yes\",\"Yes\"],\"x0\":\" \",\"xaxis\":\"x\",\"y\":[0.30568302153194493,0.3278032709730556,0.8553947523238027,0.639898811624897,0.5477114954700553,0.5655959524649958,0.2976232497940934,0.9345217084362866,0.39045770090598897,0.03576891398988116,0.6087186727850336,0.9999999999999999,0.4384633486292505,0.8039181080127074,0.7276738439816449,0.238439816448994,0.9100482409695257,0.4407577362042593,0.2202023767502059,0.3290387104365219,0.4194022826214848,0.836510177667961,0.7880927167902105,0.3869278738675138,0.7966819625838334,0.022002588539828227,0.46076008942228497,0.546476056006589,0.8436874926461936,0.8419225791269561,0.27250264737027885,0.8105071184845276,0.015943052123779278,0.8479232850923638,0.9162842687374985,0.745205318272738,0.7664431109542299,0.5365337098482175,0.6064831156606659,0.5262972114366395,0.9422284974702907,0.9484056947876222,0.04065184139310507,0.37622073185080596,0.5925402988586892,0.5839510530650664,0.9738792799152841,0.024708789269325793,0.9392281444875868,0.5379456406636075,0.510060007059654,0.6886104247558537,0.324391104835863,0.5018237439698788,0.2511471937875044,0.5311801388398635,0.10660077656194847,0.017884456994940595,0.8439816448993999,0.17266737263207435,0.22714436992587364,0.33227438522179076,0.19643487469114015,0.46328979879985877,0.27544416990234144,0.10489469349335215,0.4054594658195082,0.7447935051182492,0.6544887633839275,0.5920696552535593,0.1741969643487469,0.31150723614542886,0.9410518884574656,0.8822214378162135,0.5221202494411107,0.16978468055065302,0.2949170490645958,0.028768090363572196,0.21931991999058711,0.1756677256147782,0.3285092363807507,0.18578656312507355,0.15837157312625014,0.2552653253323921,0.4268737498529238,0.686139545828921,0.6820214142840334,0.2498529238733969,0.8368631603718085,0.45958348040945995,0.1216025414754677,0.7340275326509,0.6388398635133545,0.9797623249794093,0.1959642310860101,0.21620190610660076,0.0038239792916813786,0.9326979644664078,0.4431109542299094,0.2715025297093776,0.01158959877632662,0.578244499352865,0.8116837274973526,0.6433698082127309,0.24932344981762558,0.20184727615013534,0.37210260030591835,0.9342275561830803,0.08595128838686902,0.6217790328273914,0.4569949405812448,0.974997058477468,0.02717966819625839,0.3186257206730203,0.130074126367808,0.021767266737263202,0.32733262736792557,0.43746323096834916,0.6774326391340157,0.9091069537592659,0.3511001294269914,0.9330509471702554,0.6168372749735263,0.8761619014001648,0.3291563713378044,0.22202612072008474,0.6680785974820567,0.46770208259795265,0.9988822214378162,0.6371926108953995,0.8696317213789858,0.7320272973290975,0.5668902223791034,0.1720202376750206,0.6778444522885045,0.6537239675255913,0.16119543475703021,0.7802682668549241,0.5911871984939404,0.14825273561595484,0.9443463936933757,0.3576303094481703,0.7807389104600541,0.16213672196729026,0.38022120249441105,0.8896929050476526,0.9982350864807624,0.7036710201200141,0.1267207906812566,0.8718084480527121,0.65366513707495,0.8459230497705613,0.6682550888339804,0.9959995293563949,0.6388398635133545,0.5292387339687021,0.18966937286739619,0.6372514413460407,0.18313919284621719,0.18590422402635606,0.6066596070125897,0.34121661371926104,0.9804682903871044,0.6133074479350512,0.4332862689728203,0.40340040004706434,0.28938698670431817,0.12630897752676787,0.0912460289445817,0.7656783150958936,0.7282033180374161,0.9289916460760089,0.8697493822802683,0.4124014589951759,0.07124367572655607,0.831862572067302,0.2495587716201906,0.6762560301211907,0.5617131427226733,0.7167902106130133,0.6793740440051771,0.8892222614425226,0.323449817625603,0.44052241440169426,0.11736674902929758,0.9046358395105306,0.10565948935168842,0.1978468055065302,0.4709965878338628],\"y0\":\" \",\"yaxis\":\"y\",\"type\":\"box\"}],                        {\"template\":{\"data\":{\"histogram2dcontour\":[{\"type\":\"histogram2dcontour\",\"colorbar\":{\"outlinewidth\":0,\"ticks\":\"\"},\"colorscale\":[[0.0,\"#0d0887\"],[0.1111111111111111,\"#46039f\"],[0.2222222222222222,\"#7201a8\"],[0.3333333333333333,\"#9c179e\"],[0.4444444444444444,\"#bd3786\"],[0.5555555555555556,\"#d8576b\"],[0.6666666666666666,\"#ed7953\"],[0.7777777777777778,\"#fb9f3a\"],[0.8888888888888888,\"#fdca26\"],[1.0,\"#f0f921\"]]}],\"choropleth\":[{\"type\":\"choropleth\",\"colorbar\":{\"outlinewidth\":0,\"ticks\":\"\"}}],\"histogram2d\":[{\"type\":\"histogram2d\",\"colorbar\":{\"outlinewidth\":0,\"ticks\":\"\"},\"colorscale\":[[0.0,\"#0d0887\"],[0.1111111111111111,\"#46039f\"],[0.2222222222222222,\"#7201a8\"],[0.3333333333333333,\"#9c179e\"],[0.4444444444444444,\"#bd3786\"],[0.5555555555555556,\"#d8576b\"],[0.6666666666666666,\"#ed7953\"],[0.7777777777777778,\"#fb9f3a\"],[0.8888888888888888,\"#fdca26\"],[1.0,\"#f0f921\"]]}],\"heatmap\":[{\"type\":\"heatmap\",\"colorbar\":{\"outlinewidth\":0,\"ticks\":\"\"},\"colorscale\":[[0.0,\"#0d0887\"],[0.1111111111111111,\"#46039f\"],[0.2222222222222222,\"#7201a8\"],[0.3333333333333333,\"#9c179e\"],[0.4444444444444444,\"#bd3786\"],[0.5555555555555556,\"#d8576b\"],[0.6666666666666666,\"#ed7953\"],[0.7777777777777778,\"#fb9f3a\"],[0.8888888888888888,\"#fdca26\"],[1.0,\"#f0f921\"]]}],\"heatmapgl\":[{\"type\":\"heatmapgl\",\"colorbar\":{\"outlinewidth\":0,\"ticks\":\"\"},\"colorscale\":[[0.0,\"#0d0887\"],[0.1111111111111111,\"#46039f\"],[0.2222222222222222,\"#7201a8\"],[0.3333333333333333,\"#9c179e\"],[0.4444444444444444,\"#bd3786\"],[0.5555555555555556,\"#d8576b\"],[0.6666666666666666,\"#ed7953\"],[0.7777777777777778,\"#fb9f3a\"],[0.8888888888888888,\"#fdca26\"],[1.0,\"#f0f921\"]]}],\"contourcarpet\":[{\"type\":\"contourcarpet\",\"colorbar\":{\"outlinewidth\":0,\"ticks\":\"\"}}],\"contour\":[{\"type\":\"contour\",\"colorbar\":{\"outlinewidth\":0,\"ticks\":\"\"},\"colorscale\":[[0.0,\"#0d0887\"],[0.1111111111111111,\"#46039f\"],[0.2222222222222222,\"#7201a8\"],[0.3333333333333333,\"#9c179e\"],[0.4444444444444444,\"#bd3786\"],[0.5555555555555556,\"#d8576b\"],[0.6666666666666666,\"#ed7953\"],[0.7777777777777778,\"#fb9f3a\"],[0.8888888888888888,\"#fdca26\"],[1.0,\"#f0f921\"]]}],\"surface\":[{\"type\":\"surface\",\"colorbar\":{\"outlinewidth\":0,\"ticks\":\"\"},\"colorscale\":[[0.0,\"#0d0887\"],[0.1111111111111111,\"#46039f\"],[0.2222222222222222,\"#7201a8\"],[0.3333333333333333,\"#9c179e\"],[0.4444444444444444,\"#bd3786\"],[0.5555555555555556,\"#d8576b\"],[0.6666666666666666,\"#ed7953\"],[0.7777777777777778,\"#fb9f3a\"],[0.8888888888888888,\"#fdca26\"],[1.0,\"#f0f921\"]]}],\"mesh3d\":[{\"type\":\"mesh3d\",\"colorbar\":{\"outlinewidth\":0,\"ticks\":\"\"}}],\"scatter\":[{\"fillpattern\":{\"fillmode\":\"overlay\",\"size\":10,\"solidity\":0.2},\"type\":\"scatter\"}],\"parcoords\":[{\"type\":\"parcoords\",\"line\":{\"colorbar\":{\"outlinewidth\":0,\"ticks\":\"\"}}}],\"scatterpolargl\":[{\"type\":\"scatterpolargl\",\"marker\":{\"colorbar\":{\"outlinewidth\":0,\"ticks\":\"\"}}}],\"bar\":[{\"error_x\":{\"color\":\"#2a3f5f\"},\"error_y\":{\"color\":\"#2a3f5f\"},\"marker\":{\"line\":{\"color\":\"#E5ECF6\",\"width\":0.5},\"pattern\":{\"fillmode\":\"overlay\",\"size\":10,\"solidity\":0.2}},\"type\":\"bar\"}],\"scattergeo\":[{\"type\":\"scattergeo\",\"marker\":{\"colorbar\":{\"outlinewidth\":0,\"ticks\":\"\"}}}],\"scatterpolar\":[{\"type\":\"scatterpolar\",\"marker\":{\"colorbar\":{\"outlinewidth\":0,\"ticks\":\"\"}}}],\"histogram\":[{\"marker\":{\"pattern\":{\"fillmode\":\"overlay\",\"size\":10,\"solidity\":0.2}},\"type\":\"histogram\"}],\"scattergl\":[{\"type\":\"scattergl\",\"marker\":{\"colorbar\":{\"outlinewidth\":0,\"ticks\":\"\"}}}],\"scatter3d\":[{\"type\":\"scatter3d\",\"line\":{\"colorbar\":{\"outlinewidth\":0,\"ticks\":\"\"}},\"marker\":{\"colorbar\":{\"outlinewidth\":0,\"ticks\":\"\"}}}],\"scattermapbox\":[{\"type\":\"scattermapbox\",\"marker\":{\"colorbar\":{\"outlinewidth\":0,\"ticks\":\"\"}}}],\"scatterternary\":[{\"type\":\"scatterternary\",\"marker\":{\"colorbar\":{\"outlinewidth\":0,\"ticks\":\"\"}}}],\"scattercarpet\":[{\"type\":\"scattercarpet\",\"marker\":{\"colorbar\":{\"outlinewidth\":0,\"ticks\":\"\"}}}],\"carpet\":[{\"aaxis\":{\"endlinecolor\":\"#2a3f5f\",\"gridcolor\":\"white\",\"linecolor\":\"white\",\"minorgridcolor\":\"white\",\"startlinecolor\":\"#2a3f5f\"},\"baxis\":{\"endlinecolor\":\"#2a3f5f\",\"gridcolor\":\"white\",\"linecolor\":\"white\",\"minorgridcolor\":\"white\",\"startlinecolor\":\"#2a3f5f\"},\"type\":\"carpet\"}],\"table\":[{\"cells\":{\"fill\":{\"color\":\"#EBF0F8\"},\"line\":{\"color\":\"white\"}},\"header\":{\"fill\":{\"color\":\"#C8D4E3\"},\"line\":{\"color\":\"white\"}},\"type\":\"table\"}],\"barpolar\":[{\"marker\":{\"line\":{\"color\":\"#E5ECF6\",\"width\":0.5},\"pattern\":{\"fillmode\":\"overlay\",\"size\":10,\"solidity\":0.2}},\"type\":\"barpolar\"}],\"pie\":[{\"automargin\":true,\"type\":\"pie\"}]},\"layout\":{\"autotypenumbers\":\"strict\",\"colorway\":[\"#636efa\",\"#EF553B\",\"#00cc96\",\"#ab63fa\",\"#FFA15A\",\"#19d3f3\",\"#FF6692\",\"#B6E880\",\"#FF97FF\",\"#FECB52\"],\"font\":{\"color\":\"#2a3f5f\"},\"hovermode\":\"closest\",\"hoverlabel\":{\"align\":\"left\"},\"paper_bgcolor\":\"white\",\"plot_bgcolor\":\"#E5ECF6\",\"polar\":{\"bgcolor\":\"#E5ECF6\",\"angularaxis\":{\"gridcolor\":\"white\",\"linecolor\":\"white\",\"ticks\":\"\"},\"radialaxis\":{\"gridcolor\":\"white\",\"linecolor\":\"white\",\"ticks\":\"\"}},\"ternary\":{\"bgcolor\":\"#E5ECF6\",\"aaxis\":{\"gridcolor\":\"white\",\"linecolor\":\"white\",\"ticks\":\"\"},\"baxis\":{\"gridcolor\":\"white\",\"linecolor\":\"white\",\"ticks\":\"\"},\"caxis\":{\"gridcolor\":\"white\",\"linecolor\":\"white\",\"ticks\":\"\"}},\"coloraxis\":{\"colorbar\":{\"outlinewidth\":0,\"ticks\":\"\"}},\"colorscale\":{\"sequential\":[[0.0,\"#0d0887\"],[0.1111111111111111,\"#46039f\"],[0.2222222222222222,\"#7201a8\"],[0.3333333333333333,\"#9c179e\"],[0.4444444444444444,\"#bd3786\"],[0.5555555555555556,\"#d8576b\"],[0.6666666666666666,\"#ed7953\"],[0.7777777777777778,\"#fb9f3a\"],[0.8888888888888888,\"#fdca26\"],[1.0,\"#f0f921\"]],\"sequentialminus\":[[0.0,\"#0d0887\"],[0.1111111111111111,\"#46039f\"],[0.2222222222222222,\"#7201a8\"],[0.3333333333333333,\"#9c179e\"],[0.4444444444444444,\"#bd3786\"],[0.5555555555555556,\"#d8576b\"],[0.6666666666666666,\"#ed7953\"],[0.7777777777777778,\"#fb9f3a\"],[0.8888888888888888,\"#fdca26\"],[1.0,\"#f0f921\"]],\"diverging\":[[0,\"#8e0152\"],[0.1,\"#c51b7d\"],[0.2,\"#de77ae\"],[0.3,\"#f1b6da\"],[0.4,\"#fde0ef\"],[0.5,\"#f7f7f7\"],[0.6,\"#e6f5d0\"],[0.7,\"#b8e186\"],[0.8,\"#7fbc41\"],[0.9,\"#4d9221\"],[1,\"#276419\"]]},\"xaxis\":{\"gridcolor\":\"white\",\"linecolor\":\"white\",\"ticks\":\"\",\"title\":{\"standoff\":15},\"zerolinecolor\":\"white\",\"automargin\":true,\"zerolinewidth\":2},\"yaxis\":{\"gridcolor\":\"white\",\"linecolor\":\"white\",\"ticks\":\"\",\"title\":{\"standoff\":15},\"zerolinecolor\":\"white\",\"automargin\":true,\"zerolinewidth\":2},\"scene\":{\"xaxis\":{\"backgroundcolor\":\"#E5ECF6\",\"gridcolor\":\"white\",\"linecolor\":\"white\",\"showbackground\":true,\"ticks\":\"\",\"zerolinecolor\":\"white\",\"gridwidth\":2},\"yaxis\":{\"backgroundcolor\":\"#E5ECF6\",\"gridcolor\":\"white\",\"linecolor\":\"white\",\"showbackground\":true,\"ticks\":\"\",\"zerolinecolor\":\"white\",\"gridwidth\":2},\"zaxis\":{\"backgroundcolor\":\"#E5ECF6\",\"gridcolor\":\"white\",\"linecolor\":\"white\",\"showbackground\":true,\"ticks\":\"\",\"zerolinecolor\":\"white\",\"gridwidth\":2}},\"shapedefaults\":{\"line\":{\"color\":\"#2a3f5f\"}},\"annotationdefaults\":{\"arrowcolor\":\"#2a3f5f\",\"arrowhead\":0,\"arrowwidth\":1},\"geo\":{\"bgcolor\":\"white\",\"landcolor\":\"#E5ECF6\",\"subunitcolor\":\"white\",\"showland\":true,\"showlakes\":true,\"lakecolor\":\"white\"},\"title\":{\"x\":0.05},\"mapbox\":{\"style\":\"light\"}}},\"xaxis\":{\"anchor\":\"y\",\"domain\":[0.0,1.0],\"title\":{\"text\":\"Attrition\"},\"categoryorder\":\"array\",\"categoryarray\":[\"No\",\"Yes\"]},\"yaxis\":{\"anchor\":\"x\",\"domain\":[0.0,1.0],\"title\":{\"text\":\"Monthly_Income\"}},\"legend\":{\"title\":{\"text\":\"Attrition\"},\"tracegroupgap\":0},\"title\":{\"text\":\"Monthly Income vs Attrition (Interactive)\"},\"boxmode\":\"overlay\"},                        {\"responsive\": true}                    ).then(function(){\n",
              "                            \n",
              "var gd = document.getElementById('2ef60de0-d4f9-4d4f-8767-afc733aefc0f');\n",
              "var x = new MutationObserver(function (mutations, observer) {{\n",
              "        var display = window.getComputedStyle(gd).display;\n",
              "        if (!display || display === 'none') {{\n",
              "            console.log([gd, 'removed!']);\n",
              "            Plotly.purge(gd);\n",
              "            observer.disconnect();\n",
              "        }}\n",
              "}});\n",
              "\n",
              "// Listen for the removal of the full notebook cells\n",
              "var notebookContainer = gd.closest('#notebook-container');\n",
              "if (notebookContainer) {{\n",
              "    x.observe(notebookContainer, {childList: true});\n",
              "}}\n",
              "\n",
              "// Listen for the clearing of the current output cell\n",
              "var outputEl = gd.closest('.output');\n",
              "if (outputEl) {{\n",
              "    x.observe(outputEl, {childList: true});\n",
              "}}\n",
              "\n",
              "                        })                };                            </script>        </div>\n",
              "</body>\n",
              "</html>"
            ]
          },
          "metadata": {}
        }
      ],
      "source": [
        "import plotly.express as px\n",
        "\n",
        "fig = px.box(\n",
        "    data_frame=data,\n",
        "    x='Attrition',\n",
        "    y='Monthly_Income',\n",
        "    color='Attrition',\n",
        "    title='Monthly Income vs Attrition (Interactive)'\n",
        ")\n",
        "fig.show()\n"
      ]
    },
    {
      "cell_type": "code",
      "execution_count": null,
      "metadata": {
        "id": "P7CUeTVN55xH",
        "colab": {
          "base_uri": "https://localhost:8080/"
        },
        "outputId": "1e87863a-8eca-4d53-ca02-e939c70300f2"
      },
      "outputs": [
        {
          "output_type": "stream",
          "name": "stdout",
          "text": [
            "Tenure_Group\n",
            "Short-Term    1000\n",
            "Name: count, dtype: int64\n"
          ]
        }
      ],
      "source": [
        "# Create a tenure group feature based on years at company\n",
        "def categorize_tenure(years):\n",
        "    if years < 3:\n",
        "        return 'Short-Term'\n",
        "    elif 3 <= years <= 6:\n",
        "        return 'Medium-Term'\n",
        "    else:\n",
        "        return 'Long-Term'\n",
        "\n",
        "# Apply the function to create the new column\n",
        "data['Tenure_Group'] = data['Years_at_Company'].apply(categorize_tenure)\n",
        "\n",
        "# Optional: Check the value counts\n",
        "print(data['Tenure_Group'].value_counts())\n"
      ]
    },
    {
      "cell_type": "code",
      "execution_count": null,
      "metadata": {
        "id": "cp-Ew31Z6O6n",
        "colab": {
          "base_uri": "https://localhost:8080/",
          "height": 542
        },
        "outputId": "d2a68a7a-7b3a-4e47-9675-4c32aedf4160"
      },
      "outputs": [
        {
          "output_type": "display_data",
          "data": {
            "text/html": [
              "<html>\n",
              "<head><meta charset=\"utf-8\" /></head>\n",
              "<body>\n",
              "    <div>            <script src=\"https://cdnjs.cloudflare.com/ajax/libs/mathjax/2.7.5/MathJax.js?config=TeX-AMS-MML_SVG\"></script><script type=\"text/javascript\">if (window.MathJax && window.MathJax.Hub && window.MathJax.Hub.Config) {window.MathJax.Hub.Config({SVG: {font: \"STIX-Web\"}});}</script>                <script type=\"text/javascript\">window.PlotlyConfig = {MathJaxConfig: 'local'};</script>\n",
              "        <script charset=\"utf-8\" src=\"https://cdn.plot.ly/plotly-2.35.2.min.js\"></script>                <div id=\"4f600999-649c-4de6-bc46-9054f44cc864\" class=\"plotly-graph-div\" style=\"height:525px; width:100%;\"></div>            <script type=\"text/javascript\">                                    window.PLOTLYENV=window.PLOTLYENV || {};                                    if (document.getElementById(\"4f600999-649c-4de6-bc46-9054f44cc864\")) {                    Plotly.newPlot(                        \"4f600999-649c-4de6-bc46-9054f44cc864\",                        [{\"alignmentgroup\":\"True\",\"hovertemplate\":\"Attrition=No\\u003cbr\\u003eTenure_Group=%{x}\\u003cbr\\u003ecount=%{y}\\u003cextra\\u003e\\u003c\\u002fextra\\u003e\",\"legendgroup\":\"No\",\"marker\":{\"color\":\"#636efa\",\"pattern\":{\"shape\":\"\"}},\"name\":\"No\",\"offsetgroup\":\"No\",\"orientation\":\"v\",\"showlegend\":true,\"textposition\":\"auto\",\"x\":[\"Short-Term\",\"Short-Term\",\"Short-Term\",\"Short-Term\",\"Short-Term\",\"Short-Term\",\"Short-Term\",\"Short-Term\",\"Short-Term\",\"Short-Term\",\"Short-Term\",\"Short-Term\",\"Short-Term\",\"Short-Term\",\"Short-Term\",\"Short-Term\",\"Short-Term\",\"Short-Term\",\"Short-Term\",\"Short-Term\",\"Short-Term\",\"Short-Term\",\"Short-Term\",\"Short-Term\",\"Short-Term\",\"Short-Term\",\"Short-Term\",\"Short-Term\",\"Short-Term\",\"Short-Term\",\"Short-Term\",\"Short-Term\",\"Short-Term\",\"Short-Term\",\"Short-Term\",\"Short-Term\",\"Short-Term\",\"Short-Term\",\"Short-Term\",\"Short-Term\",\"Short-Term\",\"Short-Term\",\"Short-Term\",\"Short-Term\",\"Short-Term\",\"Short-Term\",\"Short-Term\",\"Short-Term\",\"Short-Term\",\"Short-Term\",\"Short-Term\",\"Short-Term\",\"Short-Term\",\"Short-Term\",\"Short-Term\",\"Short-Term\",\"Short-Term\",\"Short-Term\",\"Short-Term\",\"Short-Term\",\"Short-Term\",\"Short-Term\",\"Short-Term\",\"Short-Term\",\"Short-Term\",\"Short-Term\",\"Short-Term\",\"Short-Term\",\"Short-Term\",\"Short-Term\",\"Short-Term\",\"Short-Term\",\"Short-Term\",\"Short-Term\",\"Short-Term\",\"Short-Term\",\"Short-Term\",\"Short-Term\",\"Short-Term\",\"Short-Term\",\"Short-Term\",\"Short-Term\",\"Short-Term\",\"Short-Term\",\"Short-Term\",\"Short-Term\",\"Short-Term\",\"Short-Term\",\"Short-Term\",\"Short-Term\",\"Short-Term\",\"Short-Term\",\"Short-Term\",\"Short-Term\",\"Short-Term\",\"Short-Term\",\"Short-Term\",\"Short-Term\",\"Short-Term\",\"Short-Term\",\"Short-Term\",\"Short-Term\",\"Short-Term\",\"Short-Term\",\"Short-Term\",\"Short-Term\",\"Short-Term\",\"Short-Term\",\"Short-Term\",\"Short-Term\",\"Short-Term\",\"Short-Term\",\"Short-Term\",\"Short-Term\",\"Short-Term\",\"Short-Term\",\"Short-Term\",\"Short-Term\",\"Short-Term\",\"Short-Term\",\"Short-Term\",\"Short-Term\",\"Short-Term\",\"Short-Term\",\"Short-Term\",\"Short-Term\",\"Short-Term\",\"Short-Term\",\"Short-Term\",\"Short-Term\",\"Short-Term\",\"Short-Term\",\"Short-Term\",\"Short-Term\",\"Short-Term\",\"Short-Term\",\"Short-Term\",\"Short-Term\",\"Short-Term\",\"Short-Term\",\"Short-Term\",\"Short-Term\",\"Short-Term\",\"Short-Term\",\"Short-Term\",\"Short-Term\",\"Short-Term\",\"Short-Term\",\"Short-Term\",\"Short-Term\",\"Short-Term\",\"Short-Term\",\"Short-Term\",\"Short-Term\",\"Short-Term\",\"Short-Term\",\"Short-Term\",\"Short-Term\",\"Short-Term\",\"Short-Term\",\"Short-Term\",\"Short-Term\",\"Short-Term\",\"Short-Term\",\"Short-Term\",\"Short-Term\",\"Short-Term\",\"Short-Term\",\"Short-Term\",\"Short-Term\",\"Short-Term\",\"Short-Term\",\"Short-Term\",\"Short-Term\",\"Short-Term\",\"Short-Term\",\"Short-Term\",\"Short-Term\",\"Short-Term\",\"Short-Term\",\"Short-Term\",\"Short-Term\",\"Short-Term\",\"Short-Term\",\"Short-Term\",\"Short-Term\",\"Short-Term\",\"Short-Term\",\"Short-Term\",\"Short-Term\",\"Short-Term\",\"Short-Term\",\"Short-Term\",\"Short-Term\",\"Short-Term\",\"Short-Term\",\"Short-Term\",\"Short-Term\",\"Short-Term\",\"Short-Term\",\"Short-Term\",\"Short-Term\",\"Short-Term\",\"Short-Term\",\"Short-Term\",\"Short-Term\",\"Short-Term\",\"Short-Term\",\"Short-Term\",\"Short-Term\",\"Short-Term\",\"Short-Term\",\"Short-Term\",\"Short-Term\",\"Short-Term\",\"Short-Term\",\"Short-Term\",\"Short-Term\",\"Short-Term\",\"Short-Term\",\"Short-Term\",\"Short-Term\",\"Short-Term\",\"Short-Term\",\"Short-Term\",\"Short-Term\",\"Short-Term\",\"Short-Term\",\"Short-Term\",\"Short-Term\",\"Short-Term\",\"Short-Term\",\"Short-Term\",\"Short-Term\",\"Short-Term\",\"Short-Term\",\"Short-Term\",\"Short-Term\",\"Short-Term\",\"Short-Term\",\"Short-Term\",\"Short-Term\",\"Short-Term\",\"Short-Term\",\"Short-Term\",\"Short-Term\",\"Short-Term\",\"Short-Term\",\"Short-Term\",\"Short-Term\",\"Short-Term\",\"Short-Term\",\"Short-Term\",\"Short-Term\",\"Short-Term\",\"Short-Term\",\"Short-Term\",\"Short-Term\",\"Short-Term\",\"Short-Term\",\"Short-Term\",\"Short-Term\",\"Short-Term\",\"Short-Term\",\"Short-Term\",\"Short-Term\",\"Short-Term\",\"Short-Term\",\"Short-Term\",\"Short-Term\",\"Short-Term\",\"Short-Term\",\"Short-Term\",\"Short-Term\",\"Short-Term\",\"Short-Term\",\"Short-Term\",\"Short-Term\",\"Short-Term\",\"Short-Term\",\"Short-Term\",\"Short-Term\",\"Short-Term\",\"Short-Term\",\"Short-Term\",\"Short-Term\",\"Short-Term\",\"Short-Term\",\"Short-Term\",\"Short-Term\",\"Short-Term\",\"Short-Term\",\"Short-Term\",\"Short-Term\",\"Short-Term\",\"Short-Term\",\"Short-Term\",\"Short-Term\",\"Short-Term\",\"Short-Term\",\"Short-Term\",\"Short-Term\",\"Short-Term\",\"Short-Term\",\"Short-Term\",\"Short-Term\",\"Short-Term\",\"Short-Term\",\"Short-Term\",\"Short-Term\",\"Short-Term\",\"Short-Term\",\"Short-Term\",\"Short-Term\",\"Short-Term\",\"Short-Term\",\"Short-Term\",\"Short-Term\",\"Short-Term\",\"Short-Term\",\"Short-Term\",\"Short-Term\",\"Short-Term\",\"Short-Term\",\"Short-Term\",\"Short-Term\",\"Short-Term\",\"Short-Term\",\"Short-Term\",\"Short-Term\",\"Short-Term\",\"Short-Term\",\"Short-Term\",\"Short-Term\",\"Short-Term\",\"Short-Term\",\"Short-Term\",\"Short-Term\",\"Short-Term\",\"Short-Term\",\"Short-Term\",\"Short-Term\",\"Short-Term\",\"Short-Term\",\"Short-Term\",\"Short-Term\",\"Short-Term\",\"Short-Term\",\"Short-Term\",\"Short-Term\",\"Short-Term\",\"Short-Term\",\"Short-Term\",\"Short-Term\",\"Short-Term\",\"Short-Term\",\"Short-Term\",\"Short-Term\",\"Short-Term\",\"Short-Term\",\"Short-Term\",\"Short-Term\",\"Short-Term\",\"Short-Term\",\"Short-Term\",\"Short-Term\",\"Short-Term\",\"Short-Term\",\"Short-Term\",\"Short-Term\",\"Short-Term\",\"Short-Term\",\"Short-Term\",\"Short-Term\",\"Short-Term\",\"Short-Term\",\"Short-Term\",\"Short-Term\",\"Short-Term\",\"Short-Term\",\"Short-Term\",\"Short-Term\",\"Short-Term\",\"Short-Term\",\"Short-Term\",\"Short-Term\",\"Short-Term\",\"Short-Term\",\"Short-Term\",\"Short-Term\",\"Short-Term\",\"Short-Term\",\"Short-Term\",\"Short-Term\",\"Short-Term\",\"Short-Term\",\"Short-Term\",\"Short-Term\",\"Short-Term\",\"Short-Term\",\"Short-Term\",\"Short-Term\",\"Short-Term\",\"Short-Term\",\"Short-Term\",\"Short-Term\",\"Short-Term\",\"Short-Term\",\"Short-Term\",\"Short-Term\",\"Short-Term\",\"Short-Term\",\"Short-Term\",\"Short-Term\",\"Short-Term\",\"Short-Term\",\"Short-Term\",\"Short-Term\",\"Short-Term\",\"Short-Term\",\"Short-Term\",\"Short-Term\",\"Short-Term\",\"Short-Term\",\"Short-Term\",\"Short-Term\",\"Short-Term\",\"Short-Term\",\"Short-Term\",\"Short-Term\",\"Short-Term\",\"Short-Term\",\"Short-Term\",\"Short-Term\",\"Short-Term\",\"Short-Term\",\"Short-Term\",\"Short-Term\",\"Short-Term\",\"Short-Term\",\"Short-Term\",\"Short-Term\",\"Short-Term\",\"Short-Term\",\"Short-Term\",\"Short-Term\",\"Short-Term\",\"Short-Term\",\"Short-Term\",\"Short-Term\",\"Short-Term\",\"Short-Term\",\"Short-Term\",\"Short-Term\",\"Short-Term\",\"Short-Term\",\"Short-Term\",\"Short-Term\",\"Short-Term\",\"Short-Term\",\"Short-Term\",\"Short-Term\",\"Short-Term\",\"Short-Term\",\"Short-Term\",\"Short-Term\",\"Short-Term\",\"Short-Term\",\"Short-Term\",\"Short-Term\",\"Short-Term\",\"Short-Term\",\"Short-Term\",\"Short-Term\",\"Short-Term\",\"Short-Term\",\"Short-Term\",\"Short-Term\",\"Short-Term\",\"Short-Term\",\"Short-Term\",\"Short-Term\",\"Short-Term\",\"Short-Term\",\"Short-Term\",\"Short-Term\",\"Short-Term\",\"Short-Term\",\"Short-Term\",\"Short-Term\",\"Short-Term\",\"Short-Term\",\"Short-Term\",\"Short-Term\",\"Short-Term\",\"Short-Term\",\"Short-Term\",\"Short-Term\",\"Short-Term\",\"Short-Term\",\"Short-Term\",\"Short-Term\",\"Short-Term\",\"Short-Term\",\"Short-Term\",\"Short-Term\",\"Short-Term\",\"Short-Term\",\"Short-Term\",\"Short-Term\",\"Short-Term\",\"Short-Term\",\"Short-Term\",\"Short-Term\",\"Short-Term\",\"Short-Term\",\"Short-Term\",\"Short-Term\",\"Short-Term\",\"Short-Term\",\"Short-Term\",\"Short-Term\",\"Short-Term\",\"Short-Term\",\"Short-Term\",\"Short-Term\",\"Short-Term\",\"Short-Term\",\"Short-Term\",\"Short-Term\",\"Short-Term\",\"Short-Term\",\"Short-Term\",\"Short-Term\",\"Short-Term\",\"Short-Term\",\"Short-Term\",\"Short-Term\",\"Short-Term\",\"Short-Term\",\"Short-Term\",\"Short-Term\",\"Short-Term\",\"Short-Term\",\"Short-Term\",\"Short-Term\",\"Short-Term\",\"Short-Term\",\"Short-Term\",\"Short-Term\",\"Short-Term\",\"Short-Term\",\"Short-Term\",\"Short-Term\",\"Short-Term\",\"Short-Term\",\"Short-Term\",\"Short-Term\",\"Short-Term\",\"Short-Term\",\"Short-Term\",\"Short-Term\",\"Short-Term\",\"Short-Term\",\"Short-Term\",\"Short-Term\",\"Short-Term\",\"Short-Term\",\"Short-Term\",\"Short-Term\",\"Short-Term\",\"Short-Term\",\"Short-Term\",\"Short-Term\",\"Short-Term\",\"Short-Term\",\"Short-Term\",\"Short-Term\",\"Short-Term\",\"Short-Term\",\"Short-Term\",\"Short-Term\",\"Short-Term\",\"Short-Term\",\"Short-Term\",\"Short-Term\",\"Short-Term\",\"Short-Term\",\"Short-Term\",\"Short-Term\",\"Short-Term\",\"Short-Term\",\"Short-Term\",\"Short-Term\",\"Short-Term\",\"Short-Term\",\"Short-Term\",\"Short-Term\",\"Short-Term\",\"Short-Term\",\"Short-Term\",\"Short-Term\",\"Short-Term\",\"Short-Term\",\"Short-Term\",\"Short-Term\",\"Short-Term\",\"Short-Term\",\"Short-Term\",\"Short-Term\",\"Short-Term\",\"Short-Term\",\"Short-Term\",\"Short-Term\",\"Short-Term\",\"Short-Term\",\"Short-Term\",\"Short-Term\",\"Short-Term\",\"Short-Term\",\"Short-Term\",\"Short-Term\",\"Short-Term\",\"Short-Term\",\"Short-Term\",\"Short-Term\",\"Short-Term\",\"Short-Term\",\"Short-Term\",\"Short-Term\",\"Short-Term\",\"Short-Term\",\"Short-Term\",\"Short-Term\",\"Short-Term\",\"Short-Term\",\"Short-Term\",\"Short-Term\",\"Short-Term\",\"Short-Term\",\"Short-Term\",\"Short-Term\",\"Short-Term\",\"Short-Term\",\"Short-Term\",\"Short-Term\",\"Short-Term\",\"Short-Term\",\"Short-Term\",\"Short-Term\",\"Short-Term\",\"Short-Term\",\"Short-Term\",\"Short-Term\",\"Short-Term\",\"Short-Term\",\"Short-Term\",\"Short-Term\",\"Short-Term\",\"Short-Term\",\"Short-Term\",\"Short-Term\",\"Short-Term\",\"Short-Term\",\"Short-Term\",\"Short-Term\",\"Short-Term\",\"Short-Term\",\"Short-Term\",\"Short-Term\",\"Short-Term\",\"Short-Term\",\"Short-Term\",\"Short-Term\",\"Short-Term\",\"Short-Term\",\"Short-Term\",\"Short-Term\",\"Short-Term\",\"Short-Term\",\"Short-Term\",\"Short-Term\",\"Short-Term\",\"Short-Term\",\"Short-Term\",\"Short-Term\",\"Short-Term\",\"Short-Term\",\"Short-Term\",\"Short-Term\",\"Short-Term\",\"Short-Term\",\"Short-Term\",\"Short-Term\",\"Short-Term\",\"Short-Term\",\"Short-Term\",\"Short-Term\",\"Short-Term\",\"Short-Term\",\"Short-Term\",\"Short-Term\",\"Short-Term\",\"Short-Term\",\"Short-Term\",\"Short-Term\",\"Short-Term\",\"Short-Term\",\"Short-Term\",\"Short-Term\",\"Short-Term\",\"Short-Term\",\"Short-Term\",\"Short-Term\",\"Short-Term\",\"Short-Term\",\"Short-Term\",\"Short-Term\",\"Short-Term\",\"Short-Term\",\"Short-Term\",\"Short-Term\",\"Short-Term\",\"Short-Term\",\"Short-Term\",\"Short-Term\",\"Short-Term\",\"Short-Term\",\"Short-Term\",\"Short-Term\",\"Short-Term\",\"Short-Term\",\"Short-Term\",\"Short-Term\",\"Short-Term\",\"Short-Term\",\"Short-Term\",\"Short-Term\",\"Short-Term\",\"Short-Term\",\"Short-Term\",\"Short-Term\",\"Short-Term\",\"Short-Term\",\"Short-Term\",\"Short-Term\",\"Short-Term\",\"Short-Term\",\"Short-Term\",\"Short-Term\",\"Short-Term\",\"Short-Term\",\"Short-Term\",\"Short-Term\",\"Short-Term\",\"Short-Term\",\"Short-Term\",\"Short-Term\",\"Short-Term\",\"Short-Term\",\"Short-Term\",\"Short-Term\",\"Short-Term\",\"Short-Term\",\"Short-Term\",\"Short-Term\",\"Short-Term\",\"Short-Term\",\"Short-Term\",\"Short-Term\",\"Short-Term\",\"Short-Term\",\"Short-Term\",\"Short-Term\",\"Short-Term\",\"Short-Term\",\"Short-Term\",\"Short-Term\",\"Short-Term\",\"Short-Term\",\"Short-Term\",\"Short-Term\",\"Short-Term\",\"Short-Term\",\"Short-Term\",\"Short-Term\",\"Short-Term\",\"Short-Term\",\"Short-Term\",\"Short-Term\",\"Short-Term\",\"Short-Term\",\"Short-Term\",\"Short-Term\",\"Short-Term\",\"Short-Term\",\"Short-Term\",\"Short-Term\",\"Short-Term\",\"Short-Term\",\"Short-Term\",\"Short-Term\",\"Short-Term\",\"Short-Term\",\"Short-Term\",\"Short-Term\",\"Short-Term\",\"Short-Term\",\"Short-Term\",\"Short-Term\",\"Short-Term\"],\"xaxis\":\"x\",\"y\":[1,1,1,1,1,1,1,1,1,1,1,1,1,1,1,1,1,1,1,1,1,1,1,1,1,1,1,1,1,1,1,1,1,1,1,1,1,1,1,1,1,1,1,1,1,1,1,1,1,1,1,1,1,1,1,1,1,1,1,1,1,1,1,1,1,1,1,1,1,1,1,1,1,1,1,1,1,1,1,1,1,1,1,1,1,1,1,1,1,1,1,1,1,1,1,1,1,1,1,1,1,1,1,1,1,1,1,1,1,1,1,1,1,1,1,1,1,1,1,1,1,1,1,1,1,1,1,1,1,1,1,1,1,1,1,1,1,1,1,1,1,1,1,1,1,1,1,1,1,1,1,1,1,1,1,1,1,1,1,1,1,1,1,1,1,1,1,1,1,1,1,1,1,1,1,1,1,1,1,1,1,1,1,1,1,1,1,1,1,1,1,1,1,1,1,1,1,1,1,1,1,1,1,1,1,1,1,1,1,1,1,1,1,1,1,1,1,1,1,1,1,1,1,1,1,1,1,1,1,1,1,1,1,1,1,1,1,1,1,1,1,1,1,1,1,1,1,1,1,1,1,1,1,1,1,1,1,1,1,1,1,1,1,1,1,1,1,1,1,1,1,1,1,1,1,1,1,1,1,1,1,1,1,1,1,1,1,1,1,1,1,1,1,1,1,1,1,1,1,1,1,1,1,1,1,1,1,1,1,1,1,1,1,1,1,1,1,1,1,1,1,1,1,1,1,1,1,1,1,1,1,1,1,1,1,1,1,1,1,1,1,1,1,1,1,1,1,1,1,1,1,1,1,1,1,1,1,1,1,1,1,1,1,1,1,1,1,1,1,1,1,1,1,1,1,1,1,1,1,1,1,1,1,1,1,1,1,1,1,1,1,1,1,1,1,1,1,1,1,1,1,1,1,1,1,1,1,1,1,1,1,1,1,1,1,1,1,1,1,1,1,1,1,1,1,1,1,1,1,1,1,1,1,1,1,1,1,1,1,1,1,1,1,1,1,1,1,1,1,1,1,1,1,1,1,1,1,1,1,1,1,1,1,1,1,1,1,1,1,1,1,1,1,1,1,1,1,1,1,1,1,1,1,1,1,1,1,1,1,1,1,1,1,1,1,1,1,1,1,1,1,1,1,1,1,1,1,1,1,1,1,1,1,1,1,1,1,1,1,1,1,1,1,1,1,1,1,1,1,1,1,1,1,1,1,1,1,1,1,1,1,1,1,1,1,1,1,1,1,1,1,1,1,1,1,1,1,1,1,1,1,1,1,1,1,1,1,1,1,1,1,1,1,1,1,1,1,1,1,1,1,1,1,1,1,1,1,1,1,1,1,1,1,1,1,1,1,1,1,1,1,1,1,1,1,1,1,1,1,1,1,1,1,1,1,1,1,1,1,1,1,1,1,1,1,1,1,1,1,1,1,1,1,1,1,1,1,1,1,1,1,1,1,1,1,1,1,1,1,1,1,1,1,1,1,1,1,1,1,1,1,1,1,1,1,1,1,1,1,1,1,1,1,1,1,1,1,1,1,1,1,1,1,1,1,1,1,1,1,1,1,1,1,1,1,1,1,1,1,1,1,1,1,1,1,1,1,1,1,1,1,1,1,1,1,1,1,1,1,1,1,1,1,1,1,1,1,1,1,1,1,1,1,1,1,1,1,1,1,1,1,1,1,1,1,1,1,1,1,1,1,1,1,1,1,1,1,1,1,1,1,1,1,1,1,1,1,1,1,1,1,1,1,1,1,1,1,1,1,1,1,1,1,1,1,1,1,1,1,1,1,1,1,1,1,1,1,1,1,1,1,1,1,1,1,1,1,1,1,1,1],\"yaxis\":\"y\",\"type\":\"bar\"},{\"alignmentgroup\":\"True\",\"hovertemplate\":\"Attrition=Yes\\u003cbr\\u003eTenure_Group=%{x}\\u003cbr\\u003ecount=%{y}\\u003cextra\\u003e\\u003c\\u002fextra\\u003e\",\"legendgroup\":\"Yes\",\"marker\":{\"color\":\"#EF553B\",\"pattern\":{\"shape\":\"\"}},\"name\":\"Yes\",\"offsetgroup\":\"Yes\",\"orientation\":\"v\",\"showlegend\":true,\"textposition\":\"auto\",\"x\":[\"Short-Term\",\"Short-Term\",\"Short-Term\",\"Short-Term\",\"Short-Term\",\"Short-Term\",\"Short-Term\",\"Short-Term\",\"Short-Term\",\"Short-Term\",\"Short-Term\",\"Short-Term\",\"Short-Term\",\"Short-Term\",\"Short-Term\",\"Short-Term\",\"Short-Term\",\"Short-Term\",\"Short-Term\",\"Short-Term\",\"Short-Term\",\"Short-Term\",\"Short-Term\",\"Short-Term\",\"Short-Term\",\"Short-Term\",\"Short-Term\",\"Short-Term\",\"Short-Term\",\"Short-Term\",\"Short-Term\",\"Short-Term\",\"Short-Term\",\"Short-Term\",\"Short-Term\",\"Short-Term\",\"Short-Term\",\"Short-Term\",\"Short-Term\",\"Short-Term\",\"Short-Term\",\"Short-Term\",\"Short-Term\",\"Short-Term\",\"Short-Term\",\"Short-Term\",\"Short-Term\",\"Short-Term\",\"Short-Term\",\"Short-Term\",\"Short-Term\",\"Short-Term\",\"Short-Term\",\"Short-Term\",\"Short-Term\",\"Short-Term\",\"Short-Term\",\"Short-Term\",\"Short-Term\",\"Short-Term\",\"Short-Term\",\"Short-Term\",\"Short-Term\",\"Short-Term\",\"Short-Term\",\"Short-Term\",\"Short-Term\",\"Short-Term\",\"Short-Term\",\"Short-Term\",\"Short-Term\",\"Short-Term\",\"Short-Term\",\"Short-Term\",\"Short-Term\",\"Short-Term\",\"Short-Term\",\"Short-Term\",\"Short-Term\",\"Short-Term\",\"Short-Term\",\"Short-Term\",\"Short-Term\",\"Short-Term\",\"Short-Term\",\"Short-Term\",\"Short-Term\",\"Short-Term\",\"Short-Term\",\"Short-Term\",\"Short-Term\",\"Short-Term\",\"Short-Term\",\"Short-Term\",\"Short-Term\",\"Short-Term\",\"Short-Term\",\"Short-Term\",\"Short-Term\",\"Short-Term\",\"Short-Term\",\"Short-Term\",\"Short-Term\",\"Short-Term\",\"Short-Term\",\"Short-Term\",\"Short-Term\",\"Short-Term\",\"Short-Term\",\"Short-Term\",\"Short-Term\",\"Short-Term\",\"Short-Term\",\"Short-Term\",\"Short-Term\",\"Short-Term\",\"Short-Term\",\"Short-Term\",\"Short-Term\",\"Short-Term\",\"Short-Term\",\"Short-Term\",\"Short-Term\",\"Short-Term\",\"Short-Term\",\"Short-Term\",\"Short-Term\",\"Short-Term\",\"Short-Term\",\"Short-Term\",\"Short-Term\",\"Short-Term\",\"Short-Term\",\"Short-Term\",\"Short-Term\",\"Short-Term\",\"Short-Term\",\"Short-Term\",\"Short-Term\",\"Short-Term\",\"Short-Term\",\"Short-Term\",\"Short-Term\",\"Short-Term\",\"Short-Term\",\"Short-Term\",\"Short-Term\",\"Short-Term\",\"Short-Term\",\"Short-Term\",\"Short-Term\",\"Short-Term\",\"Short-Term\",\"Short-Term\",\"Short-Term\",\"Short-Term\",\"Short-Term\",\"Short-Term\",\"Short-Term\",\"Short-Term\",\"Short-Term\",\"Short-Term\",\"Short-Term\",\"Short-Term\",\"Short-Term\",\"Short-Term\",\"Short-Term\",\"Short-Term\",\"Short-Term\",\"Short-Term\",\"Short-Term\",\"Short-Term\",\"Short-Term\",\"Short-Term\",\"Short-Term\",\"Short-Term\",\"Short-Term\",\"Short-Term\",\"Short-Term\",\"Short-Term\",\"Short-Term\",\"Short-Term\",\"Short-Term\",\"Short-Term\",\"Short-Term\",\"Short-Term\",\"Short-Term\",\"Short-Term\",\"Short-Term\"],\"xaxis\":\"x\",\"y\":[1,1,1,1,1,1,1,1,1,1,1,1,1,1,1,1,1,1,1,1,1,1,1,1,1,1,1,1,1,1,1,1,1,1,1,1,1,1,1,1,1,1,1,1,1,1,1,1,1,1,1,1,1,1,1,1,1,1,1,1,1,1,1,1,1,1,1,1,1,1,1,1,1,1,1,1,1,1,1,1,1,1,1,1,1,1,1,1,1,1,1,1,1,1,1,1,1,1,1,1,1,1,1,1,1,1,1,1,1,1,1,1,1,1,1,1,1,1,1,1,1,1,1,1,1,1,1,1,1,1,1,1,1,1,1,1,1,1,1,1,1,1,1,1,1,1,1,1,1,1,1,1,1,1,1,1,1,1,1,1,1,1,1,1,1,1,1,1,1,1,1,1,1,1,1,1,1,1,1,1,1,1,1,1,1,1,1,1,1],\"yaxis\":\"y\",\"type\":\"bar\"}],                        {\"template\":{\"data\":{\"histogram2dcontour\":[{\"type\":\"histogram2dcontour\",\"colorbar\":{\"outlinewidth\":0,\"ticks\":\"\"},\"colorscale\":[[0.0,\"#0d0887\"],[0.1111111111111111,\"#46039f\"],[0.2222222222222222,\"#7201a8\"],[0.3333333333333333,\"#9c179e\"],[0.4444444444444444,\"#bd3786\"],[0.5555555555555556,\"#d8576b\"],[0.6666666666666666,\"#ed7953\"],[0.7777777777777778,\"#fb9f3a\"],[0.8888888888888888,\"#fdca26\"],[1.0,\"#f0f921\"]]}],\"choropleth\":[{\"type\":\"choropleth\",\"colorbar\":{\"outlinewidth\":0,\"ticks\":\"\"}}],\"histogram2d\":[{\"type\":\"histogram2d\",\"colorbar\":{\"outlinewidth\":0,\"ticks\":\"\"},\"colorscale\":[[0.0,\"#0d0887\"],[0.1111111111111111,\"#46039f\"],[0.2222222222222222,\"#7201a8\"],[0.3333333333333333,\"#9c179e\"],[0.4444444444444444,\"#bd3786\"],[0.5555555555555556,\"#d8576b\"],[0.6666666666666666,\"#ed7953\"],[0.7777777777777778,\"#fb9f3a\"],[0.8888888888888888,\"#fdca26\"],[1.0,\"#f0f921\"]]}],\"heatmap\":[{\"type\":\"heatmap\",\"colorbar\":{\"outlinewidth\":0,\"ticks\":\"\"},\"colorscale\":[[0.0,\"#0d0887\"],[0.1111111111111111,\"#46039f\"],[0.2222222222222222,\"#7201a8\"],[0.3333333333333333,\"#9c179e\"],[0.4444444444444444,\"#bd3786\"],[0.5555555555555556,\"#d8576b\"],[0.6666666666666666,\"#ed7953\"],[0.7777777777777778,\"#fb9f3a\"],[0.8888888888888888,\"#fdca26\"],[1.0,\"#f0f921\"]]}],\"heatmapgl\":[{\"type\":\"heatmapgl\",\"colorbar\":{\"outlinewidth\":0,\"ticks\":\"\"},\"colorscale\":[[0.0,\"#0d0887\"],[0.1111111111111111,\"#46039f\"],[0.2222222222222222,\"#7201a8\"],[0.3333333333333333,\"#9c179e\"],[0.4444444444444444,\"#bd3786\"],[0.5555555555555556,\"#d8576b\"],[0.6666666666666666,\"#ed7953\"],[0.7777777777777778,\"#fb9f3a\"],[0.8888888888888888,\"#fdca26\"],[1.0,\"#f0f921\"]]}],\"contourcarpet\":[{\"type\":\"contourcarpet\",\"colorbar\":{\"outlinewidth\":0,\"ticks\":\"\"}}],\"contour\":[{\"type\":\"contour\",\"colorbar\":{\"outlinewidth\":0,\"ticks\":\"\"},\"colorscale\":[[0.0,\"#0d0887\"],[0.1111111111111111,\"#46039f\"],[0.2222222222222222,\"#7201a8\"],[0.3333333333333333,\"#9c179e\"],[0.4444444444444444,\"#bd3786\"],[0.5555555555555556,\"#d8576b\"],[0.6666666666666666,\"#ed7953\"],[0.7777777777777778,\"#fb9f3a\"],[0.8888888888888888,\"#fdca26\"],[1.0,\"#f0f921\"]]}],\"surface\":[{\"type\":\"surface\",\"colorbar\":{\"outlinewidth\":0,\"ticks\":\"\"},\"colorscale\":[[0.0,\"#0d0887\"],[0.1111111111111111,\"#46039f\"],[0.2222222222222222,\"#7201a8\"],[0.3333333333333333,\"#9c179e\"],[0.4444444444444444,\"#bd3786\"],[0.5555555555555556,\"#d8576b\"],[0.6666666666666666,\"#ed7953\"],[0.7777777777777778,\"#fb9f3a\"],[0.8888888888888888,\"#fdca26\"],[1.0,\"#f0f921\"]]}],\"mesh3d\":[{\"type\":\"mesh3d\",\"colorbar\":{\"outlinewidth\":0,\"ticks\":\"\"}}],\"scatter\":[{\"fillpattern\":{\"fillmode\":\"overlay\",\"size\":10,\"solidity\":0.2},\"type\":\"scatter\"}],\"parcoords\":[{\"type\":\"parcoords\",\"line\":{\"colorbar\":{\"outlinewidth\":0,\"ticks\":\"\"}}}],\"scatterpolargl\":[{\"type\":\"scatterpolargl\",\"marker\":{\"colorbar\":{\"outlinewidth\":0,\"ticks\":\"\"}}}],\"bar\":[{\"error_x\":{\"color\":\"#2a3f5f\"},\"error_y\":{\"color\":\"#2a3f5f\"},\"marker\":{\"line\":{\"color\":\"#E5ECF6\",\"width\":0.5},\"pattern\":{\"fillmode\":\"overlay\",\"size\":10,\"solidity\":0.2}},\"type\":\"bar\"}],\"scattergeo\":[{\"type\":\"scattergeo\",\"marker\":{\"colorbar\":{\"outlinewidth\":0,\"ticks\":\"\"}}}],\"scatterpolar\":[{\"type\":\"scatterpolar\",\"marker\":{\"colorbar\":{\"outlinewidth\":0,\"ticks\":\"\"}}}],\"histogram\":[{\"marker\":{\"pattern\":{\"fillmode\":\"overlay\",\"size\":10,\"solidity\":0.2}},\"type\":\"histogram\"}],\"scattergl\":[{\"type\":\"scattergl\",\"marker\":{\"colorbar\":{\"outlinewidth\":0,\"ticks\":\"\"}}}],\"scatter3d\":[{\"type\":\"scatter3d\",\"line\":{\"colorbar\":{\"outlinewidth\":0,\"ticks\":\"\"}},\"marker\":{\"colorbar\":{\"outlinewidth\":0,\"ticks\":\"\"}}}],\"scattermapbox\":[{\"type\":\"scattermapbox\",\"marker\":{\"colorbar\":{\"outlinewidth\":0,\"ticks\":\"\"}}}],\"scatterternary\":[{\"type\":\"scatterternary\",\"marker\":{\"colorbar\":{\"outlinewidth\":0,\"ticks\":\"\"}}}],\"scattercarpet\":[{\"type\":\"scattercarpet\",\"marker\":{\"colorbar\":{\"outlinewidth\":0,\"ticks\":\"\"}}}],\"carpet\":[{\"aaxis\":{\"endlinecolor\":\"#2a3f5f\",\"gridcolor\":\"white\",\"linecolor\":\"white\",\"minorgridcolor\":\"white\",\"startlinecolor\":\"#2a3f5f\"},\"baxis\":{\"endlinecolor\":\"#2a3f5f\",\"gridcolor\":\"white\",\"linecolor\":\"white\",\"minorgridcolor\":\"white\",\"startlinecolor\":\"#2a3f5f\"},\"type\":\"carpet\"}],\"table\":[{\"cells\":{\"fill\":{\"color\":\"#EBF0F8\"},\"line\":{\"color\":\"white\"}},\"header\":{\"fill\":{\"color\":\"#C8D4E3\"},\"line\":{\"color\":\"white\"}},\"type\":\"table\"}],\"barpolar\":[{\"marker\":{\"line\":{\"color\":\"#E5ECF6\",\"width\":0.5},\"pattern\":{\"fillmode\":\"overlay\",\"size\":10,\"solidity\":0.2}},\"type\":\"barpolar\"}],\"pie\":[{\"automargin\":true,\"type\":\"pie\"}]},\"layout\":{\"autotypenumbers\":\"strict\",\"colorway\":[\"#636efa\",\"#EF553B\",\"#00cc96\",\"#ab63fa\",\"#FFA15A\",\"#19d3f3\",\"#FF6692\",\"#B6E880\",\"#FF97FF\",\"#FECB52\"],\"font\":{\"color\":\"#2a3f5f\"},\"hovermode\":\"closest\",\"hoverlabel\":{\"align\":\"left\"},\"paper_bgcolor\":\"white\",\"plot_bgcolor\":\"#E5ECF6\",\"polar\":{\"bgcolor\":\"#E5ECF6\",\"angularaxis\":{\"gridcolor\":\"white\",\"linecolor\":\"white\",\"ticks\":\"\"},\"radialaxis\":{\"gridcolor\":\"white\",\"linecolor\":\"white\",\"ticks\":\"\"}},\"ternary\":{\"bgcolor\":\"#E5ECF6\",\"aaxis\":{\"gridcolor\":\"white\",\"linecolor\":\"white\",\"ticks\":\"\"},\"baxis\":{\"gridcolor\":\"white\",\"linecolor\":\"white\",\"ticks\":\"\"},\"caxis\":{\"gridcolor\":\"white\",\"linecolor\":\"white\",\"ticks\":\"\"}},\"coloraxis\":{\"colorbar\":{\"outlinewidth\":0,\"ticks\":\"\"}},\"colorscale\":{\"sequential\":[[0.0,\"#0d0887\"],[0.1111111111111111,\"#46039f\"],[0.2222222222222222,\"#7201a8\"],[0.3333333333333333,\"#9c179e\"],[0.4444444444444444,\"#bd3786\"],[0.5555555555555556,\"#d8576b\"],[0.6666666666666666,\"#ed7953\"],[0.7777777777777778,\"#fb9f3a\"],[0.8888888888888888,\"#fdca26\"],[1.0,\"#f0f921\"]],\"sequentialminus\":[[0.0,\"#0d0887\"],[0.1111111111111111,\"#46039f\"],[0.2222222222222222,\"#7201a8\"],[0.3333333333333333,\"#9c179e\"],[0.4444444444444444,\"#bd3786\"],[0.5555555555555556,\"#d8576b\"],[0.6666666666666666,\"#ed7953\"],[0.7777777777777778,\"#fb9f3a\"],[0.8888888888888888,\"#fdca26\"],[1.0,\"#f0f921\"]],\"diverging\":[[0,\"#8e0152\"],[0.1,\"#c51b7d\"],[0.2,\"#de77ae\"],[0.3,\"#f1b6da\"],[0.4,\"#fde0ef\"],[0.5,\"#f7f7f7\"],[0.6,\"#e6f5d0\"],[0.7,\"#b8e186\"],[0.8,\"#7fbc41\"],[0.9,\"#4d9221\"],[1,\"#276419\"]]},\"xaxis\":{\"gridcolor\":\"white\",\"linecolor\":\"white\",\"ticks\":\"\",\"title\":{\"standoff\":15},\"zerolinecolor\":\"white\",\"automargin\":true,\"zerolinewidth\":2},\"yaxis\":{\"gridcolor\":\"white\",\"linecolor\":\"white\",\"ticks\":\"\",\"title\":{\"standoff\":15},\"zerolinecolor\":\"white\",\"automargin\":true,\"zerolinewidth\":2},\"scene\":{\"xaxis\":{\"backgroundcolor\":\"#E5ECF6\",\"gridcolor\":\"white\",\"linecolor\":\"white\",\"showbackground\":true,\"ticks\":\"\",\"zerolinecolor\":\"white\",\"gridwidth\":2},\"yaxis\":{\"backgroundcolor\":\"#E5ECF6\",\"gridcolor\":\"white\",\"linecolor\":\"white\",\"showbackground\":true,\"ticks\":\"\",\"zerolinecolor\":\"white\",\"gridwidth\":2},\"zaxis\":{\"backgroundcolor\":\"#E5ECF6\",\"gridcolor\":\"white\",\"linecolor\":\"white\",\"showbackground\":true,\"ticks\":\"\",\"zerolinecolor\":\"white\",\"gridwidth\":2}},\"shapedefaults\":{\"line\":{\"color\":\"#2a3f5f\"}},\"annotationdefaults\":{\"arrowcolor\":\"#2a3f5f\",\"arrowhead\":0,\"arrowwidth\":1},\"geo\":{\"bgcolor\":\"white\",\"landcolor\":\"#E5ECF6\",\"subunitcolor\":\"white\",\"showland\":true,\"showlakes\":true,\"lakecolor\":\"white\"},\"title\":{\"x\":0.05},\"mapbox\":{\"style\":\"light\"}}},\"xaxis\":{\"anchor\":\"y\",\"domain\":[0.0,1.0],\"title\":{\"text\":\"Tenure_Group\"}},\"yaxis\":{\"anchor\":\"x\",\"domain\":[0.0,1.0],\"title\":{\"text\":\"count\"}},\"legend\":{\"title\":{\"text\":\"Attrition\"},\"tracegroupgap\":0},\"title\":{\"text\":\"Attrition Rate by Tenure Group\"},\"barmode\":\"group\"},                        {\"responsive\": true}                    ).then(function(){\n",
              "                            \n",
              "var gd = document.getElementById('4f600999-649c-4de6-bc46-9054f44cc864');\n",
              "var x = new MutationObserver(function (mutations, observer) {{\n",
              "        var display = window.getComputedStyle(gd).display;\n",
              "        if (!display || display === 'none') {{\n",
              "            console.log([gd, 'removed!']);\n",
              "            Plotly.purge(gd);\n",
              "            observer.disconnect();\n",
              "        }}\n",
              "}});\n",
              "\n",
              "// Listen for the removal of the full notebook cells\n",
              "var notebookContainer = gd.closest('#notebook-container');\n",
              "if (notebookContainer) {{\n",
              "    x.observe(notebookContainer, {childList: true});\n",
              "}}\n",
              "\n",
              "// Listen for the clearing of the current output cell\n",
              "var outputEl = gd.closest('.output');\n",
              "if (outputEl) {{\n",
              "    x.observe(outputEl, {childList: true});\n",
              "}}\n",
              "\n",
              "                        })                };                            </script>        </div>\n",
              "</body>\n",
              "</html>"
            ]
          },
          "metadata": {}
        }
      ],
      "source": [
        "import plotly.express as px\n",
        "\n",
        "fig = px.bar(\n",
        "    data_frame=data,\n",
        "    x='Tenure_Group',\n",
        "    color='Attrition',\n",
        "    title='Attrition Rate by Tenure Group',\n",
        "    barmode='group'\n",
        ")\n",
        "fig.show()\n"
      ]
    },
    {
      "cell_type": "code",
      "execution_count": null,
      "metadata": {
        "id": "DIpOjZDN6a5O",
        "colab": {
          "base_uri": "https://localhost:8080/"
        },
        "outputId": "25af9dbb-1ebb-494e-d4e1-4cce5446e065"
      },
      "outputs": [
        {
          "output_type": "stream",
          "name": "stdout",
          "text": [
            "TtestResult(statistic=np.float64(0.376634678550193), pvalue=np.float64(0.706525172743868), df=np.float64(998.0))\n"
          ]
        }
      ],
      "source": [
        "from scipy.stats import ttest_ind\n",
        "\n",
        "# Perform the t-test\n",
        "ttest_result = ttest_ind(data[data['Attrition'] == 'Yes']['Monthly_Income'],\n",
        "                         data[data['Attrition'] == 'No']['Monthly_Income'])\n",
        "print(ttest_result)\n"
      ]
    },
    {
      "cell_type": "code",
      "execution_count": null,
      "metadata": {
        "id": "5JHjgwxd7YEw",
        "colab": {
          "base_uri": "https://localhost:8080/"
        },
        "outputId": "c6a7fed4-3db9-4a2d-b9d7-26a973eb9d59"
      },
      "outputs": [
        {
          "output_type": "stream",
          "name": "stdout",
          "text": [
            "Chi-squared test: chi2=2.7429, p-value=0.4330\n"
          ]
        }
      ],
      "source": [
        "# Chi-squared test for categorical variable: Job_Role\n",
        "contingency = pd.crosstab(data['Job_Role'], data['Attrition'])\n",
        "chi2, p, dof, expected = chi2_contingency(contingency)\n",
        "print(f\"Chi-squared test: chi2={chi2:.4f}, p-value={p:.4f}\")\n"
      ]
    },
    {
      "cell_type": "code",
      "execution_count": null,
      "metadata": {
        "id": "q9k4tqE79Lc5",
        "outputId": "b0f7dfb1-b229-4bb7-bda0-17940a2a84d0",
        "colab": {
          "base_uri": "https://localhost:8080/"
        }
      },
      "outputs": [
        {
          "output_type": "stream",
          "name": "stdout",
          "text": [
            "ANOVA: F-statistic=2.3843, p-value=0.0678\n"
          ]
        }
      ],
      "source": [
        "# ANOVA test across different Job Roles\n",
        "groups = [group['Performance_Rating'].dropna().values for _, group in data.groupby('Job_Role')]\n",
        "f_stat, p_val = f_oneway(*groups)\n",
        "print(f\"ANOVA: F-statistic={f_stat:.4f}, p-value={p_val:.4f}\")\n"
      ]
    },
    {
      "cell_type": "code",
      "execution_count": null,
      "metadata": {
        "id": "M6rL0JsP9OOy"
      },
      "outputs": [],
      "source": [
        "def categorize_tenure(years):\n",
        "    if years < 3:\n",
        "        return 'Short-term'\n",
        "    elif years <= 7:\n",
        "        return 'Medium-term'\n",
        "    else:\n",
        "        return 'Long-term'\n",
        "\n",
        "data['TenureCategory'] = data['Years_at_Company'].apply(categorize_tenure)\n"
      ]
    },
    {
      "cell_type": "code",
      "execution_count": null,
      "metadata": {
        "id": "BEzLXGOG9Tne"
      },
      "outputs": [],
      "source": [
        "data['SalaryBand'] = pd.qcut(data['Monthly_Income'], q=3, labels=['Low', 'Medium', 'High'])\n"
      ]
    },
    {
      "cell_type": "code",
      "execution_count": null,
      "metadata": {
        "id": "b5j_79fn9VfF"
      },
      "outputs": [],
      "source": [
        "scaler = StandardScaler()\n",
        "data[['Monthly_Income', 'Years_at_Company']] = scaler.fit_transform(data[['Monthly_Income', 'Years_at_Company']])\n"
      ]
    },
    {
      "cell_type": "code",
      "execution_count": null,
      "metadata": {
        "id": "V7l9QqvH9YFL"
      },
      "outputs": [],
      "source": [
        "df = pd.get_dummies(data, columns=['Job_Role', 'Department', 'TenureCategory', 'SalaryBand'], drop_first=True)\n"
      ]
    },
    {
      "cell_type": "code",
      "execution_count": null,
      "metadata": {
        "id": "SPQuWkOe9aXw",
        "colab": {
          "base_uri": "https://localhost:8080/",
          "height": 573
        },
        "outputId": "7e542830-8d21-4c1f-95b7-7f122dc7387d"
      },
      "outputs": [
        {
          "output_type": "display_data",
          "data": {
            "text/plain": [
              "<Figure size 1200x600 with 1 Axes>"
            ],
            "image/png": "[encoded data removed]"
          },
          "metadata": {}
        }
      ],
      "source": [
        "sns.boxplot(x='Attrition', y='Monthly_Income', data=df)\n",
        "plt.title('Income Distribution by Attrition')\n",
        "plt.show()\n"
      ]
    },
    {
      "cell_type": "code",
      "execution_count": null,
      "metadata": {
        "id": "ShiH9oKh9dyF",
        "colab": {
          "base_uri": "https://localhost:8080/",
          "height": 542
        },
        "outputId": "dcc4f99a-ede6-43cc-bc9f-1c3db57be3e7"
      },
      "outputs": [
        {
          "output_type": "display_data",
          "data": {
            "text/html": [
              "<html>\n",
              "<head><meta charset=\"utf-8\" /></head>\n",
              "<body>\n",
              "    <div>            <script src=\"https://cdnjs.cloudflare.com/ajax/libs/mathjax/2.7.5/MathJax.js?config=TeX-AMS-MML_SVG\"></script><script type=\"text/javascript\">if (window.MathJax && window.MathJax.Hub && window.MathJax.Hub.Config) {window.MathJax.Hub.Config({SVG: {font: \"STIX-Web\"}});}</script>                <script type=\"text/javascript\">window.PlotlyConfig = {MathJaxConfig: 'local'};</script>\n",
              "        <script charset=\"utf-8\" src=\"https://cdn.plot.ly/plotly-2.35.2.min.js\"></script>                <div id=\"e8463c76-a150-49ac-988c-94262d819b77\" class=\"plotly-graph-div\" style=\"height:525px; width:100%;\"></div>            <script type=\"text/javascript\">                                    window.PLOTLYENV=window.PLOTLYENV || {};                                    if (document.getElementById(\"e8463c76-a150-49ac-988c-94262d819b77\")) {                    Plotly.newPlot(                        \"e8463c76-a150-49ac-988c-94262d819b77\",                        [{\"alignmentgroup\":\"True\",\"hovertemplate\":\"Attrition=%{x}\\u003cbr\\u003eMonthly_Income=%{y}\\u003cextra\\u003e\\u003c\\u002fextra\\u003e\",\"legendgroup\":\"No\",\"marker\":{\"color\":\"#636efa\"},\"name\":\"No\",\"notched\":false,\"offsetgroup\":\"No\",\"orientation\":\"v\",\"showlegend\":true,\"x\":[\"No\",\"No\",\"No\",\"No\",\"No\",\"No\",\"No\",\"No\",\"No\",\"No\",\"No\",\"No\",\"No\",\"No\",\"No\",\"No\",\"No\",\"No\",\"No\",\"No\",\"No\",\"No\",\"No\",\"No\",\"No\",\"No\",\"No\",\"No\",\"No\",\"No\",\"No\",\"No\",\"No\",\"No\",\"No\",\"No\",\"No\",\"No\",\"No\",\"No\",\"No\",\"No\",\"No\",\"No\",\"No\",\"No\",\"No\",\"No\",\"No\",\"No\",\"No\",\"No\",\"No\",\"No\",\"No\",\"No\",\"No\",\"No\",\"No\",\"No\",\"No\",\"No\",\"No\",\"No\",\"No\",\"No\",\"No\",\"No\",\"No\",\"No\",\"No\",\"No\",\"No\",\"No\",\"No\",\"No\",\"No\",\"No\",\"No\",\"No\",\"No\",\"No\",\"No\",\"No\",\"No\",\"No\",\"No\",\"No\",\"No\",\"No\",\"No\",\"No\",\"No\",\"No\",\"No\",\"No\",\"No\",\"No\",\"No\",\"No\",\"No\",\"No\",\"No\",\"No\",\"No\",\"No\",\"No\",\"No\",\"No\",\"No\",\"No\",\"No\",\"No\",\"No\",\"No\",\"No\",\"No\",\"No\",\"No\",\"No\",\"No\",\"No\",\"No\",\"No\",\"No\",\"No\",\"No\",\"No\",\"No\",\"No\",\"No\",\"No\",\"No\",\"No\",\"No\",\"No\",\"No\",\"No\",\"No\",\"No\",\"No\",\"No\",\"No\",\"No\",\"No\",\"No\",\"No\",\"No\",\"No\",\"No\",\"No\",\"No\",\"No\",\"No\",\"No\",\"No\",\"No\",\"No\",\"No\",\"No\",\"No\",\"No\",\"No\",\"No\",\"No\",\"No\",\"No\",\"No\",\"No\",\"No\",\"No\",\"No\",\"No\",\"No\",\"No\",\"No\",\"No\",\"No\",\"No\",\"No\",\"No\",\"No\",\"No\",\"No\",\"No\",\"No\",\"No\",\"No\",\"No\",\"No\",\"No\",\"No\",\"No\",\"No\",\"No\",\"No\",\"No\",\"No\",\"No\",\"No\",\"No\",\"No\",\"No\",\"No\",\"No\",\"No\",\"No\",\"No\",\"No\",\"No\",\"No\",\"No\",\"No\",\"No\",\"No\",\"No\",\"No\",\"No\",\"No\",\"No\",\"No\",\"No\",\"No\",\"No\",\"No\",\"No\",\"No\",\"No\",\"No\",\"No\",\"No\",\"No\",\"No\",\"No\",\"No\",\"No\",\"No\",\"No\",\"No\",\"No\",\"No\",\"No\",\"No\",\"No\",\"No\",\"No\",\"No\",\"No\",\"No\",\"No\",\"No\",\"No\",\"No\",\"No\",\"No\",\"No\",\"No\",\"No\",\"No\",\"No\",\"No\",\"No\",\"No\",\"No\",\"No\",\"No\",\"No\",\"No\",\"No\",\"No\",\"No\",\"No\",\"No\",\"No\",\"No\",\"No\",\"No\",\"No\",\"No\",\"No\",\"No\",\"No\",\"No\",\"No\",\"No\",\"No\",\"No\",\"No\",\"No\",\"No\",\"No\",\"No\",\"No\",\"No\",\"No\",\"No\",\"No\",\"No\",\"No\",\"No\",\"No\",\"No\",\"No\",\"No\",\"No\",\"No\",\"No\",\"No\",\"No\",\"No\",\"No\",\"No\",\"No\",\"No\",\"No\",\"No\",\"No\",\"No\",\"No\",\"No\",\"No\",\"No\",\"No\",\"No\",\"No\",\"No\",\"No\",\"No\",\"No\",\"No\",\"No\",\"No\",\"No\",\"No\",\"No\",\"No\",\"No\",\"No\",\"No\",\"No\",\"No\",\"No\",\"No\",\"No\",\"No\",\"No\",\"No\",\"No\",\"No\",\"No\",\"No\",\"No\",\"No\",\"No\",\"No\",\"No\",\"No\",\"No\",\"No\",\"No\",\"No\",\"No\",\"No\",\"No\",\"No\",\"No\",\"No\",\"No\",\"No\",\"No\",\"No\",\"No\",\"No\",\"No\",\"No\",\"No\",\"No\",\"No\",\"No\",\"No\",\"No\",\"No\",\"No\",\"No\",\"No\",\"No\",\"No\",\"No\",\"No\",\"No\",\"No\",\"No\",\"No\",\"No\",\"No\",\"No\",\"No\",\"No\",\"No\",\"No\",\"No\",\"No\",\"No\",\"No\",\"No\",\"No\",\"No\",\"No\",\"No\",\"No\",\"No\",\"No\",\"No\",\"No\",\"No\",\"No\",\"No\",\"No\",\"No\",\"No\",\"No\",\"No\",\"No\",\"No\",\"No\",\"No\",\"No\",\"No\",\"No\",\"No\",\"No\",\"No\",\"No\",\"No\",\"No\",\"No\",\"No\",\"No\",\"No\",\"No\",\"No\",\"No\",\"No\",\"No\",\"No\",\"No\",\"No\",\"No\",\"No\",\"No\",\"No\",\"No\",\"No\",\"No\",\"No\",\"No\",\"No\",\"No\",\"No\",\"No\",\"No\",\"No\",\"No\",\"No\",\"No\",\"No\",\"No\",\"No\",\"No\",\"No\",\"No\",\"No\",\"No\",\"No\",\"No\",\"No\",\"No\",\"No\",\"No\",\"No\",\"No\",\"No\",\"No\",\"No\",\"No\",\"No\",\"No\",\"No\",\"No\",\"No\",\"No\",\"No\",\"No\",\"No\",\"No\",\"No\",\"No\",\"No\",\"No\",\"No\",\"No\",\"No\",\"No\",\"No\",\"No\",\"No\",\"No\",\"No\",\"No\",\"No\",\"No\",\"No\",\"No\",\"No\",\"No\",\"No\",\"No\",\"No\",\"No\",\"No\",\"No\",\"No\",\"No\",\"No\",\"No\",\"No\",\"No\",\"No\",\"No\",\"No\",\"No\",\"No\",\"No\",\"No\",\"No\",\"No\",\"No\",\"No\",\"No\",\"No\",\"No\",\"No\",\"No\",\"No\",\"No\",\"No\",\"No\",\"No\",\"No\",\"No\",\"No\",\"No\",\"No\",\"No\",\"No\",\"No\",\"No\",\"No\",\"No\",\"No\",\"No\",\"No\",\"No\",\"No\",\"No\",\"No\",\"No\",\"No\",\"No\",\"No\",\"No\",\"No\",\"No\",\"No\",\"No\",\"No\",\"No\",\"No\",\"No\",\"No\",\"No\",\"No\",\"No\",\"No\",\"No\",\"No\",\"No\",\"No\",\"No\",\"No\",\"No\",\"No\",\"No\",\"No\",\"No\",\"No\",\"No\",\"No\",\"No\",\"No\",\"No\",\"No\",\"No\",\"No\",\"No\",\"No\",\"No\",\"No\",\"No\",\"No\",\"No\",\"No\",\"No\",\"No\",\"No\",\"No\",\"No\",\"No\",\"No\",\"No\",\"No\",\"No\",\"No\",\"No\",\"No\",\"No\",\"No\",\"No\",\"No\",\"No\",\"No\",\"No\",\"No\",\"No\",\"No\",\"No\",\"No\",\"No\",\"No\",\"No\",\"No\",\"No\",\"No\",\"No\",\"No\",\"No\",\"No\",\"No\",\"No\",\"No\",\"No\",\"No\",\"No\",\"No\",\"No\",\"No\",\"No\",\"No\",\"No\",\"No\",\"No\",\"No\",\"No\",\"No\",\"No\",\"No\",\"No\",\"No\",\"No\",\"No\",\"No\",\"No\",\"No\",\"No\",\"No\",\"No\",\"No\",\"No\",\"No\",\"No\",\"No\",\"No\",\"No\",\"No\",\"No\",\"No\",\"No\",\"No\",\"No\",\"No\",\"No\",\"No\",\"No\",\"No\",\"No\",\"No\",\"No\",\"No\",\"No\",\"No\",\"No\",\"No\",\"No\",\"No\",\"No\",\"No\",\"No\",\"No\",\"No\",\"No\",\"No\",\"No\",\"No\",\"No\",\"No\",\"No\",\"No\",\"No\",\"No\",\"No\",\"No\",\"No\",\"No\",\"No\",\"No\",\"No\",\"No\",\"No\",\"No\",\"No\",\"No\",\"No\",\"No\",\"No\",\"No\",\"No\",\"No\",\"No\",\"No\",\"No\",\"No\",\"No\",\"No\",\"No\",\"No\",\"No\",\"No\",\"No\",\"No\",\"No\",\"No\",\"No\",\"No\",\"No\",\"No\",\"No\",\"No\",\"No\",\"No\",\"No\",\"No\",\"No\",\"No\",\"No\",\"No\",\"No\",\"No\",\"No\",\"No\",\"No\",\"No\",\"No\",\"No\",\"No\",\"No\",\"No\",\"No\",\"No\",\"No\",\"No\",\"No\",\"No\",\"No\",\"No\",\"No\",\"No\",\"No\",\"No\",\"No\",\"No\",\"No\",\"No\",\"No\",\"No\",\"No\",\"No\",\"No\",\"No\",\"No\",\"No\",\"No\",\"No\",\"No\",\"No\",\"No\",\"No\",\"No\",\"No\",\"No\",\"No\",\"No\"],\"x0\":\" \",\"xaxis\":\"x\",\"y\":[0.8109080060293496,0.321081548142575,0.4562972370154289,-0.9538092326586193,-0.2630908941607475,1.0666994896414554,1.5239928494535584,1.5321261239722261,0.6447858739855578,0.9577136110913055,1.4341201660222782,-0.21307125587093964,0.0443468826448994,1.2930078531233897,-1.2866634923351035,0.9471403542170372,1.6598185339153124,0.5256334022870729,-0.918836152228347,-0.6614180137125081,0.4174608511887899,-0.48085931939808063,1.0636495116969547,-0.26654753583118124,0.5260400660130063,1.0506362724670864,-1.1638510471032177,-0.16325494944409888,1.2462415246410496,-0.023159295860044213,-0.09269879299465457,1.3285909291425622,0.4880170076382338,-0.593505171481631,-1.3187899266838417,0.9144039242793988,0.4341340639520588,1.046772967070719,-0.27488414221281565,1.1228190838202643,-0.5247790017988871,-0.78260380404066,-0.11384530674319114,-0.9422193164695175,1.6785250653082484,-1.2701936114348007,-0.7234342319173508,0.7787815716806114,-1.552621569095544,-1.4704754964569977,-0.6650779872459085,1.5878390544251015,-1.5381850068249083,0.746655137331873,0.41278421834055545,1.4355434890630452,1.5567292793911969,1.6691717996117805,0.2493054005153308,-0.14759839599566316,-1.3246865507098755,1.1695854123026044,-0.7923637334630613,1.5168762342497242,0.1956257886921225,1.1520988720874685,-0.151665033254997,1.168365421124804,-0.8991129615205775,0.8851241360121944,-0.9064329085873787,1.5827557578509337,1.1974418775290416,-1.2047207515595244,-0.3549968962216947,-1.3244832188469093,-0.514815740513519,-0.89402966494641,-1.3061833511799064,-1.119524700976478,1.2130984309774777,1.2246883471665797,-0.1970080386965705,-0.22954113677124222,1.22956831187778,-1.0890249215314733,1.1163124642053295,1.135222327461232,1.6522952549855447,-0.11099866066165755,-0.25028098679384536,-0.3399503383621591,0.06996669737870327,-0.4410062742566076,0.364187903091515,0.3383647564947444,0.39651766930322,-1.3145199575615407,0.6024928464884846,-0.10632202781342355,0.7486884559615402,-1.6677074035346946,-1.5406249891805086,0.9823167665102758,-0.7370574667361194,0.7633283500951423,0.4890336669530673,0.9867900674955431,1.5010163489383215,0.23649549314842866,-1.5369650156471082,-1.340546436021278,-0.7447840775288541,1.053279586685653,-0.5701220072404609,1.570962509798865,0.8367311526261203,-1.4302157875895918,-1.6750273506014957,0.626282674455588,0.3326714643316768,-1.343393082102812,-0.08009221749071953,0.6763023127453959,-1.392396061077786,-1.6065045127817186,0.059393440504434986,-0.9887823130888912,0.37720114232138346,1.522772858275758,-0.5898451979482305,1.1071625303718282,0.4599572105488294,-0.22730448627860875,0.0980264944681077,-0.16122163081443175,0.15638273913955,-0.30335060302815353,1.4280202101332768,-0.9926456184852583,0.9164372429090659,-1.2104140437225914,-1.0849582842721395,1.184835302025107,-1.5359483563322747,1.2592547638709177,1.705974866808753,1.431476851803711,-0.3621135114255293,-0.013196034574676059,0.5795163459732475,-0.9983389106483259,0.31803157019807465,-1.6490008721417584,0.6240460239629546,0.9367704292057356,-1.2077707295040245,-0.5353522586731554,1.3794238948842363,-1.4820654126460997,-1.4153725615930228,0.039263586070731965,0.085623250827139,0.8629609629488243,-0.8364867477268346,0.7608883677395422,1.170602071617438,1.1073658622347948,-0.5225423513062536,-0.6299015749526699,-1.625211044174655,-1.4363157434785927,0.6340092852483227,0.05085350225983382,-0.23299777844167593,0.5681297616471128,1.0858126847603249,-0.8338434335082677,-0.7041177049355146,1.4941030655974539,-0.9729224277774888,1.2966678266567906,-0.13478848862876103,-1.463765544979097,-0.22974446863420891,-0.42473972521927217,-0.43409299091574016,1.4129736522737417,-1.4277758052339915,-0.010552720356108795,0.4314907497334919,1.6927582957159175,-1.1902841892888885,-0.6691446245052424,-0.39993323793733476,-0.2620742348459139,0.6968388309050323,0.16593933669898475,0.7476717966467067,0.47703708703803205,-0.11526862978395813,-0.6148550170931343,1.0884559989788922,-0.1162852890987917,-1.3053700237280395,-0.4902125850945486,-0.14292176314742913,-0.03129257037871195,-1.5444882945768759,1.68523501678615,0.2997317025310717,-1.4875553729462005,-1.377552835081217,0.5856163018622486,0.9266038360574007,-0.5884218749074636,-0.9239194488025145,1.5414793896686942,-0.6018417778632659,1.5835690853028006,1.5010163489383215,-0.7777238393294592,0.11835968076477743,0.9168439066349993,-0.356216887399495,-0.48736593901301506,0.5791096822473145,0.26069198484146594,-0.532302280728655,-0.5493821572178578,0.22917554608162777,-0.017262671834009927,0.8064347050440824,0.2737052240713344,0.8580809982376235,-0.8084269506374305,-0.3946466095002006,-0.1789115028925346,-1.0930915587908072,0.7259152873092699,-0.07439892532765197,-1.540421657317542,-0.6087550612041333,1.0471796307966525,-1.2413204868935295,1.3847105233213701,-0.055692393934715936,0.6671523789118946,-1.0440885798158328,1.722648079572022,0.5917162577512496,0.1210029949833447,0.3784211334991837,0.28590513584933636,1.7161414599570881,0.5650797837026121,-0.619734981804335,-0.41131982226346986,-0.4127431453042369,-1.3090299972614399,0.6447858739855578,1.1809719966287395,-1.2579936996567989,0.24523876325599692,0.27187523730463437,-0.5426722057399567,-0.9035862625058447,-1.3848727821480182,-0.9318493914582159,1.2212317054961455,1.1830053152584066,1.3826772046917037,1.4587233214412483,-0.5977751406039316,1.4133803159996752,-1.5089052185577039,1.114889141164563,1.3881671649918044,0.8651976134414582,-0.2571942701347132,-1.3153332850134076,0.002867182599693089,0.1210029949833447,1.1767020275064386,-0.5264056567026208,0.6496658386967584,1.5038629950198554,0.8001314172921147,-1.4962986430537686,0.15882272149515017,-1.3139099619726409,-0.8600732438309717,0.31437159666467385,1.7035348844531526,-0.2813907618277501,-0.9584858655068533,0.14031952196518085,-0.6246149465155357,-0.36984012221826357,1.2997178046012912,0.2324288558890948,0.293428414779104,0.4009909702884873,0.9133872649645652,-0.3316137319805247,-0.16894824160716643,0.6177427362109869,0.3397880795355114,1.0880493352529588,0.9107439507459983,1.269828020745186,-0.5632087238995931,1.1022825656606274,-1.7026804839649667,-0.5892352023593304,0.8298178692852525,0.14458949108748145,-0.3718734408479307,0.7667849917655761,0.23466550638172862,-0.8974863066168441,-0.8783731114979743,-1.1506344760103826,-0.5001758463799167,0.3668312173100819,-0.7608472947032232,1.572589164702599,-1.4487189871195614,-1.4881653685351006,-0.513595749335719,-1.3456297325954454,-0.8072069594596303,-1.510125209735504,1.0660894940525552,0.2159589749887922,-1.2899168021425704,1.562422571554264,-0.108558678306057,-1.2037040922446907,-1.2893068065536704,1.5599825891986643,1.098012596538327,0.5978162136402506,1.2562047859264178,1.2069984750884764,0.7159520260239017,-0.35133692268829425,-1.3974793576519533,-0.05711571697548254,0.24666208629676353,-0.0024194458374410567,-1.284833505568403,-0.27163083240534863,-1.545098290165776,0.1606527082618506,-1.1425012014917144,0.9268071679203674,-0.5851685650999965,-1.4481089915306613,-0.579475272936929,0.7997247535661812,0.19440579751432222,-0.29765731086508596,-0.40928650363380314,-0.7923637334630613,0.840187794296554,-1.683567288846097,-0.7486473829252213,-0.23401443775650949,-0.5859818925518634,0.2757385427010015,-0.7978536937631623,1.3637673414358003,-1.4310291150414587,1.5056929817865559,1.5762491382359998,-0.053659075305048806,-0.5585320910513591,-0.2567876064087798,1.153928858854169,-0.4694727350719455,1.2448182016002827,-1.5247651038691061,1.2966678266567906,0.3521913231764797,-0.818186880059832,1.7002815746456852,-1.6235843892709212,-1.4861320499054338,1.0061065944773797,-0.4479195575974755,-0.033732552734312506,-0.5066824659948512,-0.10428870918375642,-1.5682781225439797,-0.4631694473199778,0.27919518437143526,-1.205330747148424,-0.32226046628405625,-0.7049310323873814,-0.14475174991412917,1.4617732993857488,0.6002561959958508,-0.7702005603996912,0.8088746873996826,1.3426208276872638,0.9713368459100741,-0.5632087238995931,0.45223059975609503,0.6653223921451942,1.5795024480434672,0.9028140080902969,1.7145148050533543,1.249088170722583,1.719191437901588,0.6037128376662848,-1.6921072270906985,-1.5660414720513458,-0.18277480828890175,-1.1599877417068507,0.8125346609330834,-0.7954137114075617,-0.24458769463077779,-1.101224833309475,0.5307166988612404,-1.5796647068701146,-1.4987386254093689,-1.401952658637221,0.7055821010126002,0.5819563283288481,-1.1319279446174466,1.3597007041764668,-0.6965944260057466,1.1258690617647642,-0.2848474034981838,-1.5467249450695097,-1.4456690091750608,-1.2462004516047307,-1.4202525263042236,1.5058963136495225,1.2413615599298484,-0.5924885121667974,-1.1351812544249136,1.504879654334689,-0.9570625424660864,0.2942417422309708,1.4963397160900878,-1.4076459508002885,0.20091241712925662,0.1350328935280467,-1.518868479843072,0.46463384339706376,-0.36780680358859685,-0.43551631395650714,1.4255802277776763,1.504066326882822,0.6397025774113902,1.4180569488479087,-0.29745397900211923,0.20314906762189047,0.9935000189734442,-0.4633727791829445,1.1907319260511409,-0.22588116323784177,-0.7275008691766847,1.0449429803040187,0.305628326557106,-0.67544791225721,1.370477292913702,-0.9214794664469144,-1.1760509588812198,1.0189165018442814,-0.06484232776821723,0.9139972605534653,0.5689430890989793,1.6799483883490154,-0.4310430129712395,-1.6032512029742516,0.13381290235024645,-1.0861782754499394,1.0032599483958458,-0.7242475593692176,0.07748997630847126,-0.5890318704963637,1.6807617158008823,0.6496658386967584,0.25926866180069896,1.2320082942333805,-0.4786226689054468,0.06142675913410211,-0.03922251303441336,-1.6376142878156232,-1.445465677312094,0.689518883838231,1.3212709820757604,0.15556941168768315,-0.6193283180784016,-1.087804930353673,1.4001637449068396,-0.424129729630372,-0.7813838128628596,-0.6140416896412675,-0.09493544348728841,-1.5284250774025068,0.008763806625727372,0.2879384544790031,0.3340947873724438,1.4398134581853455,-1.340546436021278,0.145606150402315,0.04821018804126694,1.0689361401340889,-0.8795931026757746,1.4656366047821165,0.16207603130261758,-1.3236698913950424,1.6010556255179371,1.465229941056183,1.2494948344485162,1.050839604330053,1.5168762342497242,-0.8265234864414664,1.4851564636269194,1.2456315290521496,-0.41701311442653743,-1.0778416690683048,-0.3521502501401611,0.12811961018717888,0.02706367429273036,-0.869223177664473,-0.4973292002983832,-1.4222858449338907,0.11246305673874316,1.473973211163751,1.5949556696289358,-1.4129325792374228,1.3529907526985654,1.0774760783786903,-0.3350703736509584,-1.4336724292600258,-1.1876408750703216,-0.20148133968183815,-1.1750342995663863,0.40465094382188777,0.2692319230860671,-0.4595094737865773,1.7071948579865526,-1.6845839481609306,-0.24418103090484436,0.37903112908808384,-1.087194934764773,-1.3814161404775847,0.365611226132282,-1.4096792694299554,0.3863510761548851,0.3751678236917167,-1.4989419572723357,-0.12868853273976003,-0.5930985077556976,-0.7325841657508521,-0.5081057890356182,-0.7996836805298623,0.15678940286548343,1.1891052711474073,0.6512924936004921,0.9819101027843423,-0.4562561639791103,-1.6819406339423637,1.6628685118598132,-0.8572265977494378,0.9943133464253111,-1.5416416484953421,0.5988328729550841,-1.6270410309413552,-1.157141095625317,-0.7195709265209836,0.10514310967194226,-0.9599091885476203,-1.2976434129353052,-0.42880636247860604,-1.6988171785685995,1.103909220564361,1.3048011011754583,-0.8000903442557957,1.64212866183721,-0.37878672418879816,-0.05223575226428182,-1.2382705089490291,-1.358236308099381,-0.532302280728655,-1.3486797105399462,-0.21042794165237275,0.6020861827625511,-0.48736593901301506,0.7517384339060406,1.4078903556995739,-1.679500651586763,-0.7866704412999939,0.2234822539185602,0.6494625068337917,-0.6959844304168465,-0.9621458390402537,0.13055959254277943,-0.10266205428002272,0.9711335140471073,0.8633676266747577,0.6049328288440852,-0.39281662273350054,-1.1994341231223902,1.0886593308418588,-1.2893068065536704,-0.03800252185661308,-0.8401467212602354,-1.4605122351716298,-1.4782021072497324,-1.463765544979097,1.5101662827718227,-1.3399364404323784,1.302157786956891,-0.07988888562775281,1.639282015755676,0.11957967194257771,1.171212067206338,0.25276204218576453,0.03723026744106522,-1.7161003869207687,0.15638273913955,-1.139654555410181,1.3873538375399375,0.7832548726658787,0.686265574030764,-0.5442988606436904,-1.6197210838745542,-0.9127361963393464,-0.3137205280394551,0.14153951314298113,0.44552064827819393,0.981503439058409,-1.1780842775108868,-1.728096966835804,0.14743613716901505,0.48618702087153337,-1.3498997017177463,-0.6569447127272408,1.4638066180154161,-0.0365791988158461,1.6919449682640508,0.45548390956356205,-1.0920748994759735,-0.6307149024045368,-0.6040784283558993,-0.9316460595952492,1.608375572584738,-0.317787165298789,-0.2809840981018167,-0.6429148141825384,0.8076546962218827,-1.08983824898334,-0.10245872241705639,1.4211069267924095,1.1592154872913027,-0.14719173226972973,-0.7232309000543841,0.8918340874900952,-0.14271843128446243,-0.08293886357225312,0.6730490029379285,1.304191105586558,-1.2281039158006943,0.04821018804126694,1.1020792337976608,0.45833055564509606,1.3948771164697051,0.2950550696828377,-1.206754070189191,-1.0829249656424722,-1.1935374990963559,-0.8497033188196701,0.9564936199135052,-0.2848474034981838,0.5815496646029147,1.017086515077581,1.144778925020667,1.1734487176989719,1.5402593984908939,-0.8842697355240086,0.08358993219747225,0.8867507909159278,-1.59288127796295,-0.5408422189732562,-1.0034222072224934,1.4497767194707136,-0.22730448627860875,1.55530595635043,1.4987796984456876,0.9705235184582072,-1.5265950906358066,-1.2970334173464049,0.79057481973268,-0.8873197134685092,1.6728317731451814,0.8444577634188549,1.4190736081627424,-0.7476307236103876,-0.6158716764079678,0.21006235096275794,-0.27915411133511664,-0.9719057684626552,1.4631966224265158,-1.4509556376121948,-1.1776776137849534,0.9113539463348984,-1.6975971873907993,-1.2563670447530655,1.0908959813344923,-1.627651026530255,0.7090387426830344,-1.6152477828892868,0.9949233420142112,-1.1010215014465081,-1.6965805280759658,0.08663991014197256,-0.2720374961312821,-0.09046214250202111,-0.7819938084517598,0.6035095058033181,-1.6969871918018993,-0.1118119881135244,1.3873538375399375,-0.7876871006148274,1.1710087353433714,1.2958544992049237,0.17671592543621975,-1.697190523664866,-0.131535178821294,-0.5898451979482305,0.5183134552202717,-1.5684814544069463,-0.8401467212602354,1.3060210923532585,-0.8596665801050383,-0.5095291120763848,1.1358323230501324,0.1547560842358163,-0.3027406074392534,0.1716326288620523,-0.36516348937002957,1.5038629950198554,-1.699223842294533,0.44348732964852716,-0.23035446422310907,-1.0719450450422705,-0.7966337025853619,0.9449037037244034,0.5890729435326827,-0.5020058331466172,1.0465696352077525,1.3513640977948325,-0.8773564521831407,0.8105013423034163,-0.23828440687881008,1.6640885030376134,-1.1162713911690108,-0.5987917999187651,-1.714677063880002,-1.4157792253189563,1.683811693745383,-0.573375317047928,0.050243506670933684,-1.1303012897137128,0.47764708262693223,-0.29135402311311825,0.3357214422761771,1.3472974605354981,1.4463200778002796,-0.4174197781524709,-0.4527995223086762,-1.4641722087050304,-0.3657734849589297,-0.7128609750430824,1.4491667238818136,-0.04694912382714767,-1.1526677946400496,0.6307559754408557,0.6748789897046289,0.6342126171112894,1.659411870189379,-1.1002081739946417,-1.6219577343671876,0.7950481207179473,1.4705165694933169,-0.06768897384975082,-0.6730079299016098,-0.7980570256261289,-0.15715499355509788,-1.2950000987167378,1.301344459505024,0.5758563724398471,-0.37289010016276425,1.6319620686888752,0.8090780192626492,-1.441602371915727,0.8468977457744551,-1.6197210838745542,-1.0487652126640667,1.0095632361478133,-0.8133069153486312,-1.489995355301801,-1.3946327115704198,1.6988582516049182,0.04841351990423327],\"y0\":\" \",\"yaxis\":\"y\",\"type\":\"box\"},{\"alignmentgroup\":\"True\",\"hovertemplate\":\"Attrition=%{x}\\u003cbr\\u003eMonthly_Income=%{y}\\u003cextra\\u003e\\u003c\\u002fextra\\u003e\",\"legendgroup\":\"Yes\",\"marker\":{\"color\":\"#EF553B\"},\"name\":\"Yes\",\"notched\":false,\"offsetgroup\":\"Yes\",\"orientation\":\"v\",\"showlegend\":true,\"x\":[\"Yes\",\"Yes\",\"Yes\",\"Yes\",\"Yes\",\"Yes\",\"Yes\",\"Yes\",\"Yes\",\"Yes\",\"Yes\",\"Yes\",\"Yes\",\"Yes\",\"Yes\",\"Yes\",\"Yes\",\"Yes\",\"Yes\",\"Yes\",\"Yes\",\"Yes\",\"Yes\",\"Yes\",\"Yes\",\"Yes\",\"Yes\",\"Yes\",\"Yes\",\"Yes\",\"Yes\",\"Yes\",\"Yes\",\"Yes\",\"Yes\",\"Yes\",\"Yes\",\"Yes\",\"Yes\",\"Yes\",\"Yes\",\"Yes\",\"Yes\",\"Yes\",\"Yes\",\"Yes\",\"Yes\",\"Yes\",\"Yes\",\"Yes\",\"Yes\",\"Yes\",\"Yes\",\"Yes\",\"Yes\",\"Yes\",\"Yes\",\"Yes\",\"Yes\",\"Yes\",\"Yes\",\"Yes\",\"Yes\",\"Yes\",\"Yes\",\"Yes\",\"Yes\",\"Yes\",\"Yes\",\"Yes\",\"Yes\",\"Yes\",\"Yes\",\"Yes\",\"Yes\",\"Yes\",\"Yes\",\"Yes\",\"Yes\",\"Yes\",\"Yes\",\"Yes\",\"Yes\",\"Yes\",\"Yes\",\"Yes\",\"Yes\",\"Yes\",\"Yes\",\"Yes\",\"Yes\",\"Yes\",\"Yes\",\"Yes\",\"Yes\",\"Yes\",\"Yes\",\"Yes\",\"Yes\",\"Yes\",\"Yes\",\"Yes\",\"Yes\",\"Yes\",\"Yes\",\"Yes\",\"Yes\",\"Yes\",\"Yes\",\"Yes\",\"Yes\",\"Yes\",\"Yes\",\"Yes\",\"Yes\",\"Yes\",\"Yes\",\"Yes\",\"Yes\",\"Yes\",\"Yes\",\"Yes\",\"Yes\",\"Yes\",\"Yes\",\"Yes\",\"Yes\",\"Yes\",\"Yes\",\"Yes\",\"Yes\",\"Yes\",\"Yes\",\"Yes\",\"Yes\",\"Yes\",\"Yes\",\"Yes\",\"Yes\",\"Yes\",\"Yes\",\"Yes\",\"Yes\",\"Yes\",\"Yes\",\"Yes\",\"Yes\",\"Yes\",\"Yes\",\"Yes\",\"Yes\",\"Yes\",\"Yes\",\"Yes\",\"Yes\",\"Yes\",\"Yes\",\"Yes\",\"Yes\",\"Yes\",\"Yes\",\"Yes\",\"Yes\",\"Yes\",\"Yes\",\"Yes\",\"Yes\",\"Yes\",\"Yes\",\"Yes\",\"Yes\",\"Yes\",\"Yes\",\"Yes\",\"Yes\",\"Yes\",\"Yes\",\"Yes\",\"Yes\",\"Yes\",\"Yes\",\"Yes\",\"Yes\",\"Yes\",\"Yes\",\"Yes\",\"Yes\",\"Yes\",\"Yes\"],\"x0\":\" \",\"xaxis\":\"x\",\"y\":[-0.6715846068608429,-0.5951318263853647,1.2283483206999797,0.4835437066529665,0.16492267738415117,0.2267355637260272,-0.6994410720872806,1.5018296763901882,-0.37858339232583144,-1.6044711941520517,0.3757778192806168,1.7281380398721224,-0.21266459214500621,1.0504329406041195,0.7869148461992795,-0.9039929262317782,1.417243621396042,-0.20473464948930517,-0.9670258037514545,-0.5908618572630641,-0.2785441157462165,1.1630787926876702,0.9957366694660776,-0.39078330410383344,1.0254231214592158,-1.652050850086259,-0.13560181608062788,0.1606527082618506,1.187885279969607,1.1817853240806062,-0.7862637775740604,1.0732061092563898,-1.6729940319718288,1.2025251741032095,1.438796798870512,0.8475077413633553,0.9209105438943331,0.12628962342047884,0.36805120848788214,0.09090987926427314,1.5284661504388262,1.5498159960503293,-1.5875946495258157,-0.42778970316377246,0.3198615569647747,0.29017510497163695,1.637858692714909,-1.6426975843897909,1.5180962254275245,0.13116958813167956,0.034790285085464674,0.6519024891893923,-0.6069250744374333,0.006323824270127204,-0.8600732438309717,0.10778642389050914,-1.3596596311401479,-1.6662840804939278,1.1889019392844404,-1.1313179490285463,-0.9430326439213843,-0.5796786047998956,-1.0491718763900002,-0.12685854597305998,-0.7760971844257255,-1.3655562551661822,-0.32673376726932357,0.8460844183225883,0.5339700086687074,0.3182349020610414,-1.1260313205914123,-0.6514547524271399,1.5243995131794918,1.3210676502127938,0.0764733169936377,-1.1412812103139145,-0.7087943377837487,-1.6286676858450888,-0.9700757816959552,-1.120948024017245,-0.5926918440297642,-1.0859749435869726,-1.1807275917294537,-0.8458400134233026,-0.2527209691494459,0.6433625509447908,0.629129320537122,-0.864546544816239,1.1642987838654706,-0.13966845333996172,-1.30781000608364,0.8088746873996826,0.47988373311956606,1.6581918790115788,-1.050798531293734,-0.9808523704331902,-1.7148803957429686,1.4955263886382208,-0.19660137497063707,-0.7897204192444941,-1.6880405898313646,0.2704519142638674,1.0772727465157237,0.49554028656800175,-0.8663765315829394,-1.0304653449970642,-0.4420229335714412,1.5008130170753546,-1.4310291150414587,0.4209174928592236,-0.1486150553104967,1.6417219981112765,-1.6341576461451897,-0.6268515970081696,-1.2785302178164353,-1.6528641775381259,-0.5967584812890984,-0.21612123381544032,0.6132694352257195,1.4139903115885752,-0.5146124086505522,1.4967463798160212,0.4038376163700209,1.3001244683272246,-0.5904551935371307,-0.9607225159994868,0.5809396690140146,-0.11160865625055769,1.7242747344757559,0.4741904409564985,1.2775546315379211,0.8019614040588151,0.2312088647112945,-1.13355459952118,0.6146927582664865,0.5313266944501405,-1.1709676623070524,0.9686935316915072,0.3151849241165407,-1.2157006721597257,1.535786097505627,-0.49204257186124906,0.9703201865952406,-1.1677143524995852,-0.41396313648203714,1.3468907968095647,1.722038083983122,0.7039554461088668,-1.290120134005537,1.2850779104676886,0.5311233625871739,1.195611890762342,0.5815496646029147,1.7143114731903877,0.47988373311956606,0.101076472412608,-1.0725550406311708,0.4743937728194652,-1.0951248774204743,-1.085568279861039,0.36866120407678227,-0.5487721616289577,1.6606318613671793,0.3916377045920193,-0.23055779608607577,-0.3338503824731581,-0.7279075329026181,-1.291543457046304,-1.412729247374456,0.9182672296757659,0.7887448329659795,1.4827164812713187,1.2779612952638546,-0.3027406074392534,-1.4818620807831329,1.1470155755133007,-0.8655632041310726,0.6092027979663857,0.21331566077022535,0.7492984515504404,0.6199793867036207,1.345264141905831,-0.6101783842449002,-0.20554797694117202,-1.322449900217242,1.3985370900031058,-1.3629129409476148,-1.0442919116787996,-0.10022207192442255],\"y0\":\" \",\"yaxis\":\"y\",\"type\":\"box\"}],                        {\"template\":{\"data\":{\"histogram2dcontour\":[{\"type\":\"histogram2dcontour\",\"colorbar\":{\"outlinewidth\":0,\"ticks\":\"\"},\"colorscale\":[[0.0,\"#0d0887\"],[0.1111111111111111,\"#46039f\"],[0.2222222222222222,\"#7201a8\"],[0.3333333333333333,\"#9c179e\"],[0.4444444444444444,\"#bd3786\"],[0.5555555555555556,\"#d8576b\"],[0.6666666666666666,\"#ed7953\"],[0.7777777777777778,\"#fb9f3a\"],[0.8888888888888888,\"#fdca26\"],[1.0,\"#f0f921\"]]}],\"choropleth\":[{\"type\":\"choropleth\",\"colorbar\":{\"outlinewidth\":0,\"ticks\":\"\"}}],\"histogram2d\":[{\"type\":\"histogram2d\",\"colorbar\":{\"outlinewidth\":0,\"ticks\":\"\"},\"colorscale\":[[0.0,\"#0d0887\"],[0.1111111111111111,\"#46039f\"],[0.2222222222222222,\"#7201a8\"],[0.3333333333333333,\"#9c179e\"],[0.4444444444444444,\"#bd3786\"],[0.5555555555555556,\"#d8576b\"],[0.6666666666666666,\"#ed7953\"],[0.7777777777777778,\"#fb9f3a\"],[0.8888888888888888,\"#fdca26\"],[1.0,\"#f0f921\"]]}],\"heatmap\":[{\"type\":\"heatmap\",\"colorbar\":{\"outlinewidth\":0,\"ticks\":\"\"},\"colorscale\":[[0.0,\"#0d0887\"],[0.1111111111111111,\"#46039f\"],[0.2222222222222222,\"#7201a8\"],[0.3333333333333333,\"#9c179e\"],[0.4444444444444444,\"#bd3786\"],[0.5555555555555556,\"#d8576b\"],[0.6666666666666666,\"#ed7953\"],[0.7777777777777778,\"#fb9f3a\"],[0.8888888888888888,\"#fdca26\"],[1.0,\"#f0f921\"]]}],\"heatmapgl\":[{\"type\":\"heatmapgl\",\"colorbar\":{\"outlinewidth\":0,\"ticks\":\"\"},\"colorscale\":[[0.0,\"#0d0887\"],[0.1111111111111111,\"#46039f\"],[0.2222222222222222,\"#7201a8\"],[0.3333333333333333,\"#9c179e\"],[0.4444444444444444,\"#bd3786\"],[0.5555555555555556,\"#d8576b\"],[0.6666666666666666,\"#ed7953\"],[0.7777777777777778,\"#fb9f3a\"],[0.8888888888888888,\"#fdca26\"],[1.0,\"#f0f921\"]]}],\"contourcarpet\":[{\"type\":\"contourcarpet\",\"colorbar\":{\"outlinewidth\":0,\"ticks\":\"\"}}],\"contour\":[{\"type\":\"contour\",\"colorbar\":{\"outlinewidth\":0,\"ticks\":\"\"},\"colorscale\":[[0.0,\"#0d0887\"],[0.1111111111111111,\"#46039f\"],[0.2222222222222222,\"#7201a8\"],[0.3333333333333333,\"#9c179e\"],[0.4444444444444444,\"#bd3786\"],[0.5555555555555556,\"#d8576b\"],[0.6666666666666666,\"#ed7953\"],[0.7777777777777778,\"#fb9f3a\"],[0.8888888888888888,\"#fdca26\"],[1.0,\"#f0f921\"]]}],\"surface\":[{\"type\":\"surface\",\"colorbar\":{\"outlinewidth\":0,\"ticks\":\"\"},\"colorscale\":[[0.0,\"#0d0887\"],[0.1111111111111111,\"#46039f\"],[0.2222222222222222,\"#7201a8\"],[0.3333333333333333,\"#9c179e\"],[0.4444444444444444,\"#bd3786\"],[0.5555555555555556,\"#d8576b\"],[0.6666666666666666,\"#ed7953\"],[0.7777777777777778,\"#fb9f3a\"],[0.8888888888888888,\"#fdca26\"],[1.0,\"#f0f921\"]]}],\"mesh3d\":[{\"type\":\"mesh3d\",\"colorbar\":{\"outlinewidth\":0,\"ticks\":\"\"}}],\"scatter\":[{\"fillpattern\":{\"fillmode\":\"overlay\",\"size\":10,\"solidity\":0.2},\"type\":\"scatter\"}],\"parcoords\":[{\"type\":\"parcoords\",\"line\":{\"colorbar\":{\"outlinewidth\":0,\"ticks\":\"\"}}}],\"scatterpolargl\":[{\"type\":\"scatterpolargl\",\"marker\":{\"colorbar\":{\"outlinewidth\":0,\"ticks\":\"\"}}}],\"bar\":[{\"error_x\":{\"color\":\"#2a3f5f\"},\"error_y\":{\"color\":\"#2a3f5f\"},\"marker\":{\"line\":{\"color\":\"#E5ECF6\",\"width\":0.5},\"pattern\":{\"fillmode\":\"overlay\",\"size\":10,\"solidity\":0.2}},\"type\":\"bar\"}],\"scattergeo\":[{\"type\":\"scattergeo\",\"marker\":{\"colorbar\":{\"outlinewidth\":0,\"ticks\":\"\"}}}],\"scatterpolar\":[{\"type\":\"scatterpolar\",\"marker\":{\"colorbar\":{\"outlinewidth\":0,\"ticks\":\"\"}}}],\"histogram\":[{\"marker\":{\"pattern\":{\"fillmode\":\"overlay\",\"size\":10,\"solidity\":0.2}},\"type\":\"histogram\"}],\"scattergl\":[{\"type\":\"scattergl\",\"marker\":{\"colorbar\":{\"outlinewidth\":0,\"ticks\":\"\"}}}],\"scatter3d\":[{\"type\":\"scatter3d\",\"line\":{\"colorbar\":{\"outlinewidth\":0,\"ticks\":\"\"}},\"marker\":{\"colorbar\":{\"outlinewidth\":0,\"ticks\":\"\"}}}],\"scattermapbox\":[{\"type\":\"scattermapbox\",\"marker\":{\"colorbar\":{\"outlinewidth\":0,\"ticks\":\"\"}}}],\"scatterternary\":[{\"type\":\"scatterternary\",\"marker\":{\"colorbar\":{\"outlinewidth\":0,\"ticks\":\"\"}}}],\"scattercarpet\":[{\"type\":\"scattercarpet\",\"marker\":{\"colorbar\":{\"outlinewidth\":0,\"ticks\":\"\"}}}],\"carpet\":[{\"aaxis\":{\"endlinecolor\":\"#2a3f5f\",\"gridcolor\":\"white\",\"linecolor\":\"white\",\"minorgridcolor\":\"white\",\"startlinecolor\":\"#2a3f5f\"},\"baxis\":{\"endlinecolor\":\"#2a3f5f\",\"gridcolor\":\"white\",\"linecolor\":\"white\",\"minorgridcolor\":\"white\",\"startlinecolor\":\"#2a3f5f\"},\"type\":\"carpet\"}],\"table\":[{\"cells\":{\"fill\":{\"color\":\"#EBF0F8\"},\"line\":{\"color\":\"white\"}},\"header\":{\"fill\":{\"color\":\"#C8D4E3\"},\"line\":{\"color\":\"white\"}},\"type\":\"table\"}],\"barpolar\":[{\"marker\":{\"line\":{\"color\":\"#E5ECF6\",\"width\":0.5},\"pattern\":{\"fillmode\":\"overlay\",\"size\":10,\"solidity\":0.2}},\"type\":\"barpolar\"}],\"pie\":[{\"automargin\":true,\"type\":\"pie\"}]},\"layout\":{\"autotypenumbers\":\"strict\",\"colorway\":[\"#636efa\",\"#EF553B\",\"#00cc96\",\"#ab63fa\",\"#FFA15A\",\"#19d3f3\",\"#FF6692\",\"#B6E880\",\"#FF97FF\",\"#FECB52\"],\"font\":{\"color\":\"#2a3f5f\"},\"hovermode\":\"closest\",\"hoverlabel\":{\"align\":\"left\"},\"paper_bgcolor\":\"white\",\"plot_bgcolor\":\"#E5ECF6\",\"polar\":{\"bgcolor\":\"#E5ECF6\",\"angularaxis\":{\"gridcolor\":\"white\",\"linecolor\":\"white\",\"ticks\":\"\"},\"radialaxis\":{\"gridcolor\":\"white\",\"linecolor\":\"white\",\"ticks\":\"\"}},\"ternary\":{\"bgcolor\":\"#E5ECF6\",\"aaxis\":{\"gridcolor\":\"white\",\"linecolor\":\"white\",\"ticks\":\"\"},\"baxis\":{\"gridcolor\":\"white\",\"linecolor\":\"white\",\"ticks\":\"\"},\"caxis\":{\"gridcolor\":\"white\",\"linecolor\":\"white\",\"ticks\":\"\"}},\"coloraxis\":{\"colorbar\":{\"outlinewidth\":0,\"ticks\":\"\"}},\"colorscale\":{\"sequential\":[[0.0,\"#0d0887\"],[0.1111111111111111,\"#46039f\"],[0.2222222222222222,\"#7201a8\"],[0.3333333333333333,\"#9c179e\"],[0.4444444444444444,\"#bd3786\"],[0.5555555555555556,\"#d8576b\"],[0.6666666666666666,\"#ed7953\"],[0.7777777777777778,\"#fb9f3a\"],[0.8888888888888888,\"#fdca26\"],[1.0,\"#f0f921\"]],\"sequentialminus\":[[0.0,\"#0d0887\"],[0.1111111111111111,\"#46039f\"],[0.2222222222222222,\"#7201a8\"],[0.3333333333333333,\"#9c179e\"],[0.4444444444444444,\"#bd3786\"],[0.5555555555555556,\"#d8576b\"],[0.6666666666666666,\"#ed7953\"],[0.7777777777777778,\"#fb9f3a\"],[0.8888888888888888,\"#fdca26\"],[1.0,\"#f0f921\"]],\"diverging\":[[0,\"#8e0152\"],[0.1,\"#c51b7d\"],[0.2,\"#de77ae\"],[0.3,\"#f1b6da\"],[0.4,\"#fde0ef\"],[0.5,\"#f7f7f7\"],[0.6,\"#e6f5d0\"],[0.7,\"#b8e186\"],[0.8,\"#7fbc41\"],[0.9,\"#4d9221\"],[1,\"#276419\"]]},\"xaxis\":{\"gridcolor\":\"white\",\"linecolor\":\"white\",\"ticks\":\"\",\"title\":{\"standoff\":15},\"zerolinecolor\":\"white\",\"automargin\":true,\"zerolinewidth\":2},\"yaxis\":{\"gridcolor\":\"white\",\"linecolor\":\"white\",\"ticks\":\"\",\"title\":{\"standoff\":15},\"zerolinecolor\":\"white\",\"automargin\":true,\"zerolinewidth\":2},\"scene\":{\"xaxis\":{\"backgroundcolor\":\"#E5ECF6\",\"gridcolor\":\"white\",\"linecolor\":\"white\",\"showbackground\":true,\"ticks\":\"\",\"zerolinecolor\":\"white\",\"gridwidth\":2},\"yaxis\":{\"backgroundcolor\":\"#E5ECF6\",\"gridcolor\":\"white\",\"linecolor\":\"white\",\"showbackground\":true,\"ticks\":\"\",\"zerolinecolor\":\"white\",\"gridwidth\":2},\"zaxis\":{\"backgroundcolor\":\"#E5ECF6\",\"gridcolor\":\"white\",\"linecolor\":\"white\",\"showbackground\":true,\"ticks\":\"\",\"zerolinecolor\":\"white\",\"gridwidth\":2}},\"shapedefaults\":{\"line\":{\"color\":\"#2a3f5f\"}},\"annotationdefaults\":{\"arrowcolor\":\"#2a3f5f\",\"arrowhead\":0,\"arrowwidth\":1},\"geo\":{\"bgcolor\":\"white\",\"landcolor\":\"#E5ECF6\",\"subunitcolor\":\"white\",\"showland\":true,\"showlakes\":true,\"lakecolor\":\"white\"},\"title\":{\"x\":0.05},\"mapbox\":{\"style\":\"light\"}}},\"xaxis\":{\"anchor\":\"y\",\"domain\":[0.0,1.0],\"title\":{\"text\":\"Attrition\"},\"categoryorder\":\"array\",\"categoryarray\":[\"No\",\"Yes\"]},\"yaxis\":{\"anchor\":\"x\",\"domain\":[0.0,1.0],\"title\":{\"text\":\"Monthly_Income\"}},\"legend\":{\"title\":{\"text\":\"Attrition\"},\"tracegroupgap\":0},\"title\":{\"text\":\"Interactive Income Distribution by Attrition\"},\"boxmode\":\"overlay\"},                        {\"responsive\": true}                    ).then(function(){\n",
              "                            \n",
              "var gd = document.getElementById('e8463c76-a150-49ac-988c-94262d819b77');\n",
              "var x = new MutationObserver(function (mutations, observer) {{\n",
              "        var display = window.getComputedStyle(gd).display;\n",
              "        if (!display || display === 'none') {{\n",
              "            console.log([gd, 'removed!']);\n",
              "            Plotly.purge(gd);\n",
              "            observer.disconnect();\n",
              "        }}\n",
              "}});\n",
              "\n",
              "// Listen for the removal of the full notebook cells\n",
              "var notebookContainer = gd.closest('#notebook-container');\n",
              "if (notebookContainer) {{\n",
              "    x.observe(notebookContainer, {childList: true});\n",
              "}}\n",
              "\n",
              "// Listen for the clearing of the current output cell\n",
              "var outputEl = gd.closest('.output');\n",
              "if (outputEl) {{\n",
              "    x.observe(outputEl, {childList: true});\n",
              "}}\n",
              "\n",
              "                        })                };                            </script>        </div>\n",
              "</body>\n",
              "</html>"
            ]
          },
          "metadata": {}
        }
      ],
      "source": [
        "fig = px.box(df, x='Attrition', y='Monthly_Income', color='Attrition',\n",
        "             title='Interactive Income Distribution by Attrition')\n",
        "fig.show()\n"
      ]
    },
    {
      "cell_type": "code",
      "execution_count": null,
      "metadata": {
        "id": "UxKCZeOf9htH"
      },
      "outputs": [],
      "source": []
    },
    {
      "cell_type": "code",
      "execution_count": null,
      "metadata": {
        "id": "tAU2Y-FZ96jU"
      },
      "outputs": [],
      "source": [
        "# Check if 'Employee_ID' exists in the DataFrame columns\n",
        "if 'Employee_ID' in df.columns:\n",
        "    X_numeric = df.select_dtypes(include=[np.number]).drop(columns=['Employee_ID'])  # Drop ID column if present\n",
        "else:\n",
        "    X_numeric = df.select_dtypes(include=[np.number])  # Only select numeric columns if no 'Employee_ID'\n",
        "\n",
        "# Ensure 'Attrition' is binary and encode it correctly\n",
        "y = df['Attrition'].apply(lambda x: 1 if x == 'Yes' else 0)\n",
        "\n",
        "# Now proceed with the model fitting steps...\n"
      ]
    },
    {
      "cell_type": "code",
      "execution_count": null,
      "metadata": {
        "id": "Wyr0IeSa-Quv",
        "outputId": "47885ec6-22da-4218-ddfa-1c1112323419",
        "colab": {
          "base_uri": "https://localhost:8080/"
        }
      },
      "outputs": [
        {
          "output_type": "stream",
          "name": "stdout",
          "text": [
            "Model Accuracy: 0.84\n"
          ]
        }
      ],
      "source": [
        "from sklearn.model_selection import train_test_split\n",
        "from sklearn.linear_model import LogisticRegression\n",
        "from sklearn.preprocessing import LabelEncoder\n",
        "\n",
        "# Select relevant features (replace 'Salary' with 'Monthly_Income')\n",
        "X = data[['Monthly_Income', 'Age', 'Years_at_Company']]\n",
        "y = data['Attrition']\n",
        "\n",
        "# Encode target variable (Attrition: Yes/No → 1/0)\n",
        "le = LabelEncoder()\n",
        "y = le.fit_transform(y)\n",
        "\n",
        "# Split data\n",
        "X_train, X_test, y_train, y_test = train_test_split(X, y, test_size=0.2, random_state=42)\n",
        "\n",
        "# Train model\n",
        "model = LogisticRegression()\n",
        "model.fit(X_train, y_train)\n",
        "\n",
        "# Evaluate\n",
        "accuracy = model.score(X_test, y_test)\n",
        "print(f\"Model Accuracy: {accuracy:.2f}\")\n"
      ]
    },
    {
      "cell_type": "code",
      "execution_count": null,
      "metadata": {
        "id": "Snr5mLJxJyDx",
        "colab": {
          "base_uri": "https://localhost:8080/",
          "height": 550
        },
        "outputId": "7bb0b351-4652-47b7-a392-a7992b4856c1"
      },
      "outputs": [
        {
          "output_type": "display_data",
          "data": {
            "text/plain": [
              "<Figure size 800x600 with 2 Axes>"
            ],
            "image/png": "[encoded data removed]"
          },
          "metadata": {}
        }
      ],
      "source": [
        "# Heatmap of correlations (numeric only)\n",
        "plt.figure(figsize=(8, 6))\n",
        "sns.heatmap(data[['Monthly_Income', 'Performance_Rating', 'Years_at_Company']].corr(),\n",
        "            cmap='coolwarm', annot=True)\n",
        "plt.title(\"Numeric Feature Correlations\")\n",
        "plt.show()\n"
      ]
    },
    {
      "cell_type": "code",
      "execution_count": null,
      "metadata": {
        "id": "fHdoqtt7J86-",
        "colab": {
          "base_uri": "https://localhost:8080/"
        },
        "outputId": "f185a593-af72-4073-979d-2a1a62e3e4d6"
      },
      "outputs": [
        {
          "output_type": "stream",
          "name": "stdout",
          "text": [
            "Collecting dash\n",
            "  Downloading dash-3.0.4-py3-none-any.whl.metadata (10 kB)\n",
            "Collecting Flask<3.1,>=1.0.4 (from dash)\n",
            "  Downloading flask-3.0.3-py3-none-any.whl.metadata (3.2 kB)\n",
            "Collecting Werkzeug<3.1 (from dash)\n",
            "  Downloading werkzeug-3.0.6-py3-none-any.whl.metadata (3.7 kB)\n",
            "Requirement already satisfied: plotly>=5.0.0 in /usr/local/lib/python3.11/dist-packages (from dash) (5.24.1)\n",
            "Requirement already satisfied: importlib-metadata in /usr/local/lib/python3.11/dist-packages (from dash) (8.7.0)\n",
            "Requirement already satisfied: typing-extensions>=4.1.1 in /usr/local/lib/python3.11/dist-packages (from dash) (4.13.2)\n",
            "Requirement already satisfied: requests in /usr/local/lib/python3.11/dist-packages (from dash) (2.32.3)\n",
            "Collecting retrying (from dash)\n",
            "  Downloading retrying-1.3.4-py3-none-any.whl.metadata (6.9 kB)\n",
            "Requirement already satisfied: nest-asyncio in /usr/local/lib/python3.11/dist-packages (from dash) (1.6.0)\n",
            "Requirement already satisfied: setuptools in /usr/local/lib/python3.11/dist-packages (from dash) (75.2.0)\n",
            "Requirement already satisfied: Jinja2>=3.1.2 in /usr/local/lib/python3.11/dist-packages (from Flask<3.1,>=1.0.4->dash) (3.1.6)\n",
            "Requirement already satisfied: itsdangerous>=2.1.2 in /usr/local/lib/python3.11/dist-packages (from Flask<3.1,>=1.0.4->dash) (2.2.0)\n",
            "Requirement already satisfied: click>=8.1.3 in /usr/local/lib/python3.11/dist-packages (from Flask<3.1,>=1.0.4->dash) (8.1.8)\n",
            "Requirement already satisfied: blinker>=1.6.2 in /usr/local/lib/python3.11/dist-packages (from Flask<3.1,>=1.0.4->dash) (1.9.0)\n",
            "Requirement already satisfied: tenacity>=6.2.0 in /usr/local/lib/python3.11/dist-packages (from plotly>=5.0.0->dash) (9.1.2)\n",
            "Requirement already satisfied: packaging in /usr/local/lib/python3.11/dist-packages (from plotly>=5.0.0->dash) (24.2)\n",
            "Requirement already satisfied: MarkupSafe>=2.1.1 in /usr/local/lib/python3.11/dist-packages (from Werkzeug<3.1->dash) (3.0.2)\n",
            "Requirement already satisfied: zipp>=3.20 in /usr/local/lib/python3.11/dist-packages (from importlib-metadata->dash) (3.21.0)\n",
            "Requirement already satisfied: charset-normalizer<4,>=2 in /usr/local/lib/python3.11/dist-packages (from requests->dash) (3.4.1)\n",
            "Requirement already satisfied: idna<4,>=2.5 in /usr/local/lib/python3.11/dist-packages (from requests->dash) (3.10)\n",
            "Requirement already satisfied: urllib3<3,>=1.21.1 in /usr/local/lib/python3.11/dist-packages (from requests->dash) (2.4.0)\n",
            "Requirement already satisfied: certifi>=2017.4.17 in /usr/local/lib/python3.11/dist-packages (from requests->dash) (2025.4.26)\n",
            "Requirement already satisfied: six>=1.7.0 in /usr/local/lib/python3.11/dist-packages (from retrying->dash) (1.17.0)\n",
            "Downloading dash-3.0.4-py3-none-any.whl (7.9 MB)\n",
            "\u001b[2K   \u001b[90m━━━━━━━━━━━━━━━━━━━━━━━━━━━━━━━━━━━━━━━━\u001b[0m \u001b[32m7.9/7.9 MB\u001b[0m \u001b[31m50.7 MB/s\u001b[0m eta \u001b[36m0:00:00\u001b[0m\n",
            "\u001b[?25hDownloading flask-3.0.3-py3-none-any.whl (101 kB)\n",
            "\u001b[2K   \u001b[90m━━━━━━━━━━━━━━━━━━━━━━━━━━━━━━━━━━━━━━━━\u001b[0m \u001b[32m101.7/101.7 kB\u001b[0m \u001b[31m7.8 MB/s\u001b[0m eta \u001b[36m0:00:00\u001b[0m\n",
            "\u001b[?25hDownloading werkzeug-3.0.6-py3-none-any.whl (227 kB)\n",
            "\u001b[2K   \u001b[90m━━━━━━━━━━━━━━━━━━━━━━━━━━━━━━━━━━━━━━━━\u001b[0m \u001b[32m228.0/228.0 kB\u001b[0m \u001b[31m17.7 MB/s\u001b[0m eta \u001b[36m0:00:00\u001b[0m\n",
            "\u001b[?25hDownloading retrying-1.3.4-py3-none-any.whl (11 kB)\n",
            "Installing collected packages: Werkzeug, retrying, Flask, dash\n",
            "  Attempting uninstall: Werkzeug\n",
            "    Found existing installation: Werkzeug 3.1.3\n",
            "    Uninstalling Werkzeug-3.1.3:\n",
            "      Successfully uninstalled Werkzeug-3.1.3\n",
            "  Attempting uninstall: Flask\n",
            "    Found existing installation: Flask 3.1.0\n",
            "    Uninstalling Flask-3.1.0:\n",
            "      Successfully uninstalled Flask-3.1.0\n",
            "Successfully installed Flask-3.0.3 Werkzeug-3.0.6 dash-3.0.4 retrying-1.3.4\n"
          ]
        }
      ],
      "source": [
        "!pip install dash"
      ]
    },
    {
      "cell_type": "code",
      "execution_count": null,
      "metadata": {
        "id": "NquMWHkWKI4S"
      },
      "outputs": [],
      "source": [
        "import dash\n",
        "from dash import dcc, html\n",
        "import plotly.express as px\n"
      ]
    },
    {
      "cell_type": "code",
      "execution_count": null,
      "metadata": {
        "id": "dgjOanm_KLbb",
        "colab": {
          "base_uri": "https://localhost:8080/",
          "height": 672
        },
        "outputId": "22ba14c8-0ab6-4a65-f028-7c69d4cc0a47"
      },
      "outputs": [
        {
          "output_type": "display_data",
          "data": {
            "text/plain": [
              "<IPython.core.display.Javascript object>"
            ],
            "application/javascript": [
              "(async (port, path, width, height, cache, element) => {\n",
              "    if (!google.colab.kernel.accessAllowed && !cache) {\n",
              "      return;\n",
              "    }\n",
              "    element.appendChild(document.createTextNode(''));\n",
              "    const url = await google.colab.kernel.proxyPort(port, {cache});\n",
              "    const iframe = document.createElement('iframe');\n",
              "    iframe.src = new URL(path, url).toString();\n",
              "    iframe.height = height;\n",
              "    iframe.width = width;\n",
              "    iframe.style.border = 0;\n",
              "    iframe.allow = [\n",
              "        'accelerometer',\n",
              "        'autoplay',\n",
              "        'camera',\n",
              "        'clipboard-read',\n",
              "        'clipboard-write',\n",
              "        'gyroscope',\n",
              "        'magnetometer',\n",
              "        'microphone',\n",
              "        'serial',\n",
              "        'usb',\n",
              "        'xr-spatial-tracking',\n",
              "    ].join('; ');\n",
              "    element.appendChild(iframe);\n",
              "  })(8050, \"/\", \"100%\", 650, false, window.element)"
            ]
          },
          "metadata": {}
        }
      ],
      "source": [
        "# Save this as app.py and run with: python app.py\n",
        "\n",
        "import dash\n",
        "from dash import dcc, html\n",
        "from dash.dependencies import Input, Output\n",
        "import plotly.express as px\n",
        "import pandas as pd\n",
        "\n",
        "# Load your data\n",
        "data = pd.read_csv(\"employee_attrition_dataset.csv\")  # Replace with the correct path to your CSV\n",
        "\n",
        "# Corrected column name for salary (use Monthly_Income or whatever exists in your data)\n",
        "salary_col = 'Monthly_Income'  # Ensure this exists in your data\n",
        "\n",
        "# Initialize the Dash app\n",
        "app = dash.Dash(__name__)\n",
        "server = app.server  # for deployment if needed\n",
        "\n",
        "# Bar chart: Attrition by Job Role\n",
        "fig1 = px.histogram(\n",
        "    data, x='Job_Role', color='Attrition', barmode='group',\n",
        "    title=\"Attrition by Job Role\"\n",
        ")\n",
        "\n",
        "# Box plot: Salary by Attrition\n",
        "fig2 = px.box(\n",
        "    data, x='Attrition', y=salary_col,\n",
        "    title=\"Salary by Attrition\", points=\"all\"\n",
        ")\n",
        "\n",
        "# Layout\n",
        "app.layout = html.Div([\n",
        "    html.H1(\"Employee Attrition Dashboard\"),\n",
        "\n",
        "    dcc.Dropdown(\n",
        "        id='role-filter',\n",
        "        options=[{'label': role, 'value': role} for role in sorted(data['Job_Role'].unique())],\n",
        "        placeholder=\"Filter by Job Role\",\n",
        "        style={'width': '50%', 'margin-bottom': '20px'}\n",
        "    ),\n",
        "\n",
        "    dcc.Graph(id='bar-role', figure=fig1),\n",
        "    dcc.Graph(id='box-salary', figure=fig2)\n",
        "])\n",
        "\n",
        "# Callback to update bar chart based on dropdown\n",
        "@app.callback(\n",
        "    Output('bar-role', 'figure'),\n",
        "    Input('role-filter', 'value')\n",
        ")\n",
        "def update_bar(selected_role):\n",
        "    if selected_role is None:\n",
        "        # All job roles shown\n",
        "        fig = px.histogram(\n",
        "            data, x='Job_Role', color='Attrition',\n",
        "            barmode='group', title=\"Attrition by Job Role\"\n",
        "        )\n",
        "    else:\n",
        "        # Only selected role shown\n",
        "        filtered_data = data[data['Job_Role'] == selected_role]\n",
        "        fig = px.histogram(\n",
        "            filtered_data, x='Attrition', color='Attrition',\n",
        "            title=f\"Attrition Count for {selected_role}\"\n",
        "        )\n",
        "    return fig\n",
        "\n",
        "# Run the app\n",
        "if __name__ == '__main__':\n",
        "    app.run(debug=True)\n"
      ]
    },
    {
      "cell_type": "code",
      "execution_count": null,
      "metadata": {
        "id": "Ht4pPKuYXuNj"
      },
      "outputs": [],
      "source": [
        "from sklearn.model_selection import train_test_split\n",
        "\n",
        "X = data.drop(columns=['Attrition'])  # Adjust if the target column is named differently\n",
        "y = data['Attrition']\n",
        "\n",
        "X_train, X_test, y_train, y_test = train_test_split(\n",
        "    X, y, test_size=0.3, random_state=42, stratify=y\n",
        ")"
      ]
    },
    {
      "cell_type": "code",
      "execution_count": null,
      "metadata": {
        "id": "WATUSZL3ctyF"
      },
      "outputs": [],
      "source": [
        "data = pd.get_dummies(data, columns=['Attrition'], drop_first=True)\n",
        "\n",
        "X = data.drop('Attrition_Yes', axis=1)\n",
        "y = data['Attrition_Yes']\n"
      ]
    },
    {
      "cell_type": "code",
      "execution_count": null,
      "metadata": {
        "id": "fAgYS9CahvP7",
        "colab": {
          "base_uri": "https://localhost:8080/"
        },
        "outputId": "be899b35-62af-47fa-9d70-c87849ccb50a"
      },
      "outputs": [
        {
          "output_type": "stream",
          "name": "stdout",
          "text": [
            "Training Logistic Regression...\n",
            "\n",
            "Classification Report:\n",
            "              precision    recall  f1-score   support\n",
            "\n",
            "       False       0.81      1.00      0.90       162\n",
            "        True       0.00      0.00      0.00        38\n",
            "\n",
            "    accuracy                           0.81       200\n",
            "   macro avg       0.41      0.50      0.45       200\n",
            "weighted avg       0.66      0.81      0.72       200\n",
            "\n",
            "Accuracy: 0.81\n"
          ]
        },
        {
          "output_type": "stream",
          "name": "stderr",
          "text": [
            "/usr/local/lib/python3.11/dist-packages/sklearn/linear_model/_logistic.py:465: ConvergenceWarning:\n",
            "\n",
            "lbfgs failed to converge (status=1):\n",
            "STOP: TOTAL NO. OF ITERATIONS REACHED LIMIT.\n",
            "\n",
            "Increase the number of iterations (max_iter) or scale the data as shown in:\n",
            "    https://scikit-learn.org/stable/modules/preprocessing.html\n",
            "Please also refer to the documentation for alternative solver options:\n",
            "    https://scikit-learn.org/stable/modules/linear_model.html#logistic-regression\n",
            "\n",
            "/usr/local/lib/python3.11/dist-packages/sklearn/metrics/_classification.py:1565: UndefinedMetricWarning:\n",
            "\n",
            "Precision is ill-defined and being set to 0.0 in labels with no predicted samples. Use `zero_division` parameter to control this behavior.\n",
            "\n",
            "/usr/local/lib/python3.11/dist-packages/sklearn/metrics/_classification.py:1565: UndefinedMetricWarning:\n",
            "\n",
            "Precision is ill-defined and being set to 0.0 in labels with no predicted samples. Use `zero_division` parameter to control this behavior.\n",
            "\n",
            "/usr/local/lib/python3.11/dist-packages/sklearn/metrics/_classification.py:1565: UndefinedMetricWarning:\n",
            "\n",
            "Precision is ill-defined and being set to 0.0 in labels with no predicted samples. Use `zero_division` parameter to control this behavior.\n",
            "\n"
          ]
        }
      ],
      "source": [
        "import pandas as pd\n",
        "from sklearn.model_selection import train_test_split\n",
        "from sklearn.linear_model import LogisticRegression\n",
        "from sklearn.metrics import classification_report, accuracy_score\n",
        "\n",
        "# Assuming `data` is already loaded and includes 'Attrition_Yes'\n",
        "\n",
        "# 1. One-hot encode other categorical columns (won't affect 'Attrition_Yes')\n",
        "data = pd.get_dummies(data, drop_first=True)\n",
        "\n",
        "# 2. Separate features and target\n",
        "X = data.drop('Attrition_Yes', axis=1)\n",
        "y = data['Attrition_Yes']\n",
        "\n",
        "# 3. Split into training and test sets\n",
        "X_train, X_test, y_train, y_test = train_test_split(\n",
        "    X, y, test_size=0.2, random_state=42, stratify=y\n",
        ")\n",
        "\n",
        "# 4. Train Logistic Regression\n",
        "model = LogisticRegression(max_iter=1000)\n",
        "print(\"Training Logistic Regression...\")\n",
        "model.fit(X_train, y_train)\n",
        "\n",
        "# 5. Evaluate the model\n",
        "y_pred = model.predict(X_test)\n",
        "print(\"\\nClassification Report:\")\n",
        "print(classification_report(y_test, y_pred))\n",
        "print(\"Accuracy:\", accuracy_score(y_test, y_pred))\n"
      ]
    },
    {
      "cell_type": "code",
      "execution_count": null,
      "metadata": {
        "id": "Wnt2bAJwU_mI"
      },
      "outputs": [],
      "source": [
        "# Convert boolean columns to integers (1 for True, 0 for False)\n",
        "X = X.apply(lambda x: x.astype(int) if x.dtype == 'bool' else x)\n",
        "\n",
        "# Now, apply SMOTE for balancing\n",
        "smote = SMOTE(random_state=42)\n",
        "X_train_resampled, y_train_resampled = smote.fit_resample(X_train, y_train)\n",
        "\n",
        "# Proceed with model fitting...\n"
      ]
    },
    {
      "cell_type": "code",
      "execution_count": null,
      "metadata": {
        "id": "7EglIENXc0DX"
      },
      "outputs": [],
      "source": []
    },
    {
      "cell_type": "code",
      "execution_count": null,
      "metadata": {
        "id": "5Ds2zE0IVCv8"
      },
      "outputs": [],
      "source": [
        "# 1. Re-load or reset the dataset if needed\n",
        "# data = pd.read_csv(\"your_file.csv\")\n",
        "\n",
        "# 2. Convert 'Attrition' to binary if not done\n",
        "if 'Attrition' in data.columns:\n",
        "    data['Attrition'] = data['Attrition'].map({'Yes': 1, 'No': 0})\n",
        "\n",
        "# 3. Identify categorical columns automatically\n",
        "categorical_columns = data.select_dtypes(include='object').columns.tolist()\n",
        "\n",
        "# 4. Encode categorical columns\n",
        "data_encoded = pd.get_dummies(data, columns=categorical_columns, drop_first=True)\n",
        "\n",
        "# 5. Separate features and target\n",
        "target_column = 'Attrition_Yes' if 'Attrition_Yes' in data_encoded.columns else 'Attrition'\n",
        "X = data_encoded.drop(target_column, axis=1)\n",
        "y = data_encoded[target_column]\n"
      ]
    },
    {
      "cell_type": "code",
      "execution_count": null,
      "metadata": {
        "id": "84Gu20ZUc4LO"
      },
      "outputs": [],
      "source": []
    },
    {
      "cell_type": "code",
      "execution_count": null,
      "metadata": {
        "id": "DeEhezfbVKRe",
        "colab": {
          "base_uri": "https://localhost:8080/"
        },
        "outputId": "0db0ad82-edb6-4eb7-f48a-05bfa5cbe14c"
      },
      "outputs": [
        {
          "output_type": "stream",
          "name": "stdout",
          "text": [
            "\n",
            "Training Logistic Regression...\n"
          ]
        },
        {
          "output_type": "stream",
          "name": "stderr",
          "text": [
            "/usr/local/lib/python3.11/dist-packages/sklearn/linear_model/_logistic.py:465: ConvergenceWarning:\n",
            "\n",
            "lbfgs failed to converge (status=1):\n",
            "STOP: TOTAL NO. OF ITERATIONS REACHED LIMIT.\n",
            "\n",
            "Increase the number of iterations (max_iter) or scale the data as shown in:\n",
            "    https://scikit-learn.org/stable/modules/preprocessing.html\n",
            "Please also refer to the documentation for alternative solver options:\n",
            "    https://scikit-learn.org/stable/modules/linear_model.html#logistic-regression\n",
            "\n",
            "/usr/local/lib/python3.11/dist-packages/sklearn/metrics/_classification.py:1565: UndefinedMetricWarning:\n",
            "\n",
            "Precision is ill-defined and being set to 0.0 in labels with no predicted samples. Use `zero_division` parameter to control this behavior.\n",
            "\n",
            "/usr/local/lib/python3.11/dist-packages/sklearn/metrics/_classification.py:1565: UndefinedMetricWarning:\n",
            "\n",
            "Precision is ill-defined and being set to 0.0 in labels with no predicted samples. Use `zero_division` parameter to control this behavior.\n",
            "\n",
            "/usr/local/lib/python3.11/dist-packages/sklearn/metrics/_classification.py:1565: UndefinedMetricWarning:\n",
            "\n",
            "Precision is ill-defined and being set to 0.0 in labels with no predicted samples. Use `zero_division` parameter to control this behavior.\n",
            "\n"
          ]
        },
        {
          "output_type": "stream",
          "name": "stdout",
          "text": [
            "\n",
            "Logistic Regression Classification Report:\n",
            "              precision    recall  f1-score   support\n",
            "\n",
            "       False       0.81      1.00      0.90       162\n",
            "        True       0.00      0.00      0.00        38\n",
            "\n",
            "    accuracy                           0.81       200\n",
            "   macro avg       0.41      0.50      0.45       200\n",
            "weighted avg       0.66      0.81      0.72       200\n",
            "\n",
            "Accuracy: 0.81\n",
            "\n",
            "Training Random Forest...\n",
            "\n",
            "Random Forest Classification Report:\n",
            "              precision    recall  f1-score   support\n",
            "\n",
            "       False       0.81      1.00      0.90       162\n",
            "        True       0.00      0.00      0.00        38\n",
            "\n",
            "    accuracy                           0.81       200\n",
            "   macro avg       0.41      0.50      0.45       200\n",
            "weighted avg       0.66      0.81      0.72       200\n",
            "\n",
            "Accuracy: 0.81\n",
            "\n",
            "Training Gradient Boosting...\n"
          ]
        },
        {
          "output_type": "stream",
          "name": "stderr",
          "text": [
            "/usr/local/lib/python3.11/dist-packages/sklearn/metrics/_classification.py:1565: UndefinedMetricWarning:\n",
            "\n",
            "Precision is ill-defined and being set to 0.0 in labels with no predicted samples. Use `zero_division` parameter to control this behavior.\n",
            "\n",
            "/usr/local/lib/python3.11/dist-packages/sklearn/metrics/_classification.py:1565: UndefinedMetricWarning:\n",
            "\n",
            "Precision is ill-defined and being set to 0.0 in labels with no predicted samples. Use `zero_division` parameter to control this behavior.\n",
            "\n",
            "/usr/local/lib/python3.11/dist-packages/sklearn/metrics/_classification.py:1565: UndefinedMetricWarning:\n",
            "\n",
            "Precision is ill-defined and being set to 0.0 in labels with no predicted samples. Use `zero_division` parameter to control this behavior.\n",
            "\n"
          ]
        },
        {
          "output_type": "stream",
          "name": "stdout",
          "text": [
            "\n",
            "Gradient Boosting Classification Report:\n",
            "              precision    recall  f1-score   support\n",
            "\n",
            "       False       0.81      0.98      0.89       162\n",
            "        True       0.25      0.03      0.05        38\n",
            "\n",
            "    accuracy                           0.80       200\n",
            "   macro avg       0.53      0.50      0.47       200\n",
            "weighted avg       0.70      0.80      0.73       200\n",
            "\n",
            "Accuracy: 0.8\n",
            "\n",
            "Training XGBoost...\n",
            "\n",
            "XGBoost Classification Report:\n",
            "              precision    recall  f1-score   support\n",
            "\n",
            "       False       0.80      0.96      0.88       162\n",
            "        True       0.00      0.00      0.00        38\n",
            "\n",
            "    accuracy                           0.78       200\n",
            "   macro avg       0.40      0.48      0.44       200\n",
            "weighted avg       0.65      0.78      0.71       200\n",
            "\n",
            "Accuracy: 0.78\n"
          ]
        }
      ],
      "source": [
        "import pandas as pd\n",
        "from sklearn.linear_model import LogisticRegression\n",
        "from sklearn.ensemble import RandomForestClassifier, GradientBoostingClassifier\n",
        "from xgboost import XGBClassifier\n",
        "from sklearn.model_selection import train_test_split\n",
        "from sklearn.metrics import classification_report, accuracy_score\n",
        "\n",
        "# Initialize models\n",
        "log_reg_model = LogisticRegression(max_iter=1000)\n",
        "rf_model = RandomForestClassifier(random_state=42)\n",
        "gb_model = GradientBoostingClassifier(random_state=42)\n",
        "xgb_model = XGBClassifier(random_state=42)\n",
        "\n",
        "# Put them in a list for easy iteration\n",
        "models = [log_reg_model, rf_model, gb_model, xgb_model]\n",
        "model_names = ['Logistic Regression', 'Random Forest', 'Gradient Boosting', 'XGBoost']\n",
        "\n",
        "# Load data (Assuming data is already preprocessed and encoded)\n",
        "# data = pd.read_csv(\"your_file.csv\")\n",
        "\n",
        "# Separate features (X) and target (y)\n",
        "X = data.drop('Attrition_Yes', axis=1)  # or your target column\n",
        "y = data['Attrition_Yes']\n",
        "\n",
        "# Split into training and test sets\n",
        "X_train, X_test, y_train, y_test = train_test_split(X, y, test_size=0.2, random_state=42, stratify=y)\n",
        "\n",
        "# Train and evaluate each model\n",
        "for model_name, model in zip(model_names, models):\n",
        "    print(f\"\\nTraining {model_name}...\")\n",
        "    model.fit(X_train, y_train)  # Train the model\n",
        "\n",
        "    # Make predictions\n",
        "    y_pred = model.predict(X_test)\n",
        "\n",
        "    # Evaluate model\n",
        "    print(f\"\\n{model_name} Classification Report:\")\n",
        "    print(classification_report(y_test, y_pred))\n",
        "    print(\"Accuracy:\", accuracy_score(y_test, y_pred))\n"
      ]
    },
    {
      "cell_type": "code",
      "execution_count": null,
      "metadata": {
        "id": "7AIxA7UreDif"
      },
      "outputs": [],
      "source": []
    },
    {
      "cell_type": "code",
      "execution_count": null,
      "metadata": {
        "id": "mTvbnOo4eIvD",
        "colab": {
          "base_uri": "https://localhost:8080/"
        },
        "outputId": "debe7833-aefb-4bda-f32e-4d1f9d261ad6"
      },
      "outputs": [
        {
          "output_type": "stream",
          "name": "stdout",
          "text": [
            "                 Model  Accuracy  Precision    Recall  F1-Score   ROC-AUC\n",
            "0  Logistic Regression      0.64   0.145833  0.184211  0.162791  0.406595\n",
            "1        Random Forest      0.75   0.166667  0.078947  0.107143  0.439571\n",
            "2              XGBoost      0.64   0.145833  0.184211  0.162791  0.457440\n"
          ]
        },
        {
          "output_type": "stream",
          "name": "stderr",
          "text": [
            "/usr/local/lib/python3.11/dist-packages/xgboost/core.py:158: UserWarning:\n",
            "\n",
            "[14:30:55] WARNING: /workspace/src/learner.cc:740: \n",
            "Parameters: { \"use_label_encoder\" } are not used.\n",
            "\n",
            "\n"
          ]
        }
      ],
      "source": [
        "import pandas as pd\n",
        "from sklearn.linear_model import LogisticRegression\n",
        "from sklearn.ensemble import RandomForestClassifier\n",
        "from xgboost import XGBClassifier\n",
        "from sklearn.model_selection import GridSearchCV\n",
        "from sklearn.preprocessing import StandardScaler\n",
        "from sklearn.metrics import accuracy_score, precision_score, recall_score, f1_score, roc_auc_score\n",
        "from sklearn.pipeline import Pipeline\n",
        "\n",
        "# 1. Standardize features to help Logistic Regression converge\n",
        "scaler = StandardScaler()\n",
        "X_train_scaled = scaler.fit_transform(X_train_resampled)\n",
        "X_test_scaled = scaler.transform(X_test)\n",
        "\n",
        "# 2. Train and tune models\n",
        "# Logistic Regression\n",
        "log_reg = LogisticRegression(max_iter=1000)\n",
        "log_reg.fit(X_train_scaled, y_train_resampled)\n",
        "\n",
        "# Random Forest with GridSearchCV\n",
        "rf_param_grid = {\n",
        "    'n_estimators': [100],\n",
        "    'max_depth': [10],\n",
        "    'min_samples_split': [2],\n",
        "    'min_samples_leaf': [1]\n",
        "}\n",
        "rf_grid = GridSearchCV(RandomForestClassifier(random_state=42), rf_param_grid, cv=3, n_jobs=-1)\n",
        "rf_grid.fit(X_train_resampled, y_train_resampled)\n",
        "best_rf = rf_grid.best_estimator_\n",
        "\n",
        "# XGBoost with GridSearchCV\n",
        "xgb_param_grid = {\n",
        "    'learning_rate': [0.01],\n",
        "    'n_estimators': [100],\n",
        "    'max_depth': [3]\n",
        "}\n",
        "xgb_grid = GridSearchCV(XGBClassifier(eval_metric='logloss', use_label_encoder=False), xgb_param_grid, cv=3, n_jobs=-1)\n",
        "xgb_grid.fit(X_train_resampled, y_train_resampled)\n",
        "best_xgb = xgb_grid.best_estimator_\n",
        "\n",
        "# 3. Store models in dictionary\n",
        "models = {\n",
        "    'Logistic Regression': log_reg,\n",
        "    'Random Forest': best_rf,\n",
        "    'XGBoost': best_xgb\n",
        "}\n",
        "\n",
        "# 4. Evaluate models and compare\n",
        "results = []\n",
        "\n",
        "for model_name, model in models.items():\n",
        "    if model_name == 'Logistic Regression':\n",
        "        y_pred = model.predict(X_test_scaled)\n",
        "        y_proba = model.predict_proba(X_test_scaled)[:, 1]\n",
        "    else:\n",
        "        y_pred = model.predict(X_test)\n",
        "        y_proba = model.predict_proba(X_test)[:, 1]\n",
        "\n",
        "    acc = accuracy_score(y_test, y_pred)\n",
        "    prec = precision_score(y_test, y_pred, zero_division=0)\n",
        "    rec = recall_score(y_test, y_pred)\n",
        "    f1 = f1_score(y_test, y_pred)\n",
        "    roc = roc_auc_score(y_test, y_proba)\n",
        "\n",
        "    results.append({\n",
        "        'Model': model_name,\n",
        "        'Accuracy': acc,\n",
        "        'Precision': prec,\n",
        "        'Recall': rec,\n",
        "        'F1-Score': f1,\n",
        "        'ROC-AUC': roc\n",
        "    })\n",
        "\n",
        "model_comparison = pd.DataFrame(results)\n",
        "\n",
        "# 5. Show results\n",
        "print(model_comparison)\n"
      ]
    },
    {
      "cell_type": "code",
      "execution_count": null,
      "metadata": {
        "id": "OFf74pZEmaqq",
        "colab": {
          "base_uri": "https://localhost:8080/"
        },
        "outputId": "ca3c6404-0199-424e-84fd-edf2aba5172b"
      },
      "outputs": [
        {
          "output_type": "execute_result",
          "data": {
            "text/plain": [
              "['final_employee_attrition_model.pkl']"
            ]
          },
          "metadata": {},
          "execution_count": 51
        }
      ],
      "source": [
        "# Assume the best model is Random Forest after comparison\n",
        "best_model = rf_grid.best_estimator_  # or use the best model you found\n",
        "\n",
        "# Train the final model with the entire training data (resampled)\n",
        "best_model.fit(X_train_resampled, y_train_resampled)\n",
        "\n",
        "# Save the model for deployment\n",
        "import joblib\n",
        "joblib.dump(best_model, 'final_employee_attrition_model.pkl')\n"
      ]
    },
    {
      "cell_type": "code",
      "execution_count": null,
      "metadata": {
        "id": "DV2ZThbRm2Bk",
        "colab": {
          "base_uri": "https://localhost:8080/",
          "height": 1000
        },
        "outputId": "77381017-6189-4611-dce9-d9aae223e58d"
      },
      "outputs": [
        {
          "output_type": "stream",
          "name": "stdout",
          "text": [
            "\n",
            "=== Logistic Regression ===\n",
            "Classification Report:\n",
            "              precision    recall  f1-score   support\n",
            "\n",
            "       False       0.80      0.75      0.77       162\n",
            "        True       0.15      0.18      0.16        38\n",
            "\n",
            "    accuracy                           0.64       200\n",
            "   macro avg       0.47      0.47      0.47       200\n",
            "weighted avg       0.67      0.64      0.66       200\n",
            "\n"
          ]
        },
        {
          "output_type": "display_data",
          "data": {
            "text/plain": [
              "<Figure size 1200x600 with 2 Axes>"
            ],
            "image/png": "[encoded data removed]"
          },
          "metadata": {}
        },
        {
          "output_type": "stream",
          "name": "stdout",
          "text": [
            "\n",
            "=== Random Forest ===\n",
            "Classification Report:\n",
            "              precision    recall  f1-score   support\n",
            "\n",
            "       False       0.81      0.91      0.85       162\n",
            "        True       0.17      0.08      0.11        38\n",
            "\n",
            "    accuracy                           0.75       200\n",
            "   macro avg       0.49      0.49      0.48       200\n",
            "weighted avg       0.69      0.75      0.71       200\n",
            "\n"
          ]
        },
        {
          "output_type": "display_data",
          "data": {
            "text/plain": [
              "<Figure size 1200x600 with 2 Axes>"
            ],
            "image/png": "[encoded data removed]"
          },
          "metadata": {}
        },
        {
          "output_type": "stream",
          "name": "stdout",
          "text": [
            "\n",
            "=== XGBoost ===\n",
            "Classification Report:\n",
            "              precision    recall  f1-score   support\n",
            "\n",
            "       False       0.80      0.75      0.77       162\n",
            "        True       0.15      0.18      0.16        38\n",
            "\n",
            "    accuracy                           0.64       200\n",
            "   macro avg       0.47      0.47      0.47       200\n",
            "weighted avg       0.67      0.64      0.66       200\n",
            "\n"
          ]
        },
        {
          "output_type": "display_data",
          "data": {
            "text/plain": [
              "<Figure size 1200x600 with 2 Axes>"
            ],
            "image/png": "[encoded data removed]"
          },
          "metadata": {}
        }
      ],
      "source": [
        "from sklearn.metrics import classification_report, confusion_matrix, ConfusionMatrixDisplay\n",
        "import matplotlib.pyplot as plt\n",
        "\n",
        "for model_name, model in models.items():\n",
        "    print(f\"\\n=== {model_name} ===\")\n",
        "\n",
        "    # Use scaled data only for logistic regression\n",
        "    if model_name == \"Logistic Regression\":\n",
        "        y_pred = model.predict(X_test_scaled)\n",
        "    else:\n",
        "        y_pred = model.predict(X_test)\n",
        "\n",
        "    # Text report\n",
        "    print(\"Classification Report:\")\n",
        "    print(classification_report(y_test, y_pred))\n",
        "\n",
        "    # Confusion Matrix\n",
        "    cm = confusion_matrix(y_test, y_pred)\n",
        "    disp = ConfusionMatrixDisplay(confusion_matrix=cm)\n",
        "    disp.plot(cmap='Blues')\n",
        "    plt.title(f'Confusion Matrix: {model_name}')\n",
        "    plt.show()\n"
      ]
    },
    {
      "cell_type": "code",
      "execution_count": null,
      "metadata": {
        "id": "iGiUudy5nIMO"
      },
      "outputs": [],
      "source": [
        "import joblib\n",
        "\n",
        "# Load the model\n",
        "model = joblib.load('final_employee_attrition_model.pkl')\n",
        "\n",
        "# Use the model to make predictions\n",
        "y_pred = model.predict(X_test)\n"
      ]
    },
    {
      "cell_type": "code",
      "source": [
        "import matplotlib.pyplot as plt\n",
        "import seaborn as sns\n",
        "\n",
        "# Example with Random Forest\n",
        "importances = models['Random Forest'].feature_importances_\n",
        "features = X.columns\n",
        "\n",
        "feature_df = pd.DataFrame({'Feature': features, 'Importance': importances})\n",
        "feature_df = feature_df.sort_values('Importance', ascending=False).head(10)\n",
        "\n",
        "plt.figure(figsize=(10,6))\n",
        "sns.barplot(data=feature_df, x='Importance', y='Feature')\n",
        "plt.title(\"Top 10 Feature Importances - Random Forest\")\n",
        "plt.show()\n"
      ],
      "metadata": {
        "colab": {
          "base_uri": "https://localhost:8080/",
          "height": 573
        },
        "id": "8ihxECez3yHI",
        "outputId": "a375b7ab-d533-4489-8724-b35375c71737"
      },
      "execution_count": null,
      "outputs": [
        {
          "output_type": "display_data",
          "data": {
            "text/plain": [
              "<Figure size 1000x600 with 1 Axes>"
            ],
            "image/png": "[encoded data removed]"
          },
          "metadata": {}
        }
      ]
    },
    {
      "cell_type": "code",
      "source": [
        "from sklearn.metrics import accuracy_score\n",
        "\n",
        "results = []\n",
        "for name, model in models.items():\n",
        "    y_pred = model.predict(X_test)\n",
        "    accuracy = accuracy_score(y_test, y_pred)\n",
        "    roc = roc_auc_score(y_test, model.predict_proba(X_test)[:, 1])\n",
        "    results.append((name, accuracy, roc))\n",
        "\n",
        "pd.DataFrame(results, columns=[\"Model\", \"Accuracy\", \"ROC-AUC\"]).sort_values(\"ROC-AUC\", ascending=False)\n"
      ],
      "metadata": {
        "colab": {
          "base_uri": "https://localhost:8080/",
          "height": 282
        },
        "id": "kxqlQU7d33n5",
        "outputId": "cb79f593-e35d-43d9-e3e5-b8b3b647ab62"
      },
      "execution_count": null,
      "outputs": [
        {
          "output_type": "stream",
          "name": "stderr",
          "text": [
            "/usr/local/lib/python3.11/dist-packages/sklearn/utils/validation.py:2732: UserWarning:\n",
            "\n",
            "X has feature names, but LogisticRegression was fitted without feature names\n",
            "\n",
            "/usr/local/lib/python3.11/dist-packages/sklearn/utils/validation.py:2732: UserWarning:\n",
            "\n",
            "X has feature names, but LogisticRegression was fitted without feature names\n",
            "\n"
          ]
        },
        {
          "output_type": "execute_result",
          "data": {
            "text/plain": [
              "                 Model  Accuracy   ROC-AUC\n",
              "1        Random Forest      0.94  0.938998\n",
              "2              XGBoost      0.74  0.673508\n",
              "0  Logistic Regression      0.85  0.560087"
            ],
            "text/html": [
              "\n",
              "  <div id=\"df-af7ff7e4-245b-419b-abd0-ac276f114f98\" class=\"colab-df-container\">\n",
              "    <div>\n",
              "<style scoped>\n",
              "    .dataframe tbody tr th:only-of-type {\n",
              "        vertical-align: middle;\n",
              "    }\n",
              "\n",
              "    .dataframe tbody tr th {\n",
              "        vertical-align: top;\n",
              "    }\n",
              "\n",
              "    .dataframe thead th {\n",
              "        text-align: right;\n",
              "    }\n",
              "</style>\n",
              "<table border=\"1\" class=\"dataframe\">\n",
              "  <thead>\n",
              "    <tr style=\"text-align: right;\">\n",
              "      <th></th>\n",
              "      <th>Model</th>\n",
              "      <th>Accuracy</th>\n",
              "      <th>ROC-AUC</th>\n",
              "    </tr>\n",
              "  </thead>\n",
              "  <tbody>\n",
              "    <tr>\n",
              "      <th>1</th>\n",
              "      <td>Random Forest</td>\n",
              "      <td>0.94</td>\n",
              "      <td>0.938998</td>\n",
              "    </tr>\n",
              "    <tr>\n",
              "      <th>2</th>\n",
              "      <td>XGBoost</td>\n",
              "      <td>0.74</td>\n",
              "      <td>0.673508</td>\n",
              "    </tr>\n",
              "    <tr>\n",
              "      <th>0</th>\n",
              "      <td>Logistic Regression</td>\n",
              "      <td>0.85</td>\n",
              "      <td>0.560087</td>\n",
              "    </tr>\n",
              "  </tbody>\n",
              "</table>\n",
              "</div>\n",
              "    <div class=\"colab-df-buttons\">\n",
              "\n",
              "  <div class=\"colab-df-container\">\n",
              "    <button class=\"colab-df-convert\" onclick=\"convertToInteractive('df-af7ff7e4-245b-419b-abd0-ac276f114f98')\"\n",
              "            title=\"Convert this dataframe to an interactive table.\"\n",
              "            style=\"display:none;\">\n",
              "\n",
              "  <svg xmlns=\"http://www.w3.org/2000/svg\" height=\"24px\" viewBox=\"0 -960 960 960\">\n",
              "    <path d=\"M120-120v-720h720v720H120Zm60-500h600v-160H180v160Zm220 220h160v-160H400v160Zm0 220h160v-160H400v160ZM180-400h160v-160H180v160Zm440 0h160v-160H620v160ZM180-180h160v-160H180v160Zm440 0h160v-160H620v160Z\"/>\n",
              "  </svg>\n",
              "    </button>\n",
              "\n",
              "  <style>\n",
              "    .colab-df-container {\n",
              "      display:flex;\n",
              "      gap: 12px;\n",
              "    }\n",
              "\n",
              "    .colab-df-convert {\n",
              "      background-color: #E8F0FE;\n",
              "      border: none;\n",
              "      border-radius: 50%;\n",
              "      cursor: pointer;\n",
              "      display: none;\n",
              "      fill: #1967D2;\n",
              "      height: 32px;\n",
              "      padding: 0 0 0 0;\n",
              "      width: 32px;\n",
              "    }\n",
              "\n",
              "    .colab-df-convert:hover {\n",
              "      background-color: #E2EBFA;\n",
              "      box-shadow: 0px 1px 2px rgba(60, 64, 67, 0.3), 0px 1px 3px 1px rgba(60, 64, 67, 0.15);\n",
              "      fill: #174EA6;\n",
              "    }\n",
              "\n",
              "    .colab-df-buttons div {\n",
              "      margin-bottom: 4px;\n",
              "    }\n",
              "\n",
              "    [theme=dark] .colab-df-convert {\n",
              "      background-color: #3B4455;\n",
              "      fill: #D2E3FC;\n",
              "    }\n",
              "\n",
              "    [theme=dark] .colab-df-convert:hover {\n",
              "      background-color: #434B5C;\n",
              "      box-shadow: 0px 1px 3px 1px rgba(0, 0, 0, 0.15);\n",
              "      filter: drop-shadow(0px 1px 2px rgba(0, 0, 0, 0.3));\n",
              "      fill: #FFFFFF;\n",
              "    }\n",
              "  </style>\n",
              "\n",
              "    <script>\n",
              "      const buttonEl =\n",
              "        document.querySelector('#df-af7ff7e4-245b-419b-abd0-ac276f114f98 button.colab-df-convert');\n",
              "      buttonEl.style.display =\n",
              "        google.colab.kernel.accessAllowed ? 'block' : 'none';\n",
              "\n",
              "      async function convertToInteractive(key) {\n",
              "        const element = document.querySelector('#df-af7ff7e4-245b-419b-abd0-ac276f114f98');\n",
              "        const dataTable =\n",
              "          await google.colab.kernel.invokeFunction('convertToInteractive',\n",
              "                                                    [key], {});\n",
              "        if (!dataTable) return;\n",
              "\n",
              "        const docLinkHtml = 'Like what you see? Visit the ' +\n",
              "          '<a target=\"_blank\" href=https://colab.research.google.com/notebooks/data_table.ipynb>data table notebook</a>'\n",
              "          + ' to learn more about interactive tables.';\n",
              "        element.innerHTML = '';\n",
              "        dataTable['output_type'] = 'display_data';\n",
              "        await google.colab.output.renderOutput(dataTable, element);\n",
              "        const docLink = document.createElement('div');\n",
              "        docLink.innerHTML = docLinkHtml;\n",
              "        element.appendChild(docLink);\n",
              "      }\n",
              "    </script>\n",
              "  </div>\n",
              "\n",
              "\n",
              "    <div id=\"df-c1804b8c-0cb0-48a8-a34d-899de1643755\">\n",
              "      <button class=\"colab-df-quickchart\" onclick=\"quickchart('df-c1804b8c-0cb0-48a8-a34d-899de1643755')\"\n",
              "                title=\"Suggest charts\"\n",
              "                style=\"display:none;\">\n",
              "\n",
              "<svg xmlns=\"http://www.w3.org/2000/svg\" height=\"24px\"viewBox=\"0 0 24 24\"\n",
              "     width=\"24px\">\n",
              "    <g>\n",
              "        <path d=\"M19 3H5c-1.1 0-2 .9-2 2v14c0 1.1.9 2 2 2h14c1.1 0 2-.9 2-2V5c0-1.1-.9-2-2-2zM9 17H7v-7h2v7zm4 0h-2V7h2v10zm4 0h-2v-4h2v4z\"/>\n",
              "    </g>\n",
              "</svg>\n",
              "      </button>\n",
              "\n",
              "<style>\n",
              "  .colab-df-quickchart {\n",
              "      --bg-color: #E8F0FE;\n",
              "      --fill-color: #1967D2;\n",
              "      --hover-bg-color: #E2EBFA;\n",
              "      --hover-fill-color: #174EA6;\n",
              "      --disabled-fill-color: #AAA;\n",
              "      --disabled-bg-color: #DDD;\n",
              "  }\n",
              "\n",
              "  [theme=dark] .colab-df-quickchart {\n",
              "      --bg-color: #3B4455;\n",
              "      --fill-color: #D2E3FC;\n",
              "      --hover-bg-color: #434B5C;\n",
              "      --hover-fill-color: #FFFFFF;\n",
              "      --disabled-bg-color: #3B4455;\n",
              "      --disabled-fill-color: #666;\n",
              "  }\n",
              "\n",
              "  .colab-df-quickchart {\n",
              "    background-color: var(--bg-color);\n",
              "    border: none;\n",
              "    border-radius: 50%;\n",
              "    cursor: pointer;\n",
              "    display: none;\n",
              "    fill: var(--fill-color);\n",
              "    height: 32px;\n",
              "    padding: 0;\n",
              "    width: 32px;\n",
              "  }\n",
              "\n",
              "  .colab-df-quickchart:hover {\n",
              "    background-color: var(--hover-bg-color);\n",
              "    box-shadow: 0 1px 2px rgba(60, 64, 67, 0.3), 0 1px 3px 1px rgba(60, 64, 67, 0.15);\n",
              "    fill: var(--button-hover-fill-color);\n",
              "  }\n",
              "\n",
              "  .colab-df-quickchart-complete:disabled,\n",
              "  .colab-df-quickchart-complete:disabled:hover {\n",
              "    background-color: var(--disabled-bg-color);\n",
              "    fill: var(--disabled-fill-color);\n",
              "    box-shadow: none;\n",
              "  }\n",
              "\n",
              "  .colab-df-spinner {\n",
              "    border: 2px solid var(--fill-color);\n",
              "    border-color: transparent;\n",
              "    border-bottom-color: var(--fill-color);\n",
              "    animation:\n",
              "      spin 1s steps(1) infinite;\n",
              "  }\n",
              "\n",
              "  @keyframes spin {\n",
              "    0% {\n",
              "      border-color: transparent;\n",
              "      border-bottom-color: var(--fill-color);\n",
              "      border-left-color: var(--fill-color);\n",
              "    }\n",
              "    20% {\n",
              "      border-color: transparent;\n",
              "      border-left-color: var(--fill-color);\n",
              "      border-top-color: var(--fill-color);\n",
              "    }\n",
              "    30% {\n",
              "      border-color: transparent;\n",
              "      border-left-color: var(--fill-color);\n",
              "      border-top-color: var(--fill-color);\n",
              "      border-right-color: var(--fill-color);\n",
              "    }\n",
              "    40% {\n",
              "      border-color: transparent;\n",
              "      border-right-color: var(--fill-color);\n",
              "      border-top-color: var(--fill-color);\n",
              "    }\n",
              "    60% {\n",
              "      border-color: transparent;\n",
              "      border-right-color: var(--fill-color);\n",
              "    }\n",
              "    80% {\n",
              "      border-color: transparent;\n",
              "      border-right-color: var(--fill-color);\n",
              "      border-bottom-color: var(--fill-color);\n",
              "    }\n",
              "    90% {\n",
              "      border-color: transparent;\n",
              "      border-bottom-color: var(--fill-color);\n",
              "    }\n",
              "  }\n",
              "</style>\n",
              "\n",
              "      <script>\n",
              "        async function quickchart(key) {\n",
              "          const quickchartButtonEl =\n",
              "            document.querySelector('#' + key + ' button');\n",
              "          quickchartButtonEl.disabled = true;  // To prevent multiple clicks.\n",
              "          quickchartButtonEl.classList.add('colab-df-spinner');\n",
              "          try {\n",
              "            const charts = await google.colab.kernel.invokeFunction(\n",
              "                'suggestCharts', [key], {});\n",
              "          } catch (error) {\n",
              "            console.error('Error during call to suggestCharts:', error);\n",
              "          }\n",
              "          quickchartButtonEl.classList.remove('colab-df-spinner');\n",
              "          quickchartButtonEl.classList.add('colab-df-quickchart-complete');\n",
              "        }\n",
              "        (() => {\n",
              "          let quickchartButtonEl =\n",
              "            document.querySelector('#df-c1804b8c-0cb0-48a8-a34d-899de1643755 button');\n",
              "          quickchartButtonEl.style.display =\n",
              "            google.colab.kernel.accessAllowed ? 'block' : 'none';\n",
              "        })();\n",
              "      </script>\n",
              "    </div>\n",
              "\n",
              "    </div>\n",
              "  </div>\n"
            ],
            "application/vnd.google.colaboratory.intrinsic+json": {
              "type": "dataframe",
              "summary": "{\n  \"name\": \"pd\",\n  \"rows\": 3,\n  \"fields\": [\n    {\n      \"column\": \"Model\",\n      \"properties\": {\n        \"dtype\": \"string\",\n        \"num_unique_values\": 3,\n        \"samples\": [\n          \"Random Forest\",\n          \"XGBoost\",\n          \"Logistic Regression\"\n        ],\n        \"semantic_type\": \"\",\n        \"description\": \"\"\n      }\n    },\n    {\n      \"column\": \"Accuracy\",\n      \"properties\": {\n        \"dtype\": \"number\",\n        \"std\": 0.10016652800877811,\n        \"min\": 0.74,\n        \"max\": 0.94,\n        \"num_unique_values\": 3,\n        \"samples\": [\n          0.94,\n          0.74,\n          0.85\n        ],\n        \"semantic_type\": \"\",\n        \"description\": \"\"\n      }\n    },\n    {\n      \"column\": \"ROC-AUC\",\n      \"properties\": {\n        \"dtype\": \"number\",\n        \"std\": 0.19447474097207487,\n        \"min\": 0.5600871459694988,\n        \"max\": 0.9389978213507626,\n        \"num_unique_values\": 3,\n        \"samples\": [\n          0.9389978213507626,\n          0.6735076252723311,\n          0.5600871459694988\n        ],\n        \"semantic_type\": \"\",\n        \"description\": \"\"\n      }\n    }\n  ]\n}"
            }
          },
          "metadata": {},
          "execution_count": 76
        }
      ]
    },
    {
      "cell_type": "code",
      "source": [
        "import pandas as pd\n",
        "from sklearn.datasets import load_iris\n",
        "from sklearn.model_selection import train_test_split\n",
        "from sklearn.ensemble import RandomForestClassifier\n",
        "import pickle\n",
        "import mlflow\n",
        "import mlflow.sklearn\n",
        "\n",
        "# Load dataset\n",
        "iris = load_iris()\n",
        "X = pd.DataFrame(iris.data, columns=iris.feature_names)\n",
        "y = iris.target\n",
        "\n",
        "# Train/test split\n",
        "X_train, X_test, y_train, y_test = train_test_split(X, y, test_size=0.2, random_state=42)\n",
        "\n",
        "# Train a model\n",
        "model = RandomForestClassifier(n_estimators=100, random_state=42)\n",
        "model.fit(X_train, y_train)\n",
        "\n",
        "# Evaluate the model\n",
        "accuracy = model.score(X_test, y_test)\n",
        "\n",
        "# Save the model to a file\n",
        "with open(\"model.pkl\", \"wb\") as f:\n",
        "    pickle.dump(model, f)\n",
        "\n",
        "# MLflow logging\n",
        "with mlflow.start_run():\n",
        "    mlflow.log_param(\"n_estimators\", 100)\n",
        "    mlflow.log_param(\"random_state\", 42)\n",
        "    mlflow.log_metric(\"accuracy\", accuracy)\n",
        "    mlflow.log_artifact(\"model.pkl\")  # Logs the saved model file\n"
      ],
      "metadata": {
        "id": "Pyi6mLUk38AK"
      },
      "execution_count": null,
      "outputs": []
    },
    {
      "cell_type": "code",
      "source": [
        "import mlflow\n",
        "\n",
        "# Get the most recent run\n",
        "latest_run = mlflow.search_runs(order_by=[\"start_time desc\"]).iloc[0]\n",
        "\n",
        "# Fetch parameters and metrics using mlflow\n",
        "run_id = latest_run['run_id']\n",
        "run = mlflow.get_run(run_id)\n",
        "\n",
        "# Access the parameters and metrics from the run object\n",
        "params = run.data.params\n",
        "metrics = run.data.metrics\n",
        "\n",
        "print(\"Parameters: \", params)\n",
        "print(\"Metrics: \", metrics)\n"
      ],
      "metadata": {
        "colab": {
          "base_uri": "https://localhost:8080/"
        },
        "id": "6o7t7EBo5LvE",
        "outputId": "93f9aaa2-b66e-45c5-f45b-ba2a0e583e57"
      },
      "execution_count": null,
      "outputs": [
        {
          "output_type": "stream",
          "name": "stdout",
          "text": [
            "Parameters:  {'n_estimators': '100', 'random_state': '42'}\n",
            "Metrics:  {'accuracy': 1.0}\n"
          ]
        }
      ]
    },
    {
      "cell_type": "code",
      "source": [
        "!pip install fastapi uvicorn joblib pydantic\n",
        "!pip install pyngrok  # For exposing the app through ngrok\n"
      ],
      "metadata": {
        "colab": {
          "base_uri": "https://localhost:8080/"
        },
        "id": "AE8ntRDV8OZS",
        "outputId": "c43fc438-5dca-4a64-cd89-7e0d93fc3f31"
      },
      "execution_count": null,
      "outputs": [
        {
          "output_type": "stream",
          "name": "stdout",
          "text": [
            "Requirement already satisfied: fastapi in /usr/local/lib/python3.11/dist-packages (0.115.12)\n",
            "Requirement already satisfied: uvicorn in /usr/local/lib/python3.11/dist-packages (0.34.2)\n",
            "Requirement already satisfied: joblib in /usr/local/lib/python3.11/dist-packages (1.4.2)\n",
            "Requirement already satisfied: pydantic in /usr/local/lib/python3.11/dist-packages (2.11.4)\n",
            "Requirement already satisfied: starlette<0.47.0,>=0.40.0 in /usr/local/lib/python3.11/dist-packages (from fastapi) (0.46.2)\n",
            "Requirement already satisfied: typing-extensions>=4.8.0 in /usr/local/lib/python3.11/dist-packages (from fastapi) (4.13.2)\n",
            "Requirement already satisfied: click>=7.0 in /usr/local/lib/python3.11/dist-packages (from uvicorn) (8.1.8)\n",
            "Requirement already satisfied: h11>=0.8 in /usr/local/lib/python3.11/dist-packages (from uvicorn) (0.16.0)\n",
            "Requirement already satisfied: annotated-types>=0.6.0 in /usr/local/lib/python3.11/dist-packages (from pydantic) (0.7.0)\n",
            "Requirement already satisfied: pydantic-core==2.33.2 in /usr/local/lib/python3.11/dist-packages (from pydantic) (2.33.2)\n",
            "Requirement already satisfied: typing-inspection>=0.4.0 in /usr/local/lib/python3.11/dist-packages (from pydantic) (0.4.0)\n",
            "Requirement already satisfied: anyio<5,>=3.6.2 in /usr/local/lib/python3.11/dist-packages (from starlette<0.47.0,>=0.40.0->fastapi) (4.9.0)\n",
            "Requirement already satisfied: idna>=2.8 in /usr/local/lib/python3.11/dist-packages (from anyio<5,>=3.6.2->starlette<0.47.0,>=0.40.0->fastapi) (3.10)\n",
            "Requirement already satisfied: sniffio>=1.1 in /usr/local/lib/python3.11/dist-packages (from anyio<5,>=3.6.2->starlette<0.47.0,>=0.40.0->fastapi) (1.3.1)\n",
            "Collecting pyngrok\n",
            "  Downloading pyngrok-7.2.8-py3-none-any.whl.metadata (10 kB)\n",
            "Requirement already satisfied: PyYAML>=5.1 in /usr/local/lib/python3.11/dist-packages (from pyngrok) (6.0.2)\n",
            "Downloading pyngrok-7.2.8-py3-none-any.whl (25 kB)\n",
            "Installing collected packages: pyngrok\n",
            "Successfully installed pyngrok-7.2.8\n"
          ]
        }
      ]
    },
    {
      "cell_type": "code",
      "source": [
        "from fastapi import FastAPI\n",
        "from pydantic import BaseModel\n",
        "import joblib\n",
        "\n",
        "# Initialize FastAPI\n",
        "app = FastAPI()\n",
        "\n",
        "# Load the trained model\n",
        "model = joblib.load(\"model.pkl\")\n",
        "\n",
        "# Define the input data model\n",
        "class EmployeeData(BaseModel):\n",
        "    age: int\n",
        "    job_level: int\n",
        "    monthly_income: float\n",
        "    years_at_company: int\n",
        "    overtime: int  # 1 for Yes, 0 for No\n",
        "\n",
        "# Define the prediction endpoint\n",
        "@app.post(\"/predict\")\n",
        "def predict(data: EmployeeData):\n",
        "    input_data = [[\n",
        "        data.age, data.job_level, data.monthly_income,\n",
        "        data.years_at_company, data.overtime\n",
        "    ]]\n",
        "    prediction = model.predict(input_data)\n",
        "    return {\"attrition_risk\": int(prediction[0])}\n"
      ],
      "metadata": {
        "id": "USRRVcRh8oYn"
      },
      "execution_count": null,
      "outputs": []
    },
    {
      "cell_type": "code",
      "source": [
        "!ngrok authtoken 2wuZFqSR932D3og9iyUe4Ir0stU_4YaLp5GhnUVKXjzEfyR3B\n"
      ],
      "metadata": {
        "colab": {
          "base_uri": "https://localhost:8080/"
        },
        "id": "trbaKWkn8uyM",
        "outputId": "c1d93179-834f-41a8-ec88-bd38c78a403d"
      },
      "execution_count": null,
      "outputs": [
        {
          "output_type": "stream",
          "name": "stdout",
          "text": [
            "Authtoken saved to configuration file: /root/.config/ngrok/ngrok.yml\n"
          ]
        }
      ]
    },
    {
      "cell_type": "code",
      "source": [
        "!pip install fastapi uvicorn pyngrok\n"
      ],
      "metadata": {
        "colab": {
          "base_uri": "https://localhost:8080/"
        },
        "id": "-iuNozUEBrKh",
        "outputId": "62470251-46c9-44ed-c82e-80205fee3d9c"
      },
      "execution_count": null,
      "outputs": [
        {
          "output_type": "stream",
          "name": "stdout",
          "text": [
            "Requirement already satisfied: fastapi in /usr/local/lib/python3.11/dist-packages (0.115.12)\n",
            "Requirement already satisfied: uvicorn in /usr/local/lib/python3.11/dist-packages (0.34.2)\n",
            "Requirement already satisfied: pyngrok in /usr/local/lib/python3.11/dist-packages (7.2.8)\n",
            "Requirement already satisfied: starlette<0.47.0,>=0.40.0 in /usr/local/lib/python3.11/dist-packages (from fastapi) (0.46.2)\n",
            "Requirement already satisfied: pydantic!=1.8,!=1.8.1,!=2.0.0,!=2.0.1,!=2.1.0,<3.0.0,>=1.7.4 in /usr/local/lib/python3.11/dist-packages (from fastapi) (2.11.4)\n",
            "Requirement already satisfied: typing-extensions>=4.8.0 in /usr/local/lib/python3.11/dist-packages (from fastapi) (4.13.2)\n",
            "Requirement already satisfied: click>=7.0 in /usr/local/lib/python3.11/dist-packages (from uvicorn) (8.1.8)\n",
            "Requirement already satisfied: h11>=0.8 in /usr/local/lib/python3.11/dist-packages (from uvicorn) (0.16.0)\n",
            "Requirement already satisfied: PyYAML>=5.1 in /usr/local/lib/python3.11/dist-packages (from pyngrok) (6.0.2)\n",
            "Requirement already satisfied: annotated-types>=0.6.0 in /usr/local/lib/python3.11/dist-packages (from pydantic!=1.8,!=1.8.1,!=2.0.0,!=2.0.1,!=2.1.0,<3.0.0,>=1.7.4->fastapi) (0.7.0)\n",
            "Requirement already satisfied: pydantic-core==2.33.2 in /usr/local/lib/python3.11/dist-packages (from pydantic!=1.8,!=1.8.1,!=2.0.0,!=2.0.1,!=2.1.0,<3.0.0,>=1.7.4->fastapi) (2.33.2)\n",
            "Requirement already satisfied: typing-inspection>=0.4.0 in /usr/local/lib/python3.11/dist-packages (from pydantic!=1.8,!=1.8.1,!=2.0.0,!=2.0.1,!=2.1.0,<3.0.0,>=1.7.4->fastapi) (0.4.0)\n",
            "Requirement already satisfied: anyio<5,>=3.6.2 in /usr/local/lib/python3.11/dist-packages (from starlette<0.47.0,>=0.40.0->fastapi) (4.9.0)\n",
            "Requirement already satisfied: idna>=2.8 in /usr/local/lib/python3.11/dist-packages (from anyio<5,>=3.6.2->starlette<0.47.0,>=0.40.0->fastapi) (3.10)\n",
            "Requirement already satisfied: sniffio>=1.1 in /usr/local/lib/python3.11/dist-packages (from anyio<5,>=3.6.2->starlette<0.47.0,>=0.40.0->fastapi) (1.3.1)\n"
          ]
        }
      ]
    },
    {
      "cell_type": "code",
      "source": [
        "from fastapi import FastAPI\n",
        "from pydantic import BaseModel\n",
        "import joblib\n",
        "\n",
        "# Initialize FastAPI app\n",
        "app = FastAPI()\n",
        "\n",
        "# Load the trained model (ensure model.pkl is available)\n",
        "model = joblib.load(\"model.pkl\")  # Make sure this file exists in your environment\n",
        "\n",
        "# Create a Pydantic model for the input data\n",
        "class EmployeeData(BaseModel):\n",
        "    age: int\n",
        "    job_level: int\n",
        "    monthly_income: float\n",
        "    years_at_company: int\n",
        "    overtime: int  # 1 for Yes, 0 for No\n",
        "\n",
        "# Define the prediction endpoint\n",
        "@app.post(\"/predict\")\n",
        "def predict(data: EmployeeData):\n",
        "    input_data = [[\n",
        "        data.age, data.job_level, data.monthly_income,\n",
        "        data.years_at_company, data.overtime\n",
        "    ]]\n",
        "    prediction = model.predict(input_data)\n",
        "    return {\"attrition_risk\": int(prediction[0])}\n"
      ],
      "metadata": {
        "id": "Ke8gifNLBu9V"
      },
      "execution_count": null,
      "outputs": []
    },
    {
      "cell_type": "code",
      "source": [
        "# Save the app code as a Python file (app.py)\n",
        "with open(\"app.py\", \"w\") as f:\n",
        "    f.write(\"\"\"\n",
        "from fastapi import FastAPI\n",
        "from pydantic import BaseModel\n",
        "import joblib\n",
        "\n",
        "app = FastAPI()\n",
        "model = joblib.load(\"model.pkl\")\n",
        "\n",
        "class EmployeeData(BaseModel):\n",
        "    age: int\n",
        "    job_level: int\n",
        "    monthly_income: float\n",
        "    years_at_company: int\n",
        "    overtime: int  # 1 for Yes, 0 for No\n",
        "\n",
        "@app.post(\"/predict\")\n",
        "def predict(data: EmployeeData):\n",
        "    input_data = [[\n",
        "        data.age, data.job_level, data.monthly_income,\n",
        "        data.years_at_company, data.overtime\n",
        "    ]]\n",
        "    prediction = model.predict(input_data)\n",
        "    return {\"attrition_risk\": int(prediction[0])}\n",
        "\"\"\")\n"
      ],
      "metadata": {
        "id": "rXN9lX90B8wG"
      },
      "execution_count": null,
      "outputs": []
    },
    {
      "cell_type": "code",
      "source": [],
      "metadata": {
        "id": "rH12npl5EuMh"
      },
      "execution_count": null,
      "outputs": []
    },
    {
      "cell_type": "code",
      "source": [
        "from pyngrok import ngrok\n",
        "\n",
        "# Create a public tunnel to the FastAPI app\n",
        "public_url = ngrok.connect(8000)\n",
        "print(f\"🚀 Your FastAPI app is live at: {public_url}\")\n"
      ],
      "metadata": {
        "colab": {
          "base_uri": "https://localhost:8080/"
        },
        "id": "2PSCIt5eCEVT",
        "outputId": "c0c31fcf-8403-4772-add3-4616a71ab140"
      },
      "execution_count": null,
      "outputs": [
        {
          "output_type": "stream",
          "name": "stdout",
          "text": [
            "🚀 Your FastAPI app is live at: NgrokTunnel: \"https://cdcc-34-73-74-194.ngrok-free.app\" -> \"http://localhost:8000\"\n"
          ]
        }
      ]
    },
    {
      "cell_type": "code",
      "source": [
        "!uvicorn app:app --host 0.0.0.0 --port 8000 &\n"
      ],
      "metadata": {
        "colab": {
          "base_uri": "https://localhost:8080/"
        },
        "id": "XTvQwOoXFKN4",
        "outputId": "8c4f7ed0-5445-4659-9689-92c4d8eb3991"
      },
      "execution_count": null,
      "outputs": [
        {
          "output_type": "stream",
          "name": "stdout",
          "text": [
            "\u001b[32mINFO\u001b[0m:     Started server process [\u001b[36m37621\u001b[0m]\n",
            "\u001b[32mINFO\u001b[0m:     Waiting for application startup.\n",
            "\u001b[32mINFO\u001b[0m:     Application startup complete.\n",
            "\u001b[32mINFO\u001b[0m:     Uvicorn running on \u001b[1mhttp://0.0.0.0:8000\u001b[0m (Press CTRL+C to quit)\n",
            "\u001b[32mINFO\u001b[0m:     Shutting down\n",
            "\u001b[32mINFO\u001b[0m:     Waiting for application shutdown.\n",
            "\u001b[32mINFO\u001b[0m:     Application shutdown complete.\n",
            "\u001b[32mINFO\u001b[0m:     Finished server process [\u001b[36m37621\u001b[0m]\n"
          ]
        }
      ]
    },
    {
      "cell_type": "code",
      "source": [
        "from pyngrok import ngrok\n",
        "public_url = ngrok.connect(8000)\n",
        "print(public_url)\n"
      ],
      "metadata": {
        "colab": {
          "base_uri": "https://localhost:8080/"
        },
        "id": "rj4WR7VWHftr",
        "outputId": "22eb679c-fc84-4f0b-cf5f-c4455dfaaeb4"
      },
      "execution_count": null,
      "outputs": [
        {
          "output_type": "stream",
          "name": "stdout",
          "text": [
            "NgrokTunnel: \"https://64bf-34-73-74-194.ngrok-free.app\" -> \"http://localhost:8000\"\n"
          ]
        }
      ]
    },
    {
      "cell_type": "code",
      "source": [
        "!pip install fastapi uvicorn nest-asyncio pyngrok\n"
      ],
      "metadata": {
        "colab": {
          "base_uri": "https://localhost:8080/"
        },
        "id": "a0UgIjfPHvb0",
        "outputId": "75b4c154-1d9d-4e58-842b-31e1150ff00f"
      },
      "execution_count": null,
      "outputs": [
        {
          "output_type": "stream",
          "name": "stdout",
          "text": [
            "Requirement already satisfied: fastapi in /usr/local/lib/python3.11/dist-packages (0.115.12)\n",
            "Requirement already satisfied: uvicorn in /usr/local/lib/python3.11/dist-packages (0.34.2)\n",
            "Requirement already satisfied: nest-asyncio in /usr/local/lib/python3.11/dist-packages (1.6.0)\n",
            "Requirement already satisfied: pyngrok in /usr/local/lib/python3.11/dist-packages (7.2.8)\n",
            "Requirement already satisfied: starlette<0.47.0,>=0.40.0 in /usr/local/lib/python3.11/dist-packages (from fastapi) (0.46.2)\n",
            "Requirement already satisfied: pydantic!=1.8,!=1.8.1,!=2.0.0,!=2.0.1,!=2.1.0,<3.0.0,>=1.7.4 in /usr/local/lib/python3.11/dist-packages (from fastapi) (2.11.4)\n",
            "Requirement already satisfied: typing-extensions>=4.8.0 in /usr/local/lib/python3.11/dist-packages (from fastapi) (4.13.2)\n",
            "Requirement already satisfied: click>=7.0 in /usr/local/lib/python3.11/dist-packages (from uvicorn) (8.1.8)\n",
            "Requirement already satisfied: h11>=0.8 in /usr/local/lib/python3.11/dist-packages (from uvicorn) (0.16.0)\n",
            "Requirement already satisfied: PyYAML>=5.1 in /usr/local/lib/python3.11/dist-packages (from pyngrok) (6.0.2)\n",
            "Requirement already satisfied: annotated-types>=0.6.0 in /usr/local/lib/python3.11/dist-packages (from pydantic!=1.8,!=1.8.1,!=2.0.0,!=2.0.1,!=2.1.0,<3.0.0,>=1.7.4->fastapi) (0.7.0)\n",
            "Requirement already satisfied: pydantic-core==2.33.2 in /usr/local/lib/python3.11/dist-packages (from pydantic!=1.8,!=1.8.1,!=2.0.0,!=2.0.1,!=2.1.0,<3.0.0,>=1.7.4->fastapi) (2.33.2)\n",
            "Requirement already satisfied: typing-inspection>=0.4.0 in /usr/local/lib/python3.11/dist-packages (from pydantic!=1.8,!=1.8.1,!=2.0.0,!=2.0.1,!=2.1.0,<3.0.0,>=1.7.4->fastapi) (0.4.0)\n",
            "Requirement already satisfied: anyio<5,>=3.6.2 in /usr/local/lib/python3.11/dist-packages (from starlette<0.47.0,>=0.40.0->fastapi) (4.9.0)\n",
            "Requirement already satisfied: idna>=2.8 in /usr/local/lib/python3.11/dist-packages (from anyio<5,>=3.6.2->starlette<0.47.0,>=0.40.0->fastapi) (3.10)\n",
            "Requirement already satisfied: sniffio>=1.1 in /usr/local/lib/python3.11/dist-packages (from anyio<5,>=3.6.2->starlette<0.47.0,>=0.40.0->fastapi) (1.3.1)\n"
          ]
        }
      ]
    },
    {
      "cell_type": "code",
      "source": [
        "from fastapi import FastAPI\n",
        "from pydantic import BaseModel\n",
        "import joblib\n",
        "\n",
        "app = FastAPI()\n",
        "model = joblib.load(\"model.pkl\")  # Make sure this file exists in the same directory\n",
        "\n",
        "class EmployeeData(BaseModel):\n",
        "    age: int\n",
        "    job_level: int\n",
        "    monthly_income: float\n",
        "    years_at_company: int\n",
        "    overtime: int\n",
        "\n",
        "@app.post(\"/predict\")\n",
        "def predict(data: EmployeeData):\n",
        "    input_data = [[\n",
        "        data.age, data.job_level, data.monthly_income,\n",
        "        data.years_at_company, data.overtime\n",
        "    ]]\n",
        "    prediction = model.predict(input_data)\n",
        "    return {\"attrition_risk\": int(prediction[0])}\n"
      ],
      "metadata": {
        "id": "u7CG_HliHyv7"
      },
      "execution_count": null,
      "outputs": []
    },
    {
      "cell_type": "code",
      "source": [
        "import pandas as pd\n",
        "from sklearn.ensemble import RandomForestClassifier\n",
        "import joblib\n",
        "\n",
        "# Example training data\n",
        "data = {\n",
        "    \"age\": [25, 45, 30, 50],\n",
        "    \"job_level\": [1, 3, 2, 4],\n",
        "    \"monthly_income\": [3000, 8000, 5000, 10000],\n",
        "    \"years_at_company\": [1, 10, 4, 15],\n",
        "    \"overtime\": [1, 0, 1, 0],\n",
        "    \"attrition\": [1, 0, 1, 0]  # Target variable\n",
        "}\n",
        "\n",
        "df = pd.DataFrame(data)\n",
        "\n",
        "X = df.drop(\"attrition\", axis=1)\n",
        "y = df[\"attrition\"]\n",
        "\n",
        "# Train model\n",
        "model = RandomForestClassifier()\n",
        "model.fit(X, y)\n",
        "\n",
        "# Save the model\n",
        "joblib.dump(model, \"model.pkl\")  # ✅ Creates model.pkl file\n"
      ],
      "metadata": {
        "colab": {
          "base_uri": "https://localhost:8080/"
        },
        "id": "gnm1BZtMIYjC",
        "outputId": "d2acf143-b9cf-476d-e1cb-178cec1e534e"
      },
      "execution_count": null,
      "outputs": [
        {
          "output_type": "execute_result",
          "data": {
            "text/plain": [
              "['model.pkl']"
            ]
          },
          "metadata": {},
          "execution_count": 106
        }
      ]
    },
    {
      "cell_type": "code",
      "source": [
        "import os\n",
        "print(\"model.pkl exists:\", os.path.exists(\"model.pkl\"))\n"
      ],
      "metadata": {
        "colab": {
          "base_uri": "https://localhost:8080/"
        },
        "id": "Fn3rhCaCIdJV",
        "outputId": "f39ca5d1-354e-4cf6-ff95-278d9af4b69e"
      },
      "execution_count": null,
      "outputs": [
        {
          "output_type": "stream",
          "name": "stdout",
          "text": [
            "model.pkl exists: True\n"
          ]
        }
      ]
    },
    {
      "cell_type": "code",
      "source": [
        "model = joblib.load(\"model.pkl\")\n"
      ],
      "metadata": {
        "id": "asvNLA8HIgSB"
      },
      "execution_count": null,
      "outputs": []
    },
    {
      "cell_type": "code",
      "source": [
        "!pip install fastapi uvicorn nest-asyncio pyngrok joblib scikit-learn\n"
      ],
      "metadata": {
        "colab": {
          "base_uri": "https://localhost:8080/"
        },
        "id": "Ggh_CpIFIoJs",
        "outputId": "1a5bc925-c946-4f05-bfff-99cea935d580"
      },
      "execution_count": null,
      "outputs": [
        {
          "output_type": "stream",
          "name": "stdout",
          "text": [
            "Requirement already satisfied: fastapi in /usr/local/lib/python3.11/dist-packages (0.115.12)\n",
            "Requirement already satisfied: uvicorn in /usr/local/lib/python3.11/dist-packages (0.34.2)\n",
            "Requirement already satisfied: nest-asyncio in /usr/local/lib/python3.11/dist-packages (1.6.0)\n",
            "Requirement already satisfied: pyngrok in /usr/local/lib/python3.11/dist-packages (7.2.8)\n",
            "Requirement already satisfied: joblib in /usr/local/lib/python3.11/dist-packages (1.4.2)\n",
            "Requirement already satisfied: scikit-learn in /usr/local/lib/python3.11/dist-packages (1.6.1)\n",
            "Requirement already satisfied: starlette<0.47.0,>=0.40.0 in /usr/local/lib/python3.11/dist-packages (from fastapi) (0.46.2)\n",
            "Requirement already satisfied: pydantic!=1.8,!=1.8.1,!=2.0.0,!=2.0.1,!=2.1.0,<3.0.0,>=1.7.4 in /usr/local/lib/python3.11/dist-packages (from fastapi) (2.11.4)\n",
            "Requirement already satisfied: typing-extensions>=4.8.0 in /usr/local/lib/python3.11/dist-packages (from fastapi) (4.13.2)\n",
            "Requirement already satisfied: click>=7.0 in /usr/local/lib/python3.11/dist-packages (from uvicorn) (8.1.8)\n",
            "Requirement already satisfied: h11>=0.8 in /usr/local/lib/python3.11/dist-packages (from uvicorn) (0.16.0)\n",
            "Requirement already satisfied: PyYAML>=5.1 in /usr/local/lib/python3.11/dist-packages (from pyngrok) (6.0.2)\n",
            "Requirement already satisfied: numpy>=1.19.5 in /usr/local/lib/python3.11/dist-packages (from scikit-learn) (2.0.2)\n",
            "Requirement already satisfied: scipy>=1.6.0 in /usr/local/lib/python3.11/dist-packages (from scikit-learn) (1.15.2)\n",
            "Requirement already satisfied: threadpoolctl>=3.1.0 in /usr/local/lib/python3.11/dist-packages (from scikit-learn) (3.6.0)\n",
            "Requirement already satisfied: annotated-types>=0.6.0 in /usr/local/lib/python3.11/dist-packages (from pydantic!=1.8,!=1.8.1,!=2.0.0,!=2.0.1,!=2.1.0,<3.0.0,>=1.7.4->fastapi) (0.7.0)\n",
            "Requirement already satisfied: pydantic-core==2.33.2 in /usr/local/lib/python3.11/dist-packages (from pydantic!=1.8,!=1.8.1,!=2.0.0,!=2.0.1,!=2.1.0,<3.0.0,>=1.7.4->fastapi) (2.33.2)\n",
            "Requirement already satisfied: typing-inspection>=0.4.0 in /usr/local/lib/python3.11/dist-packages (from pydantic!=1.8,!=1.8.1,!=2.0.0,!=2.0.1,!=2.1.0,<3.0.0,>=1.7.4->fastapi) (0.4.0)\n",
            "Requirement already satisfied: anyio<5,>=3.6.2 in /usr/local/lib/python3.11/dist-packages (from starlette<0.47.0,>=0.40.0->fastapi) (4.9.0)\n",
            "Requirement already satisfied: idna>=2.8 in /usr/local/lib/python3.11/dist-packages (from anyio<5,>=3.6.2->starlette<0.47.0,>=0.40.0->fastapi) (3.10)\n",
            "Requirement already satisfied: sniffio>=1.1 in /usr/local/lib/python3.11/dist-packages (from anyio<5,>=3.6.2->starlette<0.47.0,>=0.40.0->fastapi) (1.3.1)\n"
          ]
        }
      ]
    },
    {
      "cell_type": "code",
      "source": [
        "import pandas as pd\n",
        "from sklearn.ensemble import RandomForestClassifier\n",
        "import joblib\n",
        "\n",
        "# Sample training data\n",
        "data = {\n",
        "    \"age\": [25, 45, 30, 50],\n",
        "    \"job_level\": [1, 3, 2, 4],\n",
        "    \"monthly_income\": [3000, 8000, 5000, 10000],\n",
        "    \"years_at_company\": [1, 10, 4, 15],\n",
        "    \"overtime\": [1, 0, 1, 0],\n",
        "    \"attrition\": [1, 0, 1, 0]  # Target (0 = No, 1 = Yes)\n",
        "}\n",
        "\n",
        "df = pd.DataFrame(data)\n",
        "\n",
        "X = df.drop(\"attrition\", axis=1)\n",
        "y = df[\"attrition\"]\n",
        "\n",
        "# Train the model\n",
        "model = RandomForestClassifier()\n",
        "model.fit(X, y)\n",
        "\n",
        "# Save model to file\n",
        "joblib.dump(model, \"model.pkl\")\n"
      ],
      "metadata": {
        "colab": {
          "base_uri": "https://localhost:8080/"
        },
        "id": "USo2YoQ5IrHh",
        "outputId": "9745633e-3e4a-4312-9203-86367dc5bd14"
      },
      "execution_count": null,
      "outputs": [
        {
          "output_type": "execute_result",
          "data": {
            "text/plain": [
              "['model.pkl']"
            ]
          },
          "metadata": {},
          "execution_count": 110
        }
      ]
    },
    {
      "cell_type": "code",
      "source": [
        "%%writefile app.py\n",
        "from fastapi import FastAPI\n",
        "from pydantic import BaseModel\n",
        "import joblib\n",
        "\n",
        "app = FastAPI()\n",
        "model = joblib.load(\"model.pkl\")\n",
        "\n",
        "class EmployeeData(BaseModel):\n",
        "    age: int\n",
        "    job_level: int\n",
        "    monthly_income: float\n",
        "    years_at_company: int\n",
        "    overtime: int  # 1 for Yes, 0 for No\n",
        "\n",
        "@app.post(\"/predict\")\n",
        "def predict(data: EmployeeData):\n",
        "    input_data = [[\n",
        "        data.age, data.job_level, data.monthly_income,\n",
        "        data.years_at_company, data.overtime\n",
        "    ]]\n",
        "    prediction = model.predict(input_data)\n",
        "    return {\"attrition_risk\": int(prediction[0])}\n"
      ],
      "metadata": {
        "colab": {
          "base_uri": "https://localhost:8080/"
        },
        "id": "hve86mljIuQw",
        "outputId": "459feb15-3046-482e-d7a4-820b7bed969e"
      },
      "execution_count": null,
      "outputs": [
        {
          "output_type": "stream",
          "name": "stdout",
          "text": [
            "Overwriting app.py\n"
          ]
        }
      ]
    },
    {
      "cell_type": "code",
      "source": [
        "!pip install python-multipart\n"
      ],
      "metadata": {
        "colab": {
          "base_uri": "https://localhost:8080/"
        },
        "id": "INNkooezI0kW",
        "outputId": "26c95ea1-3567-4cc2-dcdd-5f54f933d910"
      },
      "execution_count": null,
      "outputs": [
        {
          "output_type": "stream",
          "name": "stdout",
          "text": [
            "Collecting python-multipart\n",
            "  Downloading python_multipart-0.0.20-py3-none-any.whl.metadata (1.8 kB)\n",
            "Downloading python_multipart-0.0.20-py3-none-any.whl (24 kB)\n",
            "Installing collected packages: python-multipart\n",
            "Successfully installed python-multipart-0.0.20\n"
          ]
        }
      ]
    },
    {
      "cell_type": "code",
      "source": [
        "import nest_asyncio\n",
        "from pyngrok import ngrok\n",
        "import uvicorn\n",
        "\n",
        "nest_asyncio.apply()\n",
        "\n",
        "# Open ngrok tunnel\n",
        "public_url = ngrok.connect(8000)\n",
        "print(f\"Public URL: {public_url}\")\n",
        "\n",
        "# Start server\n",
        "uvicorn.run(\"app:app\", host=\"0.0.0.0\", port=8000)\n"
      ],
      "metadata": {
        "colab": {
          "base_uri": "https://localhost:8080/"
        },
        "id": "0AwcYe6JJzJe",
        "outputId": "c1d482c4-b09c-4194-a92e-4adc348ee1b2"
      },
      "execution_count": null,
      "outputs": [
        {
          "output_type": "stream",
          "name": "stdout",
          "text": [
            "Public URL: NgrokTunnel: \"https://27ca-34-73-74-194.ngrok-free.app\" -> \"http://localhost:8000\"\n"
          ]
        },
        {
          "output_type": "stream",
          "name": "stderr",
          "text": [
            "INFO:     Started server process [393]\n",
            "INFO:     Waiting for application startup.\n",
            "INFO:     Application startup complete.\n",
            "INFO:     Uvicorn running on http://0.0.0.0:8000 (Press CTRL+C to quit)\n",
            "INFO:     Shutting down\n",
            "INFO:     Waiting for application shutdown.\n",
            "INFO:     Application shutdown complete.\n",
            "INFO:     Finished server process [393]\n"
          ]
        }
      ]
    },
    {
      "cell_type": "code",
      "source": [
        "import uvicorn\n",
        "import numpy as np\n",
        "from fastapi import FastAPI, HTTPException, File, UploadFile\n",
        "from pydantic import BaseModel\n",
        "import pickle\n",
        "\n",
        "# Load the pre-trained model\n",
        "try:\n",
        "    with open(\"model.pkl\", \"rb\") as model_file:\n",
        "        model = pickle.load(model_file)\n",
        "except FileNotFoundError:\n",
        "    raise FileNotFoundError(\"Model file not found. Please ensure 'model.pkl' exists.\")\n",
        "\n",
        "# Create a FastAPI instance\n",
        "app = FastAPI()\n",
        "\n",
        "# Pydantic model for request validation\n",
        "class PredictRequest(BaseModel):\n",
        "    data: list\n",
        "\n",
        "@app.get(\"/\")\n",
        "def read_root():\n",
        "    return {\"message\": \"Welcome to the model API!\"}\n",
        "\n",
        "@app.post(\"/predict\")\n",
        "async def predict(data: PredictRequest):\n",
        "    try:\n",
        "        # Ensure that the data is a proper array\n",
        "        data_array = np.array(data.data).reshape(1, -1)\n",
        "        prediction = model.predict(data_array)\n",
        "        return {\"prediction\": prediction.tolist()}\n",
        "    except Exception as e:\n",
        "        raise HTTPException(status_code=400, detail=f\"Prediction error: {str(e)}\")\n",
        "\n",
        "@app.post(\"/upload\")\n",
        "async def upload_file(file: UploadFile = File(...)):\n",
        "    try:\n",
        "        # You can handle file uploads here, for example:\n",
        "        content = await file.read()\n",
        "        # Process the file (e.g., if it’s an image or text) as needed\n",
        "        return {\"filename\": file.filename, \"content\": content.decode(\"utf-8\")[:100]}  # Just returning the first 100 chars\n",
        "    except Exception as e:\n",
        "        raise HTTPException(status_code=500, detail=f\"Error processing file: {str(e)}\")\n",
        "\n",
        "if __name__ == \"__main__\":\n",
        "    uvicorn.run(app, host=\"0.0.0.0\", port=8000)\n"
      ],
      "metadata": {
        "colab": {
          "base_uri": "https://localhost:8080/"
        },
        "id": "UKAkxQwBKTEv",
        "outputId": "ab3fd14d-0eb1-4d73-a59b-a76e1f6f4088"
      },
      "execution_count": null,
      "outputs": [
        {
          "output_type": "stream",
          "name": "stderr",
          "text": [
            "INFO:     Started server process [393]\n",
            "INFO:     Waiting for application startup.\n",
            "INFO:     Application startup complete.\n",
            "INFO:     Uvicorn running on http://0.0.0.0:8000 (Press CTRL+C to quit)\n",
            "INFO:     Shutting down\n",
            "INFO:     Waiting for application shutdown.\n",
            "INFO:     Application shutdown complete.\n",
            "INFO:     Finished server process [393]\n"
          ]
        }
      ]
    }
  ],
  "metadata": {
    "colab": {
      "provenance": []
    },
    "kernelspec": {
      "display_name": "Python 3",
      "name": "python3"
    },
    "language_info": {
      "name": "python"
    }
  },
  "nbformat": 4,
  "nbformat_minor": 0
}